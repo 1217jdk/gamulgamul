{
  "cells": [
    {
      "cell_type": "code",
      "execution_count": null,
      "metadata": {
        "autoscroll": "auto"
      },
      "outputs": [],
      "source": [
        "%spark.conf\n",
        "\n",
        "SPARK_HOME  /usr/local/spark\n",
        "PYSPARK_PYTHON /usr/bin/python3\n",
        "spark.pyspark.python  /usr/bin/python3\n",
        "\n",
        "# set driver memory to 8g\n",
        "spark.driver.memory 8g\n",
        "\n",
        "# set executor number to be 3\n",
        "spark.executor.instances  3\n",
        "\n",
        "# set executor memory 4g\n",
        "spark.executor.memory  2g\n",
        "\n",
        "# Any other spark properties can be set here. Here's avaliable spark configruation you can set. (http://spark.apache.org/docs/latest/configuration.html)"
      ]
    },
    {
      "cell_type": "code",
      "execution_count": 1,
      "metadata": {
        "autoscroll": "auto"
      },
      "outputs": [],
      "source": [
        "%pyspark\n",
        "g_sdf = spark.read.format(\"jdbc\")\\\n",
        "    .option(\"url\", \"jdbc:mysql://j7d108.p.ssafy.io:3306/gamulgamul_test3?useSSL=false&characterEncoding=UTF-8&useUnicode=true&allowPublicKeyRetrieval=true&serverTimezone=Asia/Seoul\") \\\n",
        "    .option(\"driver\", \"com.mysql.cj.jdbc.Driver\")\\\n",
        "    .option(\"query\", \"select goods_id, name from goods\") \\\n",
        "    .option(\"user\", \"ji\")\\\n",
        "    .option(\"password\", \"cvgkbhs234r#8tdx\").load()\n",
        "    \n",
        "g_sdf.show()\n",
        "g_name = g_sdf.toPandas()['name']\n",
        "g_name"
      ]
    },
    {
      "cell_type": "code",
      "execution_count": 2,
      "metadata": {
        "autoscroll": "auto"
      },
      "outputs": [],
      "source": [
        "%pyspark\n",
        "import pandas as pd\n",
        "import numpy as np\n",
        "import datetime\n",
        "from tqdm import tqdm\n",
        "import os\n",
        "import sys\n",
        "import urllib.request\n",
        "import json, pprint\n",
        "import pickle\n",
        "\n",
        "### api 키\n",
        "client_id = \"a8DDB5LJUVwh8_MWPtSj\"\n",
        "client_secret = \"hKlWjoMufh\"\n",
        "\n",
        "\n",
        "def get_goods_cheap_url(goods_name):\n",
        "  encText = urllib.parse.quote(goods_name)\n",
        "  url = \"https://openapi.naver.com/v1/search/shop.json?exclude=used:rental:cbshop&start=1&display=30&sort=sim&query=\" + encText \n",
        "  request = urllib.request.Request(url)\n",
        "  request.add_header(\"X-Naver-Client-Id\",client_id)\n",
        "  request.add_header(\"X-Naver-Client-Secret\",client_secret)\n",
        "  response = urllib.request.urlopen(request)\n",
        "  rescode = response.getcode()\n",
        "\n",
        "  if(rescode==200):\n",
        "    response_body = response.read()\n",
        "    res = json.loads(response_body.decode('utf-8'))\n",
        "  else:\n",
        "    print(\"Error Code:\" + rescode)\n",
        "    return\n",
        "    \n",
        "  id = goodsId[goods_name]\n",
        "  if not res['items']:\n",
        "    return id, None\n",
        "  cheap = sorted(res['items'], key= lambda x: int(x['lprice']))[0]\n",
        "  return id, cheap.get('link')"
      ]
    },
    {
      "cell_type": "code",
      "execution_count": 3,
      "metadata": {
        "autoscroll": "auto"
      },
      "outputs": [],
      "source": [
        "%pyspark\n",
        "for name in g_name:\n",
        "    print(name)"
      ]
    },
    {
      "cell_type": "code",
      "execution_count": 4,
      "metadata": {
        "autoscroll": "auto"
      },
      "outputs": [],
      "source": [
        "%pyspark\n",
        "with open('/DB_data/goodsName_goodsId.pickle', 'rb') as f:\n",
        "    goodsId = pickle.load(f)\n",
        "goodsId"
      ]
    },
    {
      "cell_type": "code",
      "execution_count": 5,
      "metadata": {
        "autoscroll": "auto"
      },
      "outputs": [],
      "source": [
        "%MySQL\n",
        "select * from goods"
      ]
    },
    {
      "cell_type": "code",
      "execution_count": 6,
      "metadata": {
        "autoscroll": "auto"
      },
      "outputs": [],
      "source": [
        "%pyspark\n",
        "import requests\n",
        "url = \"http://3.36.106.26:8081/api/notebook/run/2HD9NBXQX/paragraph_1664176216600_9409959\"\n",
        "\n",
        "for name in g_name:\n",
        "    goods_id, cheap_url = get_goods_cheap_url(name)\n",
        "    req = requests.post(url, json={\"params\": {\"cheap_url\": cheap_url, \"goods_id\": str(goods_id)}})\n",
        "    # if req.status != 'OK':\n",
        "    #     print(req.body.msg)\n",
        "    "
      ]
    },
    {
      "cell_type": "code",
      "execution_count": 7,
      "metadata": {
        "autoscroll": "auto"
      },
      "outputs": [],
      "source": [
        "%MySQL\n",
        "UPDATE goods SET cheap_url = '${cheap_url}' WHERE goods_id = CAST('${goods_id}' AS UNSIGNED);"
      ]
    },
    {
      "cell_type": "code",
      "execution_count": 8,
      "metadata": {
        "autoscroll": "auto"
      },
      "outputs": [],
      "source": [
        "%MySQL\n",
        "select * from goods"
      ]
    },
    {
      "cell_type": "code",
      "execution_count": 9,
      "metadata": {
        "autoscroll": "auto"
      },
      "outputs": [],
      "source": [
        "%pyspark\n",
        "strange_goods_id = [26, 165, 192, 200, 231, 252, 253, 277, 278, 279, 280, 281, 282, 292, 293, 294, 315]\n",
        "\n",
        "url = \"http://3.36.106.26:8081/api/notebook/run/2HD9NBXQX/paragraph_1664176216600_9409959\"\n",
        "\n",
        "for goods_id in strange_goods_id:\n",
        "    req = requests.post(url, json={\"params\": {\"cheap_url\": None, \"goods_id\": str(goods_id)}})\n",
        "    "
      ]
    },
    {
      "cell_type": "code",
      "execution_count": 10,
      "metadata": {
        "autoscroll": "auto"
      },
      "outputs": [],
      "source": [
        "%MySQL\n",
        "-- 검색 결과 없는 것들 이미지 바꾸기\n",
        "UPDATE goods SET img=\"https://j7d108.p.ssafy.io/resource/logo.png\" WHERE goods_id IN (26, 165, 192, 200, 231, 252, 253, 277, 278, 279, 280, 281, 282, 292, 293, 294, 315)"
      ]
    },
    {
      "cell_type": "markdown",
      "metadata": {},
      "source": [
        "# 자동화 실행"
      ]
    },
    {
      "cell_type": "code",
      "execution_count": 12,
      "metadata": {
        "autoscroll": "auto"
      },
      "outputs": [],
      "source": [
        "%pyspark\n",
        "import pandas as pd\n",
        "import numpy as np\n",
        "import datetime\n",
        "from tqdm import tqdm\n",
        "import os\n",
        "import sys\n",
        "import urllib.request\n",
        "import json, pprint\n",
        "import pickle\n",
        "\n",
        "# goodsName_goodsId pickle load\n",
        "with open('/DB_data/goodsName_goodsId.pickle', 'rb') as f:\n",
        "    goodsId = pickle.load(f)\n",
        "\n",
        "# select goods_id, name from goods\n",
        "g_sdf = spark.read.format(\"jdbc\")\\\n",
        "    .option(\"url\", \"jdbc:mysql://j7d108.p.ssafy.io:3306/gamulgamul_test3?useSSL=false&characterEncoding=UTF-8&useUnicode=true&allowPublicKeyRetrieval=true&serverTimezone=Asia/Seoul\") \\\n",
        "    .option(\"driver\", \"com.mysql.cj.jdbc.Driver\")\\\n",
        "    .option(\"query\", \"select goods_id, name from goods\") \\\n",
        "    .option(\"user\", \"ji\")\\\n",
        "    .option(\"password\", \"cvgkbhs234r#8tdx\").load()\n",
        "    \n",
        "# name to list\n",
        "g_name = g_sdf.toPandas()['name']\n",
        "\n",
        "\n",
        "### api 키\n",
        "client_id = \"a8DDB5LJUVwh8_MWPtSj\"\n",
        "client_secret = \"hKlWjoMufh\"\n",
        "\n",
        "# get Naver API cheap_url by goods_name function\n",
        "def get_goods_cheap_url(goods_name):\n",
        "  encText = urllib.parse.quote(goods_name)\n",
        "  url = \"https://openapi.naver.com/v1/search/shop.json?exclude=used:rental:cbshop&start=1&display=30&sort=sim&query=\" + encText \n",
        "  request = urllib.request.Request(url)\n",
        "  request.add_header(\"X-Naver-Client-Id\",client_id)\n",
        "  request.add_header(\"X-Naver-Client-Secret\",client_secret)\n",
        "  response = urllib.request.urlopen(request)\n",
        "  rescode = response.getcode()\n",
        "\n",
        "  if(rescode==200):\n",
        "    response_body = response.read()\n",
        "    res = json.loads(response_body.decode('utf-8'))\n",
        "  else:\n",
        "    print(\"Error Code:\" + rescode)\n",
        "    return\n",
        "    \n",
        "  id = goodsId[goods_name]\n",
        "  if not res['items']:\n",
        "    return id, None\n",
        "  cheap = sorted(res['items'], key= lambda x: int(x['lprice']))[0]\n",
        "  return id, cheap.get('link')\n",
        "\n",
        "# automatical run paragraph to update sql goods table cheap_url column\n",
        "import requests\n",
        "url = \"http://3.36.106.26:8081/api/notebook/run/2HD9NBXQX/paragraph_1664176216600_9409959\"\n",
        "\n",
        "for name in g_name:\n",
        "    goods_id, cheap_url = get_goods_cheap_url(name)\n",
        "    req = requests.post(url, json={\"params\": {\"cheap_url\": cheap_url, \"goods_id\": str(goods_id)}})\n",
        "\n",
        "# missing values update sql goods table cheap_url column as None \n",
        "strange_goods_id = [26, 165, 192, 200, 231, 252, 253, 277, 278, 279, 280, 281, 282, 292, 293, 294, 315]\n",
        "for goods_id in strange_goods_id:\n",
        "    req = requests.post(url, json={\"params\": {\"cheap_url\": None, \"goods_id\": str(goods_id)}})"
      ]
    },
    {
      "cell_type": "code",
      "execution_count": 13,
      "metadata": {
        "autoscroll": "auto"
      },
      "outputs": [],
      "source": [
        "%pyspark\n",
        "requests.post(\"http://3.36.106.26:8081/api/notebook/run/2HD9NBXQX/paragraph_1664179874437_1108003918\")"
      ]
    },
    {
      "cell_type": "code",
      "execution_count": 14,
      "metadata": {
        "autoscroll": "auto"
      },
      "outputs": [],
      "source": [
        "%MySQL\n",
        "UPDATE goods SET product_id=37 WHERE goods_id=94"
      ]
    },
    {
      "cell_type": "raw",
      "metadata": {
        "format": "text/plain"
      },
      "source": [
        "%MySQL\n"
      ]
    }
  ],
  "metadata": {
    "kernelspec": {
      "display_name": "Python 3.5.3 64-bit",
      "language": "python",
      "name": "python3"
    },
    "language_info": {
      "codemirror_mode": "text/x-scala",
      "file_extension": ".scala",
      "mimetype": "text/x-scala",
      "name": "python",
      "pygments_lexer": "scala",
      "version": "3.5.3"
    },
    "name": "9_[daily]goods_table_cheapurl",
    "vscode": {
      "interpreter": {
        "hash": "258f26f01679168288d2a511907b76277bad0a45e5c122a58448b41a9b5915f6"
      }
    }
  },
  "nbformat": 4,
  "nbformat_minor": 2
}
