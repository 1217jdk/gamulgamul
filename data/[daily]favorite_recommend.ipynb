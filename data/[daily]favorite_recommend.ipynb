﻿{
  "metadata": {
    "name": "[daily]07_favorite_recommend",
    "kernelspec": {
      "language": "scala",
      "name": "spark2-scala"
    },
    "language_info": {
      "codemirror_mode": "text/x-scala",
      "file_extension": ".scala",
      "mimetype": "text/x-scala",
      "name": "scala",
      "pygments_lexer": "scala"
    }
  },
  "nbformat": 4,
  "nbformat_minor": 2,
  "cells": [
    {
      "cell_type": "code",
      "execution_count": 0,
      "metadata": {
        "autoscroll": "auto"
      },
      "outputs": [],
      "source": "%spark.conf\n\nSPARK_HOME  /usr/local/spark\nPYSPARK_PYTHON /usr/bin/python3\nspark.pyspark.python  /usr/bin/python3\n\n# set driver memory to 8g\nspark.driver.memory 8g\n\n# set executor number to be 3\nspark.executor.instances  3\n\n# set executor memory 4g\nspark.executor.memory  2g"
    },
    {
      "cell_type": "code",
      "execution_count": 1,
      "metadata": {
        "autoscroll": "auto"
      },
      "outputs": [],
      "source": "%MySQL\nTRUNCATE favorite_recommend"
    },
    {
      "cell_type": "code",
      "execution_count": 2,
      "metadata": {
        "autoscroll": "auto"
      },
      "outputs": [],
      "source": "%MySQL\nselect * from favorite_goods"
    },
    {
      "cell_type": "code",
      "execution_count": 3,
      "metadata": {
        "autoscroll": "auto"
      },
      "outputs": [],
      "source": "%pyspark\n# module import\nimport math\nimport requests\n## SQL\nfrom pyspark.sql import SparkSession\nfrom pyspark.sql import SQLContext\nfrom pyspark.sql.functions import mean, col, split, regexp_extract, when, lit\n## ML\nfrom pyspark.ml import Pipeline\nfrom pyspark.ml.feature import StringIndexer, VectorAssembler, IndexToString\nfrom pyspark.ml.feature import QuantileDiscretizer\nfrom pyspark.ml.evaluation import MulticlassClassificationEvaluator\nfrom pyspark.ml.recommendation import ALS\n\n\n# select goods_id, user_id, reg_date from favorite_goods\nfav_sdf \u003d spark.read.format(\"jdbc\")\\\n    .option(\"url\", \"jdbc:mysql://j7d108.p.ssafy.io:3306/gamulgamul_test3?useSSL\u003dfalse\u0026characterEncoding\u003dUTF-8\u0026useUnicode\u003dtrue\u0026allowPublicKeyRetrieval\u003dtrue\u0026serverTimezone\u003dAsia/Seoul\") \\\n    .option(\"driver\", \"com.mysql.cj.jdbc.Driver\")\\\n    .option(\"query\", \"select goods_id, user_id, reg_date from favorite_goods\")\\\n    .option(\"user\", \"ji\")\\\n    .option(\"password\", \"cvgkbhs234r#8tdx\").load()\n\n# user_id list who has favorite_goods\nusers_id \u003d fav_sdf.select(\u0027user_id\u0027).distinct().rdd.map(lambda x : x[0]).collect()\n\n\n# sigmoid function to weight date\ndef sigmoid(x):\n  return 1 / (1 + math.exp(-x))\nsigmoid \u003d udf(sigmoid)\n\n\n# get score by calculate weight by sigmoid function\nfav_sdf \u003d fav_sdf.select(\n    \u0027goods_id\u0027,\n    \u0027user_id\u0027,\n    sigmoid(datediff(current_date(), col(\u0027reg_date\u0027))).cast(\u0027float\u0027).alias(\u0027score\u0027)\n    )\n\n\n# ALS training\ntrain, test \u003d fav_sdf.randomSplit([0.75, 0.25], seed\u003d1)\n\nfav_rec \u003d ALS(maxIter\u003d10,\n         regParam\u003d0.01,\n         userCol\u003d\u0027user_id\u0027,\n         itemCol\u003d\u0027goods_id\u0027,\n         ratingCol\u003d\u0027score\u0027, \n         nonnegative\u003dTrue,\n         coldStartStrategy\u003d\u0027drop\u0027)\n\nfav_rec_model \u003d fav_rec.fit(train)\nfav_pred_ratings \u003d fav_rec_model.transform(test)\n\n\n# goods recommendation function to user_id, top n\ndef top_fav(user_id, n):\n    \"\"\"\n    특정 user_id가 좋아할 만한 n개의 상품 추천해주는 함수\n    \"\"\"\n \n    # 특정 user_id가 즐겨찾기에 담은 상품의 상품id로 새로운 데이터프레임 생성\n    fav_goods \u003d fav_sdf.filter((fav_sdf[\u0027user_id\u0027] \u003d\u003d user_id)).select(\u0027goods_id\u0027)\n\n    # 특정 user_id가 즐겨찾기에 담은 상품들을 \u0027tmp\u0027라는 데이터프레임으로 alias시키기\n    tmp \u003d fav_goods.alias(\u0027tmp\u0027)\n    tmp \u003d tmp.withColumnRenamed(\u0027goods_id\u0027, \u0027tmp_goods_id\u0027)\n\n    # sdf 기준으로 tmp 조인시켜서 user_id가 즐겨찾기에 담지 않은 상품 파악 가능\n    fav_total_goods \u003d fav_sdf.join(tmp, fav_sdf[\u0027goods_id\u0027] \u003d\u003d tmp[\u0027tmp_goods_id\u0027],how\u003d\u0027left\u0027)\n\n    # tmp 데이터프레임의 goods_id 결측치를 갖고 있는 행의 sdf.goods_id 뽑아냄으로써 user_id가 아직 즐겨찾기에 담지 않은 상품 추출\n    fav_remain_goods \u003d fav_total_goods\\\n                       .where(col(\u0027tmp_goods_id\u0027).isNull())\\\n                       .select(\u0027goods_id\u0027).distinct()\n\n    # fav_remain_goods 데이터프레임에 특정 user_id값을 동일하게 새로운 변수로 추가해주기\n    fav_remain_goods \u003d fav_remain_goods.withColumn(\u0027user_id\u0027, lit(int(user_id)))\n\n    # 위에서 만든 ALS 모델을 사용하여 추천 상품 예측 후 n개 만큼 view -\u003e \n    recommender \u003d fav_rec_model.transform(fav_remain_goods)\\\n                           .orderBy(\u0027prediction\u0027, ascending\u003dFalse)\\\n                           .limit(n)\n                           \n    goods_table \u003d spark.read.csv(\u0027/DB_data/goods_table.csv\u0027, header\u003dTrue, inferSchema\u003dTrue)\n    goods_table \u003d goods_table.withColumnRenamed(\u0027goods_id\u0027, \u0027idx\u0027)\n    \n    final_recommendations \u003d goods_table.join(recommender, goods_table[\u0027idx\u0027]\u003d\u003drecommender[\u0027goods_id\u0027], how\u003d\u0027inner\u0027)\n    final_recommendations \u003d final_recommendations.withColumnRenamed(\u0027prediction\u0027, \u0027score\u0027)\n    final_recommendations \u003d final_recommendations.select([\u0027user_id\u0027, \u0027goods_id\u0027, \u0027score\u0027]).orderBy(\u0027score\u0027, ascending\u003dFalse)\n    \n    return final_recommendations\n\n\n# favorite_recommend truncate\nrequests.post(\"http://3.36.106.26:8081/api/notebook/run/2HDR64PXZ/paragraph_1664290153789_2140948920\")\n\n\n# favorite_recommend append\nurl \u003d \"jdbc:mysql://j7d108.p.ssafy.io:3306/gamulgamul_test3?useSSL\u003dfalse\u0026characterEncoding\u003dUTF-8\u0026useUnicode\u003dtrue\u0026allowPublicKeyRetrieval\u003dtrue\u0026serverTimezone\u003dAsia/Seoul\"\nprop \u003d {\"user\": \"ji\", \"password\": \"cvgkbhs234r#8tdx\", \"driver\": \"com.mysql.cj.jdbc.Driver\"} \n\nfor id in users_id:\n    rec_sdf \u003d top_fav(id, 5)\n    # rec_sdf.show()\n    rec_sdf.write.jdbc(\\\n        url\u003d url,\\\n        table \u003d \"favorite_recommend\",\\\n        mode\u003d\"append\",\\\n        properties\u003dprop)"
    },
    {
      "cell_type": "code",
      "execution_count": 4,
      "metadata": {
        "autoscroll": "auto"
      },
      "outputs": [],
      "source": "%pyspark\n# 매일 자동화 실행\nrequests.post(\"http://3.36.106.26:8081/api/notebook/run/2HDR64PXZ/paragraph_1664289615264_120085320\")"
    },
    {
      "cell_type": "code",
      "execution_count": 5,
      "metadata": {
        "autoscroll": "auto"
      },
      "outputs": [],
      "source": "%MySQL\nselect * from favorite_recommend"
    },
    {
      "cell_type": "raw",
      "metadata": {
        "format": "text/plain"
      },
      "source": "%MySQL\n"
    }
  ]
}