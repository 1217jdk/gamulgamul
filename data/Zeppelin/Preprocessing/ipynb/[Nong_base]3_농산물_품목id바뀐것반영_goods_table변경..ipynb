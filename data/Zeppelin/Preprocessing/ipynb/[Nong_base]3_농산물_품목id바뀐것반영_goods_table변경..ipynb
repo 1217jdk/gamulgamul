﻿{
  "metadata": {
    "name": "[Nong_base]3_농산물_품목id바뀐것반영_goods_table변경",
    "kernelspec": {
      "language": "scala",
      "name": "spark2-scala"
    },
    "language_info": {
      "codemirror_mode": "text/x-scala",
      "file_extension": ".scala",
      "mimetype": "text/x-scala",
      "name": "scala",
      "pygments_lexer": "scala"
    }
  },
  "nbformat": 4,
  "nbformat_minor": 2,
  "cells": [
    {
      "cell_type": "markdown",
      "metadata": {},
      "source": "# 1. DB에서 바꿔야 하는 것들\n+ **goods table 변경**\n    + **name 변경** \n    + **product_id 변경하면서, productIdOld_productIdNew pickle 만들기**\n+ product table 변경\n    + productIdOld_productIdNew로 product_id 변경\n    + product name 변경\n\n+ product_price의 date_type \u003d \u0027m\u0027 경우의 것들 productId 바꿔주기\n    + productIdOld_productIdNew로 product_id 변경"
    },
    {
      "cell_type": "markdown",
      "metadata": {},
      "source": "## [1] goods table 변경 - product_id"
    },
    {
      "cell_type": "markdown",
      "metadata": {},
      "source": "### (1) 기존 csv load"
    },
    {
      "cell_type": "code",
      "execution_count": 3,
      "metadata": {
        "autoscroll": "auto"
      },
      "outputs": [],
      "source": "%pyspark\nimport pandas as pd\npd.set_option(\u0027display.max_columns\u0027,None)\npd.set_option(\u0027display.width\u0027,None)\nold_goods \u003d pd.read_csv(\u0027/DB_data/goods_table_new.csv\u0027)\nold_goods"
    },
    {
      "cell_type": "markdown",
      "metadata": {},
      "source": " \n### (2) 기존의 product_id와 새로운 product_id를 표기하는 productIdOld_productIdNew pickle 만들기\n+ goods_id 는 동일"
    },
    {
      "cell_type": "code",
      "execution_count": 5,
      "metadata": {
        "autoscroll": "auto"
      },
      "outputs": [],
      "source": "%pyspark\n\n# 1. 새로운 pickle load\nimport pickle\n\nwith open(\u0027/nongsanmul_data/nong_goodsId_productId.pickle\u0027,\u0027rb\u0027) as fr:\n    nong_goodsId_productId \u003d pickle.load(fr)\nnong_goodsId_productId"
    },
    {
      "cell_type": "code",
      "execution_count": 6,
      "metadata": {
        "autoscroll": "auto"
      },
      "outputs": [],
      "source": "%pyspark\n# 2. 기존의 {goods_id : product_id} 생성\nold_goodsId_productId \u003d {}\nfor i in range(len(old_goods)):\n    goodsId \u003d old_goods.loc[i,\u0027goods_id\u0027]\n    oldProductId \u003d old_goods.loc[i,\u0027product_id\u0027]\n    old_goodsId_productId[goodsId] \u003d oldProductId\nold_goodsId_productId"
    },
    {
      "cell_type": "code",
      "execution_count": 7,
      "metadata": {
        "autoscroll": "auto"
      },
      "outputs": [],
      "source": "%pyspark\n# 3. productIdOld_productIdNew 생성 후, pickle 로 저장\n# 생성\nproductIdOld_productIdNew \u003d {}\n\nfor goodsId in nong_goodsId_productId:\n    productIdOld \u003d old_goodsId_productId[goodsId]      # 해당 goods_id의 과거 product_id\n    productIdNew \u003d nong_goodsId_productId[goodsId]     # 해당 goods_id의 현재 product_id\n    productIdOld_productIdNew[productIdOld] \u003d productIdNew\n\nproductIdOld_productIdNew\n\n\n# 저장\nimport pickle\nwith open(\u0027/DB_data/productIdOld_productIdNew_1001.pickle\u0027,\u0027wb\u0027) as fw:\n    pickle.dump(productIdOld_productIdNew, fw)\n"
    },
    {
      "cell_type": "markdown",
      "metadata": {},
      "source": "### (3) 기존 csv 변경 후\n+ product_id 변경\n+ 참다래 삭제 : goods_id \u003d 20011"
    },
    {
      "cell_type": "code",
      "execution_count": 9,
      "metadata": {
        "autoscroll": "auto"
      },
      "outputs": [],
      "source": "%pyspark\n\nnew_goods \u003d old_goods.copy()\n\n# 1. 참다래(국산) 삭제 goods_id \u003d 20011\nnew_goods \u003d new_goods[new_goods[\u0027goods_id\u0027]!\u003d20011]\nnew_goods \u003d new_goods.reset_index(drop\u003dTrue)\n\n\n# 2. product_id 변경\nfor i in range(len(new_goods)):\n    goods_id \u003d new_goods.loc[i,\u0027goods_id\u0027]\n    # change product id , if the goods_id is over 20000\n    if goods_id \u003e\u003d20000:\n        new_productId \u003d nong_goodsId_productId[goods_id]\n        new_goods.loc[i,\u0027product_id\u0027] \u003d new_productId\n\n\n\n\n"
    },
    {
      "cell_type": "markdown",
      "metadata": {},
      "source": "## [2] goods table 변경 - goods name"
    },
    {
      "cell_type": "markdown",
      "metadata": {},
      "source": "### (1) goodsId_goodsName pickle load 후, goods_name 변경"
    },
    {
      "cell_type": "code",
      "execution_count": 12,
      "metadata": {
        "autoscroll": "auto"
      },
      "outputs": [],
      "source": "%pyspark\n# 1. 이름 변경할 df\nnew_goods_name_pdf \u003d new_goods.copy()\nnew_goods_name_pdf \u003d new_goods_name_pdf.reset_index(drop\u003dTrue)\n# print(new_goods_name_pdf)\n\n# 2. goodsId_goodsName pickle 가져오기\nimport pickle\nwith open(\u0027/nongsanmul_data/nong_goodsId_goodsName.pickle\u0027,\u0027rb\u0027) as fr:\n    nong_goodsId_goodsName \u003d pickle.load(fr)\nprint(nong_goodsId_goodsName)\n\n# 3. goods_name 변경\nfor i in range(len(new_goods_name_pdf)):\n    goods_id \u003d new_goods_name_pdf.loc[i,\u0027goods_id\u0027]\n    # if goods is 농산물\n    if goods_id \u003e\u003d 20000:\n        new_goods_name \u003d nong_goodsId_goodsName[goods_id]\n        new_goods_name_pdf.loc[i,\u0027name\u0027] \u003d new_goods_name\nprint(new_goods_name_pdf)  "
    },
    {
      "cell_type": "markdown",
      "metadata": {},
      "source": "### (2) 저장\n"
    },
    {
      "cell_type": "code",
      "execution_count": 14,
      "metadata": {
        "autoscroll": "auto"
      },
      "outputs": [],
      "source": "%pyspark\n\n# 1. 저장\nnew_goods_name_pdf.to_csv(\u0027/DB_data/goods_table_1001.csv\u0027, index\u003dFalse, header\u003dTrue)"
    },
    {
      "cell_type": "raw",
      "metadata": {
        "format": "text/plain"
      },
      "source": "%pyspark\n"
    }
  ]
}