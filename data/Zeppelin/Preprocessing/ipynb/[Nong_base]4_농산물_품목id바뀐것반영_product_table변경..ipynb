﻿{
  "metadata": {
    "name": "[Nong_base]4_농산물_품목id바뀐것반영_product_table변경",
    "kernelspec": {
      "language": "scala",
      "name": "spark2-scala"
    },
    "language_info": {
      "codemirror_mode": "text/x-scala",
      "file_extension": ".scala",
      "mimetype": "text/x-scala",
      "name": "scala",
      "pygments_lexer": "scala"
    }
  },
  "nbformat": 4,
  "nbformat_minor": 2,
  "cells": [
    {
      "cell_type": "markdown",
      "metadata": {},
      "source": "# 1. DB에서 바꿔야 하는 것들\n+ goods table 변경\n    + name 변경 \n    + product_id 변경하면서, productIdOld_productIdNew pickle 만들기\n+ **product table 변경**\n    + **productIdOld_productIdNew로 product_id 변경**\n    + **product name 변경**\n    + **product measure 변경**\n    + **productId_categoryId.pickle 생성**\n\n+ product_price의 date_type \u003d \u0027m\u0027 경우의 것들 productId 바꿔주기\n    + productIdOld_productIdNew로 product_id 변경"
    },
    {
      "cell_type": "markdown",
      "metadata": {},
      "source": "## [1] product table 변경 - product id 변경"
    },
    {
      "cell_type": "markdown",
      "metadata": {},
      "source": "### (1) 기존 csv load"
    },
    {
      "cell_type": "code",
      "execution_count": 3,
      "metadata": {
        "autoscroll": "auto"
      },
      "outputs": [],
      "source": "%pyspark\nimport pandas as pd\npd.set_option(\u0027display.max_columns\u0027,None)\npd.set_option(\u0027display.width\u0027,None)\nold_product \u003d pd.read_csv(\u0027/DB_data/product_table.csv\u0027)\nold_product"
    },
    {
      "cell_type": "markdown",
      "metadata": {},
      "source": " \n### (2) 기존의 product_id와 새로운 product_id를 표기하는 productIdOld_productIdNew pickle load"
    },
    {
      "cell_type": "code",
      "execution_count": 5,
      "metadata": {
        "autoscroll": "auto"
      },
      "outputs": [],
      "source": "%pyspark\n# productIdOld_productIdNew pickle load\n\nimport pickle\nwith open(\u0027/DB_data/productIdOld_productIdNew_1001.pickle\u0027, \u0027rb\u0027) as fr:\n    productIdOld_productIdNew \u003d pickle.load(fr)\nproductIdOld_productIdNew"
    },
    {
      "cell_type": "markdown",
      "metadata": {},
      "source": "### (3) 기존 csv 변경\n+ product_id 변경"
    },
    {
      "cell_type": "code",
      "execution_count": 7,
      "metadata": {
        "autoscroll": "auto"
      },
      "outputs": [],
      "source": "%pyspark\n\nnew_product \u003d old_product.copy()\n\n\n# 2. product_id 변경\nfor i in range(len(new_product)):\n    old_product_id \u003d new_product.loc[i,\u0027product_id\u0027]\n    # if it is in productIdOld_productIdNew (i.e. productId가 바뀐, 농산물)\n    if old_product_id in productIdOld_productIdNew:\n        new_product_id \u003d productIdOld_productIdNew[old_product_id]  # 새로운 productId 가져오기\n        print(old_product_id, new_product_id)\n        new_product.loc[i,\u0027product_id\u0027] \u003d new_product_id\n\nprint(new_product)\nprint(old_product)\n\n\n\n# 3. 저장\n# new_product.to_csv(\u0027/DB_data/product_table_1001.csv\u0027, index\u003dFalse, header\u003dTrue)"
    },
    {
      "cell_type": "markdown",
      "metadata": {},
      "source": "## [2] product table 변경 - product name 변경\n+ 버섯, 고추 2가지일듯?"
    },
    {
      "cell_type": "markdown",
      "metadata": {},
      "source": "### (1) nong_productId_productname.pickle load 해서 바꾸기"
    },
    {
      "cell_type": "code",
      "execution_count": 10,
      "metadata": {
        "autoscroll": "auto"
      },
      "outputs": [],
      "source": "%pyspark\n# 1. 저장할 df 생성\nnew_product_name_pdf \u003d new_product.copy()\n# print(new_product_name_pdf)\n\n\n# 2. pickle load\nimport pickle\nwith open(\u0027/nongsanmul_data/nong_productId_productName.pickle\u0027,\u0027rb\u0027) as fr:\n    nong_productId_productName \u003d pickle.load(fr)\n\n# 3. product_name 변경\nfor i in range(len(new_product_name_pdf)):\n    product_id \u003d  new_product_name_pdf.loc[i,\u0027product_id\u0027]\n    if product_id in nong_productId_productName:\n        new_product_name \u003d nong_productId_productName[product_id]\n        new_product_name_pdf.loc[i,\u0027name\u0027] \u003d new_product_name\n\nprint(new_product_name_pdf)"
    },
    {
      "cell_type": "markdown",
      "metadata": {},
      "source": "## [3] 버섯의 measure 를 100g로 통일 \u0026 버섯과 고추 row 1개로 만들기"
    },
    {
      "cell_type": "code",
      "execution_count": 12,
      "metadata": {
        "autoscroll": "auto"
      },
      "outputs": [],
      "source": "%pyspark\nnew_product_name_pdf\n"
    },
    {
      "cell_type": "code",
      "execution_count": 13,
      "metadata": {
        "autoscroll": "auto"
      },
      "outputs": [],
      "source": "%pyspark\nprint(new_product_name_pdf[new_product_name_pdf[\u0027name\u0027]\u003d\u003d \u0027버섯\u0027])\nprint(new_product_name_pdf[new_product_name_pdf[\u0027name\u0027]\u003d\u003d \u0027고추\u0027])"
    },
    {
      "cell_type": "code",
      "execution_count": 14,
      "metadata": {
        "autoscroll": "auto"
      },
      "outputs": [],
      "source": "%pyspark\n# 버섯 합치기\nmushroom \u003d [1012, 9, \u0027버섯\u0027,100, \u0027g\u0027, 6.75, new_product_name_pdf.loc[147,\u0027img\u0027]]\nprint(mushroom)\n\n# 고추 합치기\npepper \u003d [1017, 9, \u0027고추\u0027, 100, \u0027g\u0027, sum(new_product_name_pdf.loc[133:134,\u0027weight\u0027]), new_product_name_pdf.loc[133,\u0027img\u0027]]\nprint(pepper)\n\n\n# row로 넣기\n\n// new_product_name_pdf.loc[len(new_product_name_pdf)] \u003d mushroom\n// new_product_name_pdf.loc[len(new_product_name_pdf)] \u003d pepper\nnew_product_name_pdf"
    },
    {
      "cell_type": "code",
      "execution_count": 15,
      "metadata": {
        "autoscroll": "auto"
      },
      "outputs": [],
      "source": "%pyspark\n# 기존 버섯과 고추 삭제\nnew_product_name_pdf2 \u003d new_product_name_pdf.copy()\n\nnew_product_name_pdf2 \u003d new_product_name_pdf2.drop([147,148,149,133,134], axis\u003d0)\nnew_product_name_pdf2 \u003d new_product_name_pdf2.sort_values(\u0027product_id\u0027)\nnew_product_name_pdf2 \u003d new_product_name_pdf2.reset_index(drop\u003dTrue)\nnew_product_name_pdf2\n"
    },
    {
      "cell_type": "markdown",
      "metadata": {},
      "source": "###  새로운 csv 저장"
    },
    {
      "cell_type": "code",
      "execution_count": 17,
      "metadata": {
        "autoscroll": "auto"
      },
      "outputs": [],
      "source": "%pyspark\nnew_product_name_pdf2.to_csv(\u0027/DB_data/product_table_1001.csv\u0027, header\u003dTrue, index\u003dFalse)"
    },
    {
      "cell_type": "markdown",
      "metadata": {},
      "source": " \n## [4] productId_categoryId , categoryId_productId pickle 생성"
    },
    {
      "cell_type": "code",
      "execution_count": 19,
      "metadata": {
        "autoscroll": "auto"
      },
      "outputs": [],
      "source": "%pyspark\nnew_product_name_pdf3 \u003d new_product_name_pdf2.copy()\nproductId_categoryId \u003d {}\ncategoryId_productId \u003d {}\n\n# 1. 생성\nfor i in range(len(new_product_name_pdf3)):\n    productId \u003d new_product_name_pdf3.loc[i,\u0027product_id\u0027]\n    categoryId \u003d new_product_name_pdf3.loc[i,\u0027category_id\u0027]\n    \n    # productId_categoryId 생성\n    productId_categoryId[productId] \u003d categoryId\n    \n    # categoryId_productId 생성\n    if categoryId in categoryId_productId:\n        categoryId_productId[categoryId].append(productId)\n    else:\n        categoryId_productId[categoryId] \u003d [productId]\n\nprint(productId_categoryId)\nprint(categoryId_productId)\n        \n\n# 2 저장\nimport pickle\nwith open(\u0027/DB_data/[20221001]productId_categoryId.pickle\u0027,\u0027wb\u0027) as fw:\n    pickle.dump(productId_categoryId, fw)\nwith open(\u0027/DB_data/[20221001]categoryId_productId.pickle\u0027,\u0027wb\u0027) as fw:\n    pickle.dump(categoryId_productId, fw)"
    },
    {
      "cell_type": "raw",
      "metadata": {
        "format": "text/plain"
      },
      "source": "%pyspark\n"
    },
    {
      "cell_type": "raw",
      "metadata": {
        "format": "text/plain"
      },
      "source": "%pyspark\n"
    },
    {
      "cell_type": "raw",
      "metadata": {
        "format": "text/plain"
      },
      "source": "%pyspark\n"
    }
  ]
}