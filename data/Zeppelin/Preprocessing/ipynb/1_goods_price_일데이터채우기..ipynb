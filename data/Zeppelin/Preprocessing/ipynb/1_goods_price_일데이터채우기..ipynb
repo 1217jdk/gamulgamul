﻿{
  "metadata": {
    "name": "1_goods_price_일데이터채우기",
    "kernelspec": {
      "language": "scala",
      "name": "spark2-scala"
    },
    "language_info": {
      "codemirror_mode": "text/x-scala",
      "file_extension": ".scala",
      "mimetype": "text/x-scala",
      "name": "scala",
      "pygments_lexer": "scala"
    }
  },
  "nbformat": 4,
  "nbformat_minor": 2,
  "cells": [
    {
      "cell_type": "code",
      "execution_count": 0,
      "metadata": {
        "autoscroll": "auto"
      },
      "outputs": [],
      "source": "%spark.conf\n\nSPARK_HOME  /usr/local/spark\nPYSPARK_PYTHON /usr/bin/python3\nspark.pyspark.python  /usr/bin/python3\n\n# set driver memory to 8g\nspark.driver.memory 6g\n\n# set executor number to be 3\nspark.executor.instances  4\n\n# set executor memory 4g\nspark.executor.memory  2g\n"
    },
    {
      "cell_type": "markdown",
      "metadata": {},
      "source": "# 1. row 방향 날짜 데이터(일단위아님)를, 일데이터 주기로 바꾸기\n+ column\n    + goods_id, unit_price,  price, research_date, business로 구성되어 있음\n+ 제약사항\n    + business 값이 모두 같은 경우에만 정상작동함 \n"
    },
    {
      "cell_type": "markdown",
      "metadata": {},
      "source": "## [1] 함수 정의"
    },
    {
      "cell_type": "code",
      "execution_count": 3,
      "metadata": {
        "autoscroll": "auto"
      },
      "outputs": [],
      "source": "%pyspark\n# 코드 줄인 버전\n\nimport datetime\nimport numpy as np\nimport pandas as pd\n# 초기세팅\n# tprice_goods_ssm_price_table.reset_index(drop\u003dTrue, inplace\u003dTrue)\n# tprice_goods_ssm_price_table \u003d pd.read_csv(\u0027/DB_data/참가격_주데이터_상품_가격_SSM.csv\u0027)\n# start_date \u003d datetime.date(2021,9,7)\n# end_date \u003d datetime.date(2022,9,30)\n\n\n\n\n\n\n# row 형식으로 된, 일데이터 주기가 아닌 데이터를, 일데이터 형식으로 바꾸기\ndef inserting_date(start_date, end_date, input_df, business): # Pandas DF를 이용\n    print(\u0027debug1\u0027)\n    \n    #---------------------------------------------------------------------------------------------------------------------------------#\n    #                 1. 초기작업 : 결과 df 생성, 초기값들 설정\n    #---------------------------------------------------------------------------------------------------------------------------------#\n\n    \n    # 초기 설정 값\n    start_goods_id \u003d min((input_df[\u0027goods_id\u0027]))\n    # print(\u0027d1\u0027)\n    end_goods_id \u003d max((input_df[\u0027goods_id\u0027]))\n    # print(\u0027d2\u0027)\n    cur_goods_id \u003d start_goods_id - 1\n    # print(\u0027d3\u0027)\n    cur_research_date \u003d start_date\n    # print(\u0027debug2\u0027)\n    \n    \n    # goods_id, research_date 기준으로 sorting 시키기\n    input_df \u003d input_df.reset_index(drop\u003dTrue)\n    input_df \u003d input_df.sort_values([\u0027goods_id\u0027,\u0027research_date\u0027])\n    # 추후에 삭제할 행\n    input_df.loc[len(input_df)] \u003d [end_goods_id+1, 0, 0 ,start_date.strftime(\"%Y-%m-%d\"), business]\n    # print(\u0027debug3\u0027)\n    \n    # result\n    result_df \u003d pd.DataFrame(columns\u003dinput_df.columns)\n    inserting_length \u003d 0\n    \n    \n    \n    input_df_length \u003d 0\n    # input_df의 끝까지 가지 않은 경우, 계속하기\n    ## 1. goods_id 가 달라지는 경우, research_date가 일치하면, input_df_length를 1 늘리기\n    while input_df_length \u003c len(input_df): # dummy row까지 쭉 진행,\n    \n        next_goods_id, next_unit_price, next_price, next_research_date, next_business \u003d input_df.loc[input_df_length]   # input_df의 다음(목표) row\n        # inserting_research_date \u003d cur_research_date                                                    # input_df의 현재 row\n    \n        \n        # goods_id가 같은 경우\n        if next_goods_id \u003d\u003d cur_goods_id:\n            ## input_df의 next row에 도달한 경우, 도달한 값 넣어주기\n    \n    \n\n            # print(\u0027debug 3\u0027)\n            ## 현재 inserting 날짜가, next_research_date에 도달하기 전까지 , 계속 row 삽입하기\n            while next_research_date !\u003d inserting_research_date.strftime(\"%Y-%m-%d\"):\n                # print(inserting_research_date.strftime(\"%Y-%m-%d\"), \u0027--------------------\u0027)\n                result_df.loc[inserting_length] \u003d cur_goods_id, cur_unit_price, cur_price, inserting_research_date.strftime(\"%Y-%m-%d\"),  cur_business\n                \n                \n                cur_research_date \u003d inserting_research_date                        # cur_research_date 업데이트\n                \n\n                inserting_research_date +\u003d  datetime.timedelta(days\u003d1) # inserting할 날짜 늘리기\n                inserting_length +\u003d 1   # result_df 길이 추가\n                \n            cur_goods_id \u003d next_goods_id                                       # cur_goods_id 업데이트\n            cur_unit_price \u003d next_unit_price\n            cur_price \u003d next_price                                             # cur_price 업데이트\n            cur_business \u003d next_business                                       # cur_business 업데이트\n            input_df_length +\u003d 1\n                \n    \n           \n    \n    \n        # 새로운 goods_id를 넣는 경우, 새로 진행\n        elif next_goods_id !\u003d cur_goods_id:\n            print(cur_goods_id)\n            # print(result_df)\n            \n            ## end_date 까지 row 채워주기\n            if cur_goods_id !\u003d start_goods_id - 1:  # 처음 시작하는 경우가 아니라면,\n                while end_date + datetime.timedelta(days\u003d1) \u003e inserting_research_date:\n                    result_df.loc[inserting_length] \u003d cur_goods_id, cur_unit_price,cur_price, inserting_research_date.strftime(\"%Y-%m-%d\"),  cur_business\n                    inserting_research_date +\u003d  datetime.timedelta(days\u003d1) # inserting할 날짜 늘리기\n                    inserting_length +\u003d 1   # result_df 길이 추가\n            \n            ## input_df의 마지막까지 진행됐다면 while문 break해서 끝내기\n            if input_df_length \u003d\u003d len(input_df) - 1:\n                print(\u0027here\u0027)\n                break\n            \n            ## inserting_research_date 초기화\n            inserting_research_date \u003d start_date\n            \n            ## 만약 첫 row가 start_date일이 아니면, 채워주기\n            inserting_unit_price \u003d next_unit_price\n            inserting_price \u003d next_price  # next_price의 가격을 앞에 채워주기\n            ### 다음 row의 날짜에 도달하기 전까지 계속 추가해 주기\n            while next_research_date !\u003d inserting_research_date.strftime(\"%Y-%m-%d\"):\n                result_df.loc[inserting_length] \u003d next_goods_id, next_unit_price, inserting_price, inserting_research_date.strftime(\"%Y-%m-%d\"), next_business\n                # print(inserting_research_date.strftime(\"%Y-%m-%d\"),\u0027\u003d\u003d\u003d\u003d\u003d\u003d\u003d\u003d\u003d\u003d\u003d\u003d\u003d\u003d\u003d\u003d\u003d\u003d\u003d\u003d\u003d\u003d\u003d\u003d\u003d\u003d\u003d\u003d\u003d\u003d\u003d\u003d\u003d\u003d\u003d\u003d\u003d\u003d\u003d\u003d\u003d\u0027)\n                \n                cur_research_date \u003d inserting_research_date                        # cur_research_date 업데이트\n                \n                \n                inserting_research_date +\u003d  datetime.timedelta(days\u003d1) # inserting할 날짜 늘리기\n                inserting_length +\u003d 1   # result_df 길이 추가\n            \n            input_df_length +\u003d 1    # input_df 길이 추가\n            cur_goods_id \u003d next_goods_id                                       # cur_goods_id 업데이트\n            cur_unit_price \u003d next_unit_price\n            cur_price \u003d next_price                                             # cur_price 업데이트\n            \n            cur_business \u003d next_business                                       # cur_business 업데이트\n            \n    return result_df"
    },
    {
      "cell_type": "markdown",
      "metadata": {},
      "source": "## [2] 함수 실행\n"
    },
    {
      "cell_type": "code",
      "execution_count": 5,
      "metadata": {
        "autoscroll": "auto"
      },
      "outputs": [],
      "source": "%pyspark\nstart_date \u003d datetime.date(2021,9,7)\nend_date \u003d datetime.date(2022,9,30)\ninput_df \u003d pd.read_csv(\u0027/DB_data/goods_price_table_0926.csv\u0027)\ninput_df1 \u003d input_df[ (input_df[\u0027goods_id\u0027]\u003e\u003d0) \u0026 (input_df[\u0027goods_id\u0027]\u003c300) \u0026 (input_df[\u0027business\u0027]\u003d\u003d\u0027s\u0027) ]\ninput_df2 \u003d input_df[ (input_df[\u0027goods_id\u0027]\u003e\u003d300) \u0026 (input_df[\u0027business\u0027]\u003d\u003d\u0027s\u0027)  ]\n\ninput_df3 \u003d input_df[ (input_df[\u0027goods_id\u0027]\u003e\u003d0) \u0026 (input_df[\u0027goods_id\u0027]\u003c300) \u0026  (input_df[\u0027business\u0027]\u003d\u003d\u0027m\u0027) ]\ninput_df4 \u003d input_df[ (input_df[\u0027goods_id\u0027]\u003e\u003d300) \u0026 (input_df[\u0027business\u0027]\u003d\u003d\u0027m\u0027)  ]\n\n\ninput_df1\n"
    },
    {
      "cell_type": "code",
      "execution_count": 6,
      "metadata": {
        "autoscroll": "auto"
      },
      "outputs": [],
      "source": "%pyspark\nresult_df1 \u003d inserting_date(start_date, end_date,input_df1,\u0027s\u0027)\nresult_df1"
    },
    {
      "cell_type": "code",
      "execution_count": 7,
      "metadata": {
        "autoscroll": "auto"
      },
      "outputs": [],
      "source": "%pyspark\nresult_df2 \u003d inserting_date(start_date, end_date,input_df2,\u0027s\u0027)\nresult_df2"
    },
    {
      "cell_type": "code",
      "execution_count": 8,
      "metadata": {
        "autoscroll": "auto"
      },
      "outputs": [],
      "source": "%pyspark\nresult_df3 \u003d inserting_date(start_date, end_date,input_df3,\u0027m\u0027)\nresult_df3"
    },
    {
      "cell_type": "code",
      "execution_count": 9,
      "metadata": {
        "autoscroll": "auto"
      },
      "outputs": [],
      "source": "%pyspark\nresult_df4 \u003d inserting_date(start_date, end_date,input_df4,\u0027m\u0027)\nresult_df4"
    },
    {
      "cell_type": "markdown",
      "metadata": {},
      "source": "## [3] 변환된 데이터 저장\n"
    },
    {
      "cell_type": "code",
      "execution_count": 11,
      "metadata": {
        "autoscroll": "auto"
      },
      "outputs": [],
      "source": "%pyspark\nimport pandas as pd\ngoods_daily_price_table \u003d pd.concat([result_df1, result_df2, result_df3, result_df4])\ngoods_daily_price_table \u003d goods_daily_price_table.reset_index(drop\u003dTrue)\ngoods_daily_price_table.to_csv(\u0027/DB_data/goods_daily_price_table.csv\u0027, index\u003dFalse, header\u003dTrue)\ngoods_daily_price_table\n"
    },
    {
      "cell_type": "code",
      "execution_count": 12,
      "metadata": {
        "autoscroll": "auto"
      },
      "outputs": [],
      "source": "%MySQL\nselect * from recyclebin;"
    },
    {
      "cell_type": "raw",
      "metadata": {
        "format": "text/plain"
      },
      "source": "%MySQL\n"
    }
  ]
}