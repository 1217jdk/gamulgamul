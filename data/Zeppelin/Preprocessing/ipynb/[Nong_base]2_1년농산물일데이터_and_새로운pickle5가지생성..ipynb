﻿{
  "metadata": {
    "name": "[Nong_base]2_1년농산물일데이터_and_새로운pickle5가지생성",
    "kernelspec": {
      "language": "scala",
      "name": "spark2-scala"
    },
    "language_info": {
      "codemirror_mode": "text/x-scala",
      "file_extension": ".scala",
      "mimetype": "text/x-scala",
      "name": "scala",
      "pygments_lexer": "scala"
    }
  },
  "nbformat": 4,
  "nbformat_minor": 2,
  "cells": [
    {
      "cell_type": "markdown",
      "metadata": {},
      "source": "# 목차\n1. Data 가져오기\n2. 1차 전처리 - 배추, 무, 감귤 Data groupBy해서, 합쳐주기\n3. 2차 전처리 - 품목명(itemname), 상품명(kindname) 을 조절하기\n4. 3차 전처리 : column 형식 맞추기\n    + goods_price의 팽이버섯 unit price 100/150 해주기\n        + goods_id : 20055\n5. 4차 전처리 : null price row 지우기\n6. goods_price table 만들기"
    },
    {
      "cell_type": "markdown",
      "metadata": {},
      "source": "# 1. Data 가져오기"
    },
    {
      "cell_type": "code",
      "execution_count": 2,
      "metadata": {
        "autoscroll": "auto"
      },
      "outputs": [],
      "source": "%pyspark\n\n# 사용할 날짜 만들기\nimport datetime\nfrom dateutil.relativedelta import relativedelta\n\nstart \u003d []\nend \u003d []\nfilename\u003d[]\n\n\nstart_date \u003d datetime.date(2021,10,1).strftime(\u0027%Y-%m-%d\u0027)\nstart_date \u003d datetime.date(2021,10,1)\n\nfor i in range(1,13):\n    start.append(start_date.strftime(\u0027%Y-%m-%d\u0027))\n    filename.append(start_date.strftime(\u0027%Y%m%d\u0027))\n    start_date \u003d start_date + relativedelta(months\u003d1)\n    end_date \u003d start_date - datetime.timedelta(days\u003d1)\n    end.append(end_date.strftime(\u0027%Y-%m-%d\u0027))\n    \nprint(filename)\n    "
    },
    {
      "cell_type": "code",
      "execution_count": 3,
      "metadata": {
        "autoscroll": "auto"
      },
      "outputs": [],
      "source": "%pyspark\n# 데이터 가져오기\nimport pandas as pd\nresult_pdf \u003d pd.read_csv(\u0027/nongsanmul_data/20211001.csv\u0027, encoding\u003d\u0027cp949\u0027)\n\nfor i in range(1,len(filename)):\n    date \u003d filename[i]\n    cur_pdf \u003d pd.read_csv(f\u0027/nongsanmul_data/{date}.csv\u0027, encoding\u003d\u0027cp949\u0027)\n    result_pdf \u003d pd.concat([result_pdf, cur_pdf])\n\nresult_pdf \u003d result_pdf.round({\u0027price\u0027:2, \u0027unit_price\u0027:2})\nresult_sdf \u003d spark.createDataFrame(result_pdf)\nresult_sdf.show()"
    },
    {
      "cell_type": "code",
      "execution_count": 4,
      "metadata": {
        "autoscroll": "auto"
      },
      "outputs": [],
      "source": "%pyspark\nresult_pdf[\u0027itemname\u0027].unique()"
    },
    {
      "cell_type": "code",
      "execution_count": 5,
      "metadata": {
        "autoscroll": "auto"
      },
      "outputs": [],
      "source": "%pyspark\nresult_pdf[result_pdf[\u0027itemname\u0027]\u003d\u003d\u0027포도\u0027]"
    },
    {
      "cell_type": "code",
      "execution_count": 6,
      "metadata": {
        "autoscroll": "auto"
      },
      "outputs": [],
      "source": "%pyspark\nresult_pdf[\u0027kindname\u0027].unique()"
    },
    {
      "cell_type": "markdown",
      "metadata": {},
      "source": "# 2. 1차 전처리 - 배추, 무, 감귤 Data groupBy해서, 합쳐주기"
    },
    {
      "cell_type": "markdown",
      "metadata": {},
      "source": "## [1] 배추, 무, 감귤 Data groupBy하기"
    },
    {
      "cell_type": "code",
      "execution_count": 9,
      "metadata": {
        "autoscroll": "auto"
      },
      "outputs": [],
      "source": "%pyspark\nfrom pyspark.sql.functions import col, avg, lit\nbaechu \u003d result_sdf.filter(col(\u0027itemname\u0027)\u003d\u003d\u0027배추\u0027)\nbaechu.orderBy(\u0027research_date\u0027).show(n\u003d100)\n\nbaechu_grouped \u003d baechu.groupBy([\u0027itemname\u0027,\u0027research_date\u0027]).agg(avg(col(\u0027price\u0027)).alias(\u0027price\u0027), avg(col(\u0027unit_price\u0027)).alias(\u0027unit_price\u0027)).orderBy(\u0027research_date\u0027)\nbaechu_grouped \u003d baechu_grouped.withColumn(\u0027kindname\u0027,lit(\u0027배추(1포기)\u0027))\nbaechu_grouped \u003d baechu_grouped.select(\u0027itemname\u0027,\u0027kindname\u0027,\u0027research_date\u0027,\u0027price\u0027, \u0027unit_price\u0027)\nbaechu_grouped.show(n\u003d100)"
    },
    {
      "cell_type": "code",
      "execution_count": 10,
      "metadata": {
        "autoscroll": "auto"
      },
      "outputs": [],
      "source": "%pyspark\nmu \u003d result_sdf.filter(col(\u0027itemname\u0027)\u003d\u003d\u0027무\u0027)\nmu.show(n\u003d100)\n\nmu_grouped \u003d mu.groupBy([\u0027itemname\u0027,\u0027research_date\u0027]).agg(avg(col(\u0027price\u0027)).alias(\u0027price\u0027), avg(col(\u0027unit_price\u0027)).alias(\u0027unit_price\u0027)).orderBy(\u0027research_date\u0027)\nmu_grouped \u003d mu_grouped.withColumn(\u0027kindname\u0027,lit(\u0027무(1개)\u0027))\nmu_grouped \u003d mu_grouped.select(\u0027itemname\u0027,\u0027kindname\u0027,\u0027research_date\u0027,\u0027price\u0027, \u0027unit_price\u0027)\nmu_grouped.show(n\u003d100)"
    },
    {
      "cell_type": "code",
      "execution_count": 11,
      "metadata": {
        "autoscroll": "auto"
      },
      "outputs": [],
      "source": "%pyspark\ngamgyul \u003d result_sdf.filter(col(\u0027itemname\u0027)\u003d\u003d\u0027감귤\u0027)\ngamgyul.show(n\u003d100)\n\ngamgyul_grouped \u003d gamgyul.groupBy([\u0027itemname\u0027,\u0027research_date\u0027]).agg(avg(col(\u0027price\u0027)).alias(\u0027price\u0027), avg(col(\u0027unit_price\u0027)).alias(\u0027unit_price\u0027)).orderBy(\u0027research_date\u0027)\ngamgyul_grouped \u003d gamgyul_grouped.withColumn(\u0027kindname\u0027,lit(\u0027감귤(10개)\u0027))\ngamgyul_grouped \u003d gamgyul_grouped.select(\u0027itemname\u0027,\u0027kindname\u0027,\u0027research_date\u0027,\u0027price\u0027, \u0027unit_price\u0027)\ngamgyul_grouped.show(n\u003d100)"
    },
    {
      "cell_type": "markdown",
      "metadata": {},
      "source": "## [2] 원래 spark df와 합쳐주기 -\u003e 1차 전처리가 완료된 first_sdf 생성\n+ 결과물 : first_sdf"
    },
    {
      "cell_type": "code",
      "execution_count": 13,
      "metadata": {
        "autoscroll": "auto"
      },
      "outputs": [],
      "source": "%pyspark\nfrom functools import reduce  # For Python 3.x\nfrom pyspark.sql import DataFrame\n\ndef unionAll(*dfs):\n    return reduce(DataFrame.unionAll, dfs)\n    \ndeleted_sdf \u003d result_sdf.filter( (col(\u0027itemname\u0027)!\u003d\u0027배추\u0027) \u0026 (col(\u0027itemname\u0027)!\u003d\u0027무\u0027) \u0026 (col(\u0027itemname\u0027)!\u003d\u0027감귤\u0027) )\n\nfirst_sdf \u003d unionAll(deleted_sdf, baechu_grouped, mu_grouped, gamgyul_grouped)\nfirst_sdf.orderBy(\u0027research_date\u0027,\u0027itemname\u0027).show(n\u003d1000)"
    },
    {
      "cell_type": "code",
      "execution_count": 14,
      "metadata": {
        "autoscroll": "auto"
      },
      "outputs": [],
      "source": "%pyspark\nfirst_sdf.select(\u0027itemname\u0027).distinct().show(n\u003d1000)"
    },
    {
      "cell_type": "markdown",
      "metadata": {},
      "source": "# 3. 2차 전처리 - 품목명(itemname), 상품명(kindname) 을 조절하기\n+ 결과물 : second_sdf_kindname"
    },
    {
      "cell_type": "markdown",
      "metadata": {},
      "source": "## [1] 품목명 조절"
    },
    {
      "cell_type": "code",
      "execution_count": 17,
      "metadata": {
        "autoscroll": "auto"
      },
      "outputs": [],
      "source": "%pyspark\nfrom pyspark.sql.functions import col, when\nfirst_pdf \u003d first_sdf.toPandas()\n\nsecond_sdf_itemname \u003d first_sdf.withColumn(\u0027itemname\u0027, when(col(\u0027itemname\u0027)\u003d\u003d\u0027깐마늘(국산)\u0027,\u0027깐마늘\u0027).otherwise(col(\u0027itemname\u0027)))\nsecond_sdf_itemname.select(\u0027itemname\u0027).distinct().show(n\u003d1000)\nsecond_sdf_itemname.orderBy(\u0027research_date\u0027,\u0027itemname\u0027).show(n\u003d1000)"
    },
    {
      "cell_type": "markdown",
      "metadata": {},
      "source": "## [2] 상품명 조절"
    },
    {
      "cell_type": "code",
      "execution_count": 19,
      "metadata": {
        "autoscroll": "auto"
      },
      "outputs": [],
      "source": "%pyspark\nsecond_sdf_kindname \u003d\\\nsecond_sdf_itemname.withColumn(\u0027kindname\u0027, when( col(\u0027itemname\u0027)\u003d\u003d\u0027감자\u0027, \u0027수미감자(100g)\u0027)\\\n.when(col(\u0027itemname\u0027)\u003d\u003d\u0027건블루베리\u0027, \u0027건블루베리(수입)(100g)\u0027 )\\\n.when(col(\u0027itemname\u0027)\u003d\u003d\u0027건포도\u0027, \u0027건포도(수입)(100g)\u0027)\\\n.when(col(\u0027itemname\u0027)\u003d\u003d\u0027고구마\u0027, \u0027밤고구마(1kg)\u0027 )\\\n.when(col(\u0027itemname\u0027)\u003d\u003d\u0027고춧가루\u0027, \u0027고춧가루(국산)(1kg)\u0027)\\\n.when(col(\u0027itemname\u0027)\u003d\u003d\u0027녹두\u0027, \u0027녹두(국산)(500g)\u0027)\\\n.when(col(\u0027itemname\u0027)\u003d\u003d\u0027당근\u0027, \u0027무세척당근(1kg)\u0027)\\\n.when( (col(\u0027itemname\u0027)\u003d\u003d\u0027땅콩\u0027) \u0026 (col(\u0027kindname\u0027)\u003d\u003d\u0027수입(100g)\u0027) , \u0027땅콩(수입)(100g)\u0027 )\\\n.when( (col(\u0027itemname\u0027)\u003d\u003d\u0027땅콩\u0027) \u0026 (col(\u0027kindname\u0027)\u003d\u003d\u0027국산(100g)\u0027) , \u0027땅콩(국산)(100g)\u0027 )\\\n.when(col(\u0027itemname\u0027)\u003d\u003d\u0027레몬\u0027, \u0027레몬(수입)(10개)\u0027)\\\n.when(col(\u0027itemname\u0027)\u003d\u003d\u0027바나나\u0027,\u0027바나나(수입)(100g)\u0027 )\\\n.when(col(\u0027itemname\u0027)\u003d\u003d\u0027배\u0027, \u0027신고배(10개)\u0027)\\\n.when(col(\u0027itemname\u0027)\u003d\u003d\u0027팥\u0027, \u0027붉은팥(국산)(500g)\u0027)\\\n.when(col(\u0027itemname\u0027)\u003d\u003d\u0027상추\u0027,\u0027적상추(100g)\u0027 )\\\n.when(col(\u0027itemname\u0027)\u003d\u003d\u0027생강\u0027, \u0027생강(국산)(1kg)\u0027)\\\n.when(col(\u0027itemname\u0027)\u003d\u003d\u0027쌀\u0027, \u0027쌀(일반계)(20kg)\u0027)\\\n.when(col(\u0027itemname\u0027)\u003d\u003d\u0027아몬드\u0027, \u0027아몬드(수입)(100g)\u0027)\\\n.when(col(\u0027itemname\u0027)\u003d\u003d\u0027참깨\u0027, \u0027백색참깨(국산)(500g)\u0027)\\\n.when(col(\u0027itemname\u0027)\u003d\u003d\u0027참다래\u0027,\u0027참다래(그린뉴질랜드)(10개)\u0027)\\\n.when(col(\u0027itemname\u0027)\u003d\u003d\u0027찹쌀\u0027, \u0027찹쌀(일반계)(1kg)\u0027)\\\n.when(col(\u0027itemname\u0027)\u003d\u003d\u0027파인애플\u0027, \u0027파인애플(수입)(1개)\u0027)\\\n.when(col(\u0027itemname\u0027)\u003d\u003d\u0027피망\u0027, \u0027청피망(100g)\u0027)\\\n.when(col(\u0027itemname\u0027)\u003d\u003d\u0027호두\u0027, \u0027호두(수입)(100g)\u0027)\\\n.when(col(\u0027itemname\u0027)\u003d\u003d\u0027오이\u0027, \u0027가시오이(10개)\u0027)\\\n.when(col(\u0027itemname\u0027)\u003d\u003d\u0027사과\u0027, \u0027후지사과(10개)\u0027)\\\n.when(col(\u0027itemname\u0027)\u003d\u003d\u0027망고\u0027, \u0027망고(수입)(1개)\u0027)\\\n.when(col(\u0027itemname\u0027)\u003d\u003d\u0027오렌지\u0027, \u0027오렌지(네이블미국)(10개)\u0027)\\\n.when(col(\u0027itemname\u0027)\u003d\u003d\u0027복숭아\u0027, \u0027백도(10개)\u0027)\\\n.when(col(\u0027itemname\u0027)\u003d\u003d\u0027체리\u0027, \u0027체리(수입)(100g)\u0027)\\\n.when(col(\u0027itemname\u0027)\u003d\u003d\u0027콩\u0027, \u0027흰콩(국산)(500g)\u0027)\\\n.otherwise(col(\u0027kindname\u0027)))\n\n\n\n# second_sdf_kindname.show()\nsecond_sdf_kindname.select(\u0027itemname\u0027,\u0027kindname\u0027).distinct().show(n\u003d100)\n\n\n\n\n\n\n\n\n\n\n\n"
    },
    {
      "cell_type": "markdown",
      "metadata": {},
      "source": "# 4. 3차 전처리 : column 형식 맞추기\n+ 결과물 : third_sdf_business\n+ itemname(product_name), kindname(goods_name), research_date,   price, unit_price ---\u003e product_id, product_name, goods_id, goods_name, unit_price, price, research_date, business\n"
    },
    {
      "cell_type": "markdown",
      "metadata": {},
      "source": "## [1] column 명 product_name, goods_name 으로  변경"
    },
    {
      "cell_type": "code",
      "execution_count": 22,
      "metadata": {
        "autoscroll": "auto"
      },
      "outputs": [],
      "source": "%pyspark\n# product_name, goods_name 으로 컬럼명 변경\nthird_sdf_name \u003d second_sdf_kindname.withColumnRenamed(\u0027itemname\u0027,\u0027product_name\u0027)\nthird_sdf_name \u003d third_sdf_name.withColumnRenamed(\u0027kindname\u0027,\u0027goods_name\u0027)\nthird_sdf_name.select(\u0027goods_name\u0027).distinct().show(n\u003d50)\n\n"
    },
    {
      "cell_type": "markdown",
      "metadata": {},
      "source": "## [2] goods_id column 생성"
    },
    {
      "cell_type": "markdown",
      "metadata": {},
      "source": "### (1) goods_id column 생성"
    },
    {
      "cell_type": "code",
      "execution_count": 25,
      "metadata": {
        "autoscroll": "auto"
      },
      "outputs": [],
      "source": "%pyspark\n\nthird_sdf_goods_id \u003d\\\nthird_sdf_name.withColumn(\u0027goods_id\u0027\\\n,when(col(\u0027goods_name\u0027)\u003d\u003d \u0027후지사과(10개)\u0027              ,20000)\\\n.when(col(\u0027goods_name\u0027)\u003d\u003d \u0027감귤(10개)\u0027                  ,20001)\\\n.when(col(\u0027goods_name\u0027)\u003d\u003d \u0027건블루베리(수입)(100g)\u0027      ,20002 )\\\n.when(col(\u0027goods_name\u0027)\u003d\u003d \u0027건포도(수입)(100g)\u0027          ,20003)\\\n.when(col(\u0027goods_name\u0027)\u003d\u003d \u0027단감(10개)\u0027                  ,20004)\\\n.when(col(\u0027goods_name\u0027)\u003d\u003d \u0027레몬(수입)(10개)\u0027            ,20005)\\\n.when(col(\u0027goods_name\u0027)\u003d\u003d \u0027망고(수입)(1개)\u0027             ,20006)\\\n.when(col(\u0027goods_name\u0027)\u003d\u003d \u0027바나나(수입)(100g)\u0027          ,20007)\\\n.when(col(\u0027goods_name\u0027)\u003d\u003d \u0027신고배(10개)\u0027                ,20008)\\\n.when(col(\u0027goods_name\u0027)\u003d\u003d \u0027백도(10개)\u0027                  ,20009)\\\n.when(col(\u0027goods_name\u0027)\u003d\u003d \u0027오렌지(네이블미국)(10개)\u0027    ,20010)\\\n.when(col(\u0027goods_name\u0027)\u003d\u003d \u0027참다래(그린뉴질랜드)(10개)\u0027  ,20012)\\\n.when(col(\u0027goods_name\u0027)\u003d\u003d \u0027체리(수입)(100g)\u0027            ,20013)\\\n.when(col(\u0027goods_name\u0027)\u003d\u003d \u0027파인애플(수입)(1개)\u0027         ,20014)\\\n.when(col(\u0027goods_name\u0027)\u003d\u003d \u0027캠벨얼리(1kg)\u0027               ,20015)\\\n.when(col(\u0027goods_name\u0027)\u003d\u003d \u0027밤고구마(1kg)\u0027               ,20016)\\\n.when(col(\u0027goods_name\u0027)\u003d\u003d \u0027녹두(국산)(500g)\u0027            ,20017)\\\n.when(col(\u0027goods_name\u0027)\u003d\u003d \u0027쌀(일반계)(20kg)\u0027            ,20018)\\\n.when(col(\u0027goods_name\u0027)\u003d\u003d \u0027찹쌀(일반계)(1kg)\u0027           ,20019)\\\n.when(col(\u0027goods_name\u0027)\u003d\u003d \u0027흰콩(국산)(500g)\u0027            ,20020)\\\n.when(col(\u0027goods_name\u0027)\u003d\u003d \u0027붉은팥(국산)(500g)\u0027          ,20021)\\\n.when(col(\u0027goods_name\u0027)\u003d\u003d \u0027수미감자(100g)\u0027              ,20022)\\\n.when(col(\u0027goods_name\u0027)\u003d\u003d \u0027고춧가루(국산)(1kg)\u0027         ,20023)\\\n.when(col(\u0027goods_name\u0027)\u003d\u003d \u0027깐마늘(국산)(1kg)\u0027           ,20024)\\\n.when(col(\u0027goods_name\u0027)\u003d\u003d \u0027깻잎(100g)\u0027                  ,20025)\\\n.when(col(\u0027goods_name\u0027)\u003d\u003d \u0027무세척당근(1kg)\u0027             ,20026)\\\n.when(col(\u0027goods_name\u0027)\u003d\u003d \u0027딸기(100g)\u0027                  ,20027)\\\n.when(col(\u0027goods_name\u0027)\u003d\u003d \u0027멜론(1개)\u0027                   ,20028)\\\n.when(col(\u0027goods_name\u0027)\u003d\u003d \u0027무(1개)\u0027                     ,20029)\\\n.when(col(\u0027goods_name\u0027)\u003d\u003d \u0027방울토마토(1kg)\u0027             ,20030)\\\n.when(col(\u0027goods_name\u0027)\u003d\u003d \u0027배추(1포기)\u0027                 ,20031)\\\n.when(col(\u0027goods_name\u0027)\u003d\u003d \u0027붉은고추(100g)\u0027              ,20032)\\\n.when(col(\u0027goods_name\u0027)\u003d\u003d \u0027적상추(100g)\u0027                ,20033)\\\n.when(col(\u0027goods_name\u0027)\u003d\u003d \u0027생강(국산)(1kg)\u0027             ,20034)\\\n.when(col(\u0027goods_name\u0027)\u003d\u003d \u0027수박(1개)\u0027                   ,20035)\\\n.when(col(\u0027goods_name\u0027)\u003d\u003d \u0027시금치(1kg)\u0027                 ,20036)\\\n.when(col(\u0027goods_name\u0027)\u003d\u003d \u0027양배추(1포기)\u0027               ,20037)\\\n.when(col(\u0027goods_name\u0027)\u003d\u003d \u0027양파(1kg)\u0027                   ,20038)\\\n.when(col(\u0027goods_name\u0027)\u003d\u003d \u0027얼갈이배추(1kg)\u0027             ,20039)\\\n.when(col(\u0027goods_name\u0027)\u003d\u003d \u0027열무(1kg)\u0027                   ,20040)\\\n.when(col(\u0027goods_name\u0027)\u003d\u003d \u0027가시오이(10개)\u0027              ,20041)\\\n.when(col(\u0027goods_name\u0027)\u003d\u003d \u0027참외(10개)\u0027                  ,20042)\\\n.when(col(\u0027goods_name\u0027)\u003d\u003d \u0027토마토(1kg)\u0027                 ,20043)\\\n.when(col(\u0027goods_name\u0027)\u003d\u003d \u0027대파(1kg)\u0027                   ,20044)\\\n.when(col(\u0027goods_name\u0027)\u003d\u003d \u0027파프리카(200g)\u0027              ,20045)\\\n.when(col(\u0027goods_name\u0027)\u003d\u003d \u0027풋고추(100g)\u0027                ,20046)\\\n.when(col(\u0027goods_name\u0027)\u003d\u003d \u0027청피망(100g)\u0027                ,20047)\\\n.when(col(\u0027goods_name\u0027)\u003d\u003d \u0027애호박(1개)\u0027                 ,20048)\\\n.when(col(\u0027goods_name\u0027)\u003d\u003d \u0027애느타리버섯(100g)\u0027          ,20049)\\\n.when(col(\u0027goods_name\u0027)\u003d\u003d \u0027땅콩(국산)(100g)\u0027            ,20050)\\\n.when(col(\u0027goods_name\u0027)\u003d\u003d \u0027땅콩(수입)(100g)\u0027            ,20051)\\\n.when(col(\u0027goods_name\u0027)\u003d\u003d \u0027새송이버섯(100g)\u0027            ,20052)\\\n.when(col(\u0027goods_name\u0027)\u003d\u003d \u0027아몬드(수입)(100g)\u0027          ,20053)\\\n.when(col(\u0027goods_name\u0027)\u003d\u003d \u0027백색참깨(국산)(500g)\u0027        ,20054)\\\n.when(col(\u0027goods_name\u0027)\u003d\u003d \u0027팽이버섯(150g)\u0027              ,20055)\\\n.when(col(\u0027goods_name\u0027)\u003d\u003d \u0027호두(수입)(100g)\u0027            ,20056))\n\n\n\n# third_sdf_goods_id.show()\nthird_sdf_goods_id.select(\u0027goods_id\u0027,\u0027goods_name\u0027).distinct().orderBy(\u0027goods_id\u0027).show(n\u003d100)\n"
    },
    {
      "cell_type": "code",
      "execution_count": 26,
      "metadata": {
        "autoscroll": "auto"
      },
      "outputs": [],
      "source": "%pyspark\nthird_sdf_goods_id.select(\u0027goods_id\u0027,\u0027goods_name\u0027).distinct().orderBy(\u0027goods_id\u0027).show(n\u003d100)"
    },
    {
      "cell_type": "markdown",
      "metadata": {},
      "source": "### (2) goodsName_goodsId, goodsId_goodsName pickle 생성 \u0026 저장"
    },
    {
      "cell_type": "code",
      "execution_count": 28,
      "metadata": {
        "autoscroll": "auto"
      },
      "outputs": [],
      "source": "%pyspark\ngoodsNameId"
    },
    {
      "cell_type": "code",
      "execution_count": 29,
      "metadata": {
        "autoscroll": "auto"
      },
      "outputs": [],
      "source": "%pyspark\n\ngoodsNameId \u003d third_sdf_goods_id.select([\u0027goods_name\u0027,\u0027goods_id\u0027]).distinct().rdd.flatMap(lambda x: x).collect()\n\ngoodsId_goodsName \u003d { goodsNameId[i+1] : goodsNameId[i]  for i in range(0,len(goodsNameId),2)}\ngoodsName_goodsId \u003d { goodsNameId[i] : goodsNameId[i+1]   for i in range(0,len(goodsNameId),2)}\n\n\nprint(goodsName_goodsId)\nprint(goodsId_goodsName)\n"
    },
    {
      "cell_type": "code",
      "execution_count": 30,
      "metadata": {
        "autoscroll": "auto"
      },
      "outputs": [],
      "source": "%pyspark\nimport pickle\n\nwith open(\u0027/nongsanmul_data/nong_goodsName_goodsId.pickle\u0027,\u0027wb\u0027) as fw:\n    pickle.dump(goodsName_goodsId, fw)\n    \nwith open(\u0027/nongsanmul_data/nong_goodsId_goodsName.pickle\u0027,\u0027wb\u0027) as fw:\n    pickle.dump(goodsId_goodsName, fw)"
    },
    {
      "cell_type": "markdown",
      "metadata": {},
      "source": "## [3] product_id column 생성\n+ 결과물 : third_sdf_product_rename -\u003e  third_sdf_product_id\n"
    },
    {
      "cell_type": "markdown",
      "metadata": {},
      "source": "### (1) product_name 바꾸기\n+ 풋고추와 붉은고추 합치기 -\u003e 고추\n+ 새송이버섯, 팽이버섯, 느타리버섯 합치기 -\u003e 버섯\n+ ~~배추, 얼갈이배추 합치기 -\u003e 배추~~ 취소"
    },
    {
      "cell_type": "code",
      "execution_count": 33,
      "metadata": {
        "autoscroll": "auto"
      },
      "outputs": [],
      "source": "%pyspark\nfrom pyspark.sql.functions import col, when\nthird_sdf_product_rename\u003d\\\nthird_sdf_goods_id.withColumn(\u0027product_name\u0027 \\\n, when(col(\u0027product_name\u0027)\u003d\u003d\u0027풋고추\u0027, \u0027고추\u0027).when(col(\u0027product_name\u0027)\u003d\u003d\u0027붉은고추\u0027, \u0027고추\u0027)\\\n.when(col(\u0027product_name\u0027).like(\u0027%버섯\u0027), \u0027버섯\u0027)\\\n# .when(col(\u0027product_name\u0027)\u003d\u003d\u0027얼갈이배추\u0027, \u0027배추\u0027)\\\n.otherwise(col(\u0027product_name\u0027)))\n\nthird_sdf_product_rename.select(\u0027product_name\u0027,\u0027goods_name\u0027).distinct().show(n\u003d100)"
    },
    {
      "cell_type": "markdown",
      "metadata": {},
      "source": "### (2) {product_id : product_name}, {product_name : product_id} 생성 \u0026 저장"
    },
    {
      "cell_type": "code",
      "execution_count": 35,
      "metadata": {
        "autoscroll": "auto"
      },
      "outputs": [],
      "source": "%pyspark\n### 생성\nproduct_name_lst \u003d third_sdf_product_rename.select(\u0027product_name\u0027).distinct().rdd.flatMap(lambda x: x).collect()\n\nproductName_productId \u003d {}\nproductId_productName \u003d {}\nproductId \u003d 1000  #초기값\nfor i in range(len(product_name_lst)):\n    productName \u003d product_name_lst[i]\n    productId \u003d 1000 + i\n    productName_productId[productName] \u003d productId\n    productId_productName[productId] \u003d productName\n\nprint(productName_productId)\nprint(productId_productName)\n\n\n### 저장\nimport pickle\nwith open(\u0027/nongsanmul_data/nong_productName_productId.pickle\u0027,\u0027wb\u0027) as fw:\n    pickle.dump(productName_productId, fw)\n\nwith open(\u0027/nongsanmul_data/nong_productId_productName.pickle\u0027,\u0027wb\u0027) as fw:\n    pickle.dump(productId_productName, fw)\n"
    },
    {
      "cell_type": "raw",
      "metadata": {
        "format": "text/plain"
      },
      "source": "%pyspark\n"
    },
    {
      "cell_type": "markdown",
      "metadata": {},
      "source": "### (3) product_id column 생성"
    },
    {
      "cell_type": "code",
      "execution_count": 38,
      "metadata": {
        "autoscroll": "auto"
      },
      "outputs": [],
      "source": "%pyspark\n### pickle load\nimport pickle\nwith open(\u0027/nongsanmul_data/nong_productName_productId.pickle\u0027,\u0027rb\u0027) as fr:\n    productName_productId \u003d pickle.load(fr)\n\n### product_id column 생성\nfrom pyspark.sql.functions import col, lit\nthird_sdf_product_id \u003d third_sdf_product_rename\nthird_sdf_product_id \u003d third_sdf_product_id.withColumn(\u0027product_id\u0027,lit(999999))\nfor product_name in productName_productId:\n    third_sdf_product_id \u003d third_sdf_product_id.withColumn(\u0027product_id\u0027, when(col(\u0027product_name\u0027)\u003d\u003dproduct_name, productName_productId[product_name] ).otherwise(col(\u0027product_id\u0027)) )\n\nthird_sdf_product_id.select(\u0027product_name\u0027,\u0027product_id\u0027).distinct().show(n\u003d100)"
    },
    {
      "cell_type": "markdown",
      "metadata": {},
      "source": "### (4) goodsId_productId.pickle \u0026 productId_goodsId.pickle 생성\u0026 저장"
    },
    {
      "cell_type": "code",
      "execution_count": 40,
      "metadata": {
        "autoscroll": "auto"
      },
      "outputs": [],
      "source": "%pyspark\nproductId_goodsId_pdf \u003d third_sdf_product_id.select(\u0027product_id\u0027,\u0027goods_id\u0027).distinct().toPandas()"
    },
    {
      "cell_type": "code",
      "execution_count": 41,
      "metadata": {
        "autoscroll": "auto"
      },
      "outputs": [],
      "source": "%pyspark\n### 생성\ngoodsId_productId \u003d {}\nproductId_goodsId \u003d {}\n\nfor i in range(len(productId_goodsId_pdf)):\n    product_id \u003d productId_goodsId_pdf.loc[i,\u0027product_id\u0027]\n    goods_id \u003d productId_goodsId_pdf.loc[i,\u0027goods_id\u0027]\n    goodsId_productId[goods_id] \u003d product_id\n    \n    if product_id in productId_goodsId:\n        productId_goodsId[product_id].append(goods_id)\n    else:\n        productId_goodsId[product_id] \u003d[goods_id]\n\nprint(goodsId_productId)\nprint(productId_goodsId)"
    },
    {
      "cell_type": "code",
      "execution_count": 42,
      "metadata": {
        "autoscroll": "auto"
      },
      "outputs": [],
      "source": "%pyspark\n### 저장\nimport pickle\nwith open(\u0027/nongsanmul_data/nong_goodsId_productId.pickle\u0027,\u0027wb\u0027) as fw:\n    pickle.dump(goodsId_productId, fw)\n\nwith open(\u0027/nongsanmul_data/nong_productId_goodsId.pickle\u0027,\u0027wb\u0027) as fw:\n    pickle.dump(productId_goodsId, fw)"
    },
    {
      "cell_type": "markdown",
      "metadata": {},
      "source": "## [4] business column 생성\n+ 결과물 : third_sdf_business"
    },
    {
      "cell_type": "code",
      "execution_count": 44,
      "metadata": {
        "autoscroll": "auto"
      },
      "outputs": [],
      "source": "%pyspark\nfrom pyspark.sql.functions import col, lit\nthird_sdf_business \u003d third_sdf_product_id\nthird_sdf_business \u003d third_sdf_business.withColumn(\u0027business\u0027, lit(\u0027m\u0027))\nthird_sdf_business.show()"
    },
    {
      "cell_type": "code",
      "execution_count": 45,
      "metadata": {
        "autoscroll": "auto"
      },
      "outputs": [],
      "source": "%MySQL\nselect * from category\n"
    },
    {
      "cell_type": "markdown",
      "metadata": {},
      "source": "# 5. 4차 전처리 : null price row 지우기 "
    },
    {
      "cell_type": "code",
      "execution_count": 47,
      "metadata": {
        "autoscroll": "auto"
      },
      "outputs": [],
      "source": "%pyspark\nforth_sdf_notNull \u003d third_sdf_business\nforth_sdf_notNull \u003d forth_sdf_notNull.dropna(how\u003d\u0027any\u0027, subset\u003d[\u0027price\u0027,\u0027unit_price\u0027])\nforth_sdf_notNull.show()"
    },
    {
      "cell_type": "code",
      "execution_count": 48,
      "metadata": {
        "autoscroll": "auto"
      },
      "outputs": [],
      "source": "%pyspark\nfrom pyspark.sql.functions import col, isnan\nforth_sdf_notNull.filter(isnan(col(\u0027price\u0027))).show()\n\nforth_sdf_notNull.filter(col(\u0027price\u0027).isNull()).show()"
    },
    {
      "cell_type": "markdown",
      "metadata": {},
      "source": "# 6.  goods_price table 만들기\n+ 팽이버섯의 unit_price 바꾸기 : 150g 기준을 100g 기준으로 바꾸기\n+ column 맞추고\n+ 2021-10-01 ~ 2022-09-29 까지 값 채우기 "
    },
    {
      "cell_type": "markdown",
      "metadata": {},
      "source": "## [1] 전처리 결과물 가져오기 \u0026 팽이버섯의 unit_price 바꾸기 : 150g 기준을 100g 기준으로 바꾸기"
    },
    {
      "cell_type": "code",
      "execution_count": 51,
      "metadata": {
        "autoscroll": "auto"
      },
      "outputs": [],
      "source": "%pyspark\nimport pandas as pd\nafterPreprocessing_pdf \u003d forth_sdf_notNull.toPandas()\nafterPreprocessing_pdf"
    },
    {
      "cell_type": "code",
      "execution_count": 52,
      "metadata": {
        "autoscroll": "auto"
      },
      "outputs": [],
      "source": "%pyspark\n# 가격 줄이기\n# afterPreprocessing_pdf.loc[afterPreprocessing_pdf[\u0027goods_name\u0027].str.contains(\u0027팽이버섯\u0027),\u0027unit_price\u0027] *\u003d (10/15)\nafterPreprocessing_pdf[afterPreprocessing_pdf[\u0027goods_name\u0027].str.contains(\u0027팽이버섯\u0027)]"
    },
    {
      "cell_type": "markdown",
      "metadata": {},
      "source": "## [2] 함수 정의\n+ input df의 column\n    + goods_id, unit_price,  price, research_date, business로 구성되어 있음\n+ 제약사항\n    + business 값이 모두 같은 경우에만 정상작동함 \n"
    },
    {
      "cell_type": "code",
      "execution_count": 54,
      "metadata": {
        "autoscroll": "auto"
      },
      "outputs": [],
      "source": "%pyspark\n# 코드 줄인 버전\n\nimport datetime\nimport numpy as np\nimport pandas as pd\n# 초기세팅\n# tprice_goods_ssm_price_table.reset_index(drop\u003dTrue, inplace\u003dTrue)\n# tprice_goods_ssm_price_table \u003d pd.read_csv(\u0027/DB_data/참가격_주데이터_상품_가격_SSM.csv\u0027)\n# start_date \u003d datetime.date(2021,9,7)\n# end_date \u003d datetime.date(2022,9,30)\n\n\n\n\n\n\n# row 형식으로 된, 일데이터 주기가 아닌 데이터를, 일데이터 형식으로 바꾸기\ndef inserting_date(start_date, end_date, input_df, business): # Pandas DF를 이용\n    print(\u0027debug1\u0027)\n    \n    #---------------------------------------------------------------------------------------------------------------------------------#\n    #                 1. 초기작업 : 결과 df 생성, 초기값들 설정\n    #---------------------------------------------------------------------------------------------------------------------------------#\n\n    \n    # 초기 설정 값\n    start_goods_id \u003d min((input_df[\u0027goods_id\u0027]))\n    # print(\u0027d1\u0027)\n    end_goods_id \u003d max((input_df[\u0027goods_id\u0027]))\n    # print(\u0027d2\u0027)\n    cur_goods_id \u003d start_goods_id - 1\n    # print(\u0027d3\u0027)\n    cur_research_date \u003d start_date\n    # print(\u0027debug2\u0027)\n    \n    \n    # goods_id, research_date 기준으로 sorting 시키기\n    input_df \u003d input_df.reset_index(drop\u003dTrue)\n    input_df \u003d input_df.sort_values([\u0027goods_id\u0027,\u0027research_date\u0027])\n    # 추후에 삭제할 행\n    input_df.loc[len(input_df)] \u003d [end_goods_id+1, 0, 0 ,start_date.strftime(\"%Y-%m-%d\"), business]\n    # print(\u0027debug3\u0027)\n    \n    # result\n    result_df \u003d pd.DataFrame(columns\u003dinput_df.columns)\n    inserting_length \u003d 0\n    \n    \n    \n    input_df_length \u003d 0\n    # input_df의 끝까지 가지 않은 경우, 계속하기\n    ## 1. goods_id 가 달라지는 경우, research_date가 일치하면, input_df_length를 1 늘리기\n    while input_df_length \u003c len(input_df): # dummy row까지 쭉 진행,\n    \n        next_goods_id, next_unit_price, next_price, next_research_date, next_business \u003d input_df.loc[input_df_length]   # input_df의 다음(목표) row\n        # inserting_research_date \u003d cur_research_date                                                    # input_df의 현재 row\n    \n        \n        # goods_id가 같은 경우\n        if next_goods_id \u003d\u003d cur_goods_id:\n            ## input_df의 next row에 도달한 경우, 도달한 값 넣어주기\n    \n    \n\n            # print(\u0027debug 3\u0027)\n            ## 현재 inserting 날짜가, next_research_date에 도달하기 전까지 , 계속 row 삽입하기\n            while next_research_date !\u003d inserting_research_date.strftime(\"%Y-%m-%d\"):\n                # print(inserting_research_date.strftime(\"%Y-%m-%d\"), \u0027--------------------\u0027)\n                result_df.loc[inserting_length] \u003d cur_goods_id, cur_unit_price, cur_price, inserting_research_date.strftime(\"%Y-%m-%d\"),  cur_business\n                \n                \n                cur_research_date \u003d inserting_research_date                        # cur_research_date 업데이트\n                \n\n                inserting_research_date +\u003d  datetime.timedelta(days\u003d1) # inserting할 날짜 늘리기\n                inserting_length +\u003d 1   # result_df 길이 추가\n                \n            cur_goods_id \u003d next_goods_id                                       # cur_goods_id 업데이트\n            cur_unit_price \u003d next_unit_price\n            cur_price \u003d next_price                                             # cur_price 업데이트\n            cur_business \u003d next_business                                       # cur_business 업데이트\n            input_df_length +\u003d 1\n                \n    \n           \n    \n    \n        # 새로운 goods_id를 넣는 경우, 새로 진행\n        elif next_goods_id !\u003d cur_goods_id:\n            print(cur_goods_id)\n            # print(result_df)\n            \n            ## end_date 까지 row 채워주기\n            if cur_goods_id !\u003d start_goods_id - 1:  # 처음 시작하는 경우가 아니라면,\n                while end_date + datetime.timedelta(days\u003d1) \u003e inserting_research_date:\n                    result_df.loc[inserting_length] \u003d cur_goods_id, cur_unit_price,cur_price, inserting_research_date.strftime(\"%Y-%m-%d\"),  cur_business\n                    inserting_research_date +\u003d  datetime.timedelta(days\u003d1) # inserting할 날짜 늘리기\n                    inserting_length +\u003d 1   # result_df 길이 추가\n            \n            ## input_df의 마지막까지 진행됐다면 while문 break해서 끝내기\n            if input_df_length \u003d\u003d len(input_df) - 1:\n                print(\u0027here\u0027)\n                break\n            \n            ## inserting_research_date 초기화\n            inserting_research_date \u003d start_date\n            \n            ## 만약 첫 row가 start_date일이 아니면, 채워주기\n            inserting_unit_price \u003d next_unit_price\n            inserting_price \u003d next_price  # next_price의 가격을 앞에 채워주기\n            ### 다음 row의 날짜에 도달하기 전까지 계속 추가해 주기\n            while next_research_date !\u003d inserting_research_date.strftime(\"%Y-%m-%d\"):\n                result_df.loc[inserting_length] \u003d next_goods_id, next_unit_price, inserting_price, inserting_research_date.strftime(\"%Y-%m-%d\"), next_business\n                # print(inserting_research_date.strftime(\"%Y-%m-%d\"),\u0027\u003d\u003d\u003d\u003d\u003d\u003d\u003d\u003d\u003d\u003d\u003d\u003d\u003d\u003d\u003d\u003d\u003d\u003d\u003d\u003d\u003d\u003d\u003d\u003d\u003d\u003d\u003d\u003d\u003d\u003d\u003d\u003d\u003d\u003d\u003d\u003d\u003d\u003d\u003d\u003d\u003d\u0027)\n                \n                cur_research_date \u003d inserting_research_date                        # cur_research_date 업데이트\n                \n                \n                inserting_research_date +\u003d  datetime.timedelta(days\u003d1) # inserting할 날짜 늘리기\n                inserting_length +\u003d 1   # result_df 길이 추가\n            \n            input_df_length +\u003d 1    # input_df 길이 추가\n            cur_goods_id \u003d next_goods_id                                       # cur_goods_id 업데이트\n            cur_unit_price \u003d next_unit_price\n            cur_price \u003d next_price                                             # cur_price 업데이트\n            \n            cur_business \u003d next_business                                       # cur_business 업데이트\n            \n    return result_df"
    },
    {
      "cell_type": "markdown",
      "metadata": {},
      "source": "## [3] 값 채워넣기"
    },
    {
      "cell_type": "code",
      "execution_count": 56,
      "metadata": {
        "autoscroll": "auto"
      },
      "outputs": [],
      "source": "%pyspark\n\nimport datetime\nimport pandas as pd\n\n# 초기세팅\nstart_date \u003d datetime.date(2021,9,7)\nend_date \u003d datetime.date(2022,9,29)\n\n\nnong_goods_price_before \u003d afterPreprocessing_pdf[[\u0027goods_id\u0027, \u0027unit_price\u0027, \u0027price\u0027, \u0027research_date\u0027, \u0027business\u0027]]\nnong_goods_price_before \u003d nong_goods_price_before.sort_values([\u0027goods_id\u0027,\u0027research_date\u0027]).reset_index(drop\u003dTrue)\nnong_goods_price_after \u003d inserting_date(start_date, end_date, nong_goods_price_before, business\u003d\u0027m\u0027 )"
    },
    {
      "cell_type": "code",
      "execution_count": 57,
      "metadata": {
        "autoscroll": "auto"
      },
      "outputs": [],
      "source": "%pyspark\npd.set_option(\u0027display.max_rows\u0027, None)\nnong_goods_price_before.tail(300)"
    },
    {
      "cell_type": "code",
      "execution_count": 58,
      "metadata": {
        "autoscroll": "auto"
      },
      "outputs": [],
      "source": "%pyspark\nnong_goods_price_after.tail(500)"
    },
    {
      "cell_type": "markdown",
      "metadata": {},
      "source": "## [4] [base] 농산물 goods_price table 저장하기\n"
    },
    {
      "cell_type": "code",
      "execution_count": 60,
      "metadata": {
        "autoscroll": "auto"
      },
      "outputs": [],
      "source": "%pyspark\nnong_goods_price_after.to_csv(\u0027/nongsanmul_data/from20210907_to20220929_nongsanmul_daily_base.csv\u0027, header\u003dTrue, index\u003dFalse)"
    },
    {
      "cell_type": "code",
      "execution_count": 61,
      "metadata": {
        "autoscroll": "auto"
      },
      "outputs": [],
      "source": "%MySQL\nSELECT * from goods_price\n"
    },
    {
      "cell_type": "raw",
      "metadata": {
        "format": "text/plain"
      },
      "source": "%MySQL\n"
    }
  ]
}