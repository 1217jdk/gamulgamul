﻿{
  "metadata": {
    "name": "[Nong_base]1_get_base_data_of_NongSanMul",
    "kernelspec": {
      "language": "scala",
      "name": "spark2-scala"
    },
    "language_info": {
      "codemirror_mode": "text/x-scala",
      "file_extension": ".scala",
      "mimetype": "text/x-scala",
      "name": "scala",
      "pygments_lexer": "scala"
    }
  },
  "nbformat": 4,
  "nbformat_minor": 2,
  "cells": [
    {
      "cell_type": "markdown",
      "metadata": {},
      "source": "# 1. API key \u0026 검색어"
    },
    {
      "cell_type": "markdown",
      "metadata": {},
      "source": "## [1] API Key"
    },
    {
      "cell_type": "code",
      "execution_count": 2,
      "metadata": {
        "autoscroll": "auto"
      },
      "outputs": [],
      "source": "%pyspark\r\n# p_cert_key \u003d \u0027\u0027\r\n# p_cert_id \u003d \u0027\u0027"
    },
    {
      "cell_type": "markdown",
      "metadata": {},
      "source": "## [2] 검색어\n"
    },
    {
      "cell_type": "code",
      "execution_count": 4,
      "metadata": {
        "autoscroll": "auto"
      },
      "outputs": [],
      "source": "%pyspark\n# 품목그룹코드         / p_itemcategorycode     : 식량작물(100), 채소류(200), 특용작물(300), 과일류(400)\n# 품목코드             / p_itemcode             : 쌀, 찹쌀, 고구마, 배추 등을 지칭\n# 품종코드             / p_kindcode             : 일반계, 흰 콩(국산), 붉은 팥(국산), 국산, 밤, 수미, 봄, 고랭지, 가을,월동 등을 지칭\n# 일별 데이터 등급코드 / p_productrankcode      : 04 - 상품, 05 - 중품\n# 월별 데이터 등급코드 / p_graderank            : 1 - 상품, 2 - 중품\n\n\napi_codes\u003d\\\n[#품목그룹코드,        품목코드,     품종코드,     일별 데이터 등급코드, 월별 데이터 등급코드,   품목명,      품종명,                 등급\n# p_itemcategorycode,  p_itemcode,   p_kindcode,   p_productrankcode,    p_graderank\n(\u0027100\u0027,      \t       \u0027111\u0027,\t     \u002701\u0027,\t       \u002704\u0027,                  \u00271\u0027),                  # 쌀\t\t        일반계\n(\u0027100\u0027,      \t       \u0027112\u0027,\t     \u002701\u0027,\t       \u002704\u0027,                  \u00271\u0027),                  # 찹쌀\t\t        일반계\n(\u0027100\u0027,      \t       \u0027141\u0027,\t     \u002701\u0027,\t       \u002704\u0027,                  \u00271\u0027),                  # 콩\t\t        흰 콩(국산)\n(\u0027100\u0027,      \t       \u0027142\u0027,\t     \u002700\u0027,\t       \u002704\u0027,                  \u00271\u0027),                  # 팥\t\t        붉은 팥(국산)\n(\u0027100\u0027,      \t       \u0027143\u0027,\t     \u002700\u0027,\t       \u002704\u0027,                  \u00271\u0027),                  # 녹두\t\t        국산\n(\u0027100\u0027,      \t       \u0027151\u0027,\t     \u002700\u0027,\t       \u002704\u0027,                  \u00271\u0027),                  # 고구마\t        밤\n(\u0027100\u0027,      \t       \u0027152\u0027,\t     \u002701\u0027,\t       \u002704\u0027,                  \u00271\u0027),                  # 감자\t\t        수미\n(\u0027200\u0027,      \t       \u0027211\u0027,\t     \u002701\u0027,\t       \u002704\u0027,                  \u00271\u0027),                  # 배추\t\t        봄\n(\u0027200\u0027,      \t       \u0027211\u0027,\t     \u002702\u0027,\t       \u002704\u0027,                  \u00271\u0027),                  # 배추\t\t        고랭지\n(\u0027200\u0027,      \t       \u0027211\u0027,\t     \u002703\u0027,\t       \u002704\u0027,                  \u00271\u0027),                  # 배추\t\t        가을\n(\u0027200\u0027,      \t       \u0027211\u0027,\t     \u002706\u0027,\t       \u002704\u0027,                  \u00271\u0027),                  # 배추\t\t        월동\n(\u0027200\u0027,      \t       \u0027212\u0027,\t     \u002700\u0027,\t       \u002704\u0027,                  \u00271\u0027),                  # 양배추\t        양배추\n(\u0027200\u0027,      \t       \u0027213\u0027,\t     \u002700\u0027,\t       \u002704\u0027,                  \u00271\u0027),                  # 시금치\t        시금치\n(\u0027200\u0027,      \t       \u0027214\u0027,\t     \u002701\u0027,\t       \u002704\u0027,                  \u00271\u0027),                  # 상추\t\t        적\n(\u0027200\u0027,      \t       \u0027215\u0027,\t     \u002700\u0027,\t       \u002704\u0027,                  \u00271\u0027),                  # 얼갈이배추\t\t얼갈이배추\n(\u0027200\u0027,      \t       \u0027221\u0027,\t     \u002700\u0027,\t       \u002704\u0027,                  \u00271\u0027),                  # 수박\t\t        수박\n(\u0027200\u0027,      \t       \u0027222\u0027,\t     \u002700\u0027,\t       \u002704\u0027,                  \u00271\u0027),                  # 참외\t\t        참외\n(\u0027200\u0027,      \t       \u0027223\u0027,\t     \u002701\u0027,\t       \u002704\u0027,                  \u00271\u0027),                  # 오이\t\t        가시계통\n(\u0027200\u0027,      \t       \u0027224\u0027,\t     \u002701\u0027,\t       \u002704\u0027,                  \u00271\u0027),                  # 호박\t\t        애호박\n(\u0027200\u0027,      \t       \u0027225\u0027,\t     \u002700\u0027,\t       \u002704\u0027,                  \u00271\u0027),                  # 토마토\t        토마토\n(\u0027200\u0027,      \t       \u0027226\u0027,\t     \u002700\u0027,\t       \u002704\u0027,                  \u00271\u0027),                  # 딸기\t\t        딸기\n(\u0027200\u0027,      \t       \u0027231\u0027,\t     \u002701\u0027,\t       \u002704\u0027,                  \u00271\u0027),                  # 무\t\t        봄\n(\u0027200\u0027,      \t       \u0027231\u0027,\t     \u002702\u0027,\t       \u002704\u0027,                  \u00271\u0027),                  # 무\t\t        고랭지\n(\u0027200\u0027,      \t       \u0027231\u0027,\t     \u002703\u0027,\t       \u002704\u0027,                  \u00271\u0027),                  # 무\t\t        가을\n(\u0027200\u0027,      \t       \u0027231\u0027,\t     \u002706\u0027,\t       \u002704\u0027,                  \u00271\u0027),                  # 무\t\t        월동\n(\u0027200\u0027,      \t       \u0027232\u0027,\t     \u002701\u0027,\t       \u002704\u0027,                  \u00271\u0027),                  # 당근\t\t        무세척\n(\u0027200\u0027,      \t       \u0027233\u0027,\t     \u002700\u0027,\t       \u002704\u0027,                  \u00271\u0027),                  # 열무\t\t        열무\n(\u0027200\u0027,      \t       \u0027242\u0027,\t     \u002700\u0027,\t       \u002704\u0027,                  \u00271\u0027),                  # 풋고추\t        풋고추\n(\u0027200\u0027,      \t       \u0027243\u0027,\t     \u002700\u0027,\t       \u002704\u0027,                  \u00271\u0027),                  # 붉은고추\t        붉은고추\n(\u0027200\u0027,      \t       \u0027245\u0027,\t     \u002700\u0027,\t       \u002704\u0027,                  \u00271\u0027),                  # 양파\t\t        양파\n(\u0027200\u0027,      \t       \u0027246\u0027,\t     \u002700\u0027,\t       \u002704\u0027,                  \u00271\u0027),                  # 파\t\t        대파\n(\u0027200\u0027,      \t       \u0027247\u0027,\t     \u002700\u0027,\t       \u002704\u0027,                  \u00271\u0027),                  # 생강\t\t        국산\n(\u0027200\u0027,      \t       \u0027248\u0027,\t     \u002700\u0027,\t       \u002704\u0027,                  \u00271\u0027),                  # 고춧가루\t        국산\n(\u0027200\u0027,      \t       \u0027253\u0027,\t     \u002700\u0027,\t       \u002704\u0027,                  \u00271\u0027),                  # 깻잎\t\t        깻잎\n(\u0027200\u0027,      \t       \u0027255\u0027,\t     \u002700\u0027,\t       \u002704\u0027,                  \u00271\u0027),                  # 피망\t\t        청\n(\u0027200\u0027,      \t       \u0027256\u0027,\t     \u002700\u0027,\t       \u002704\u0027,                  \u00271\u0027),                  # 파프리카\t        파프리카\n(\u0027200\u0027,      \t       \u0027257\u0027,\t     \u002700\u0027,\t       \u002704\u0027,                  \u00271\u0027),                  # 멜론\t\t        멜론\n(\u0027200\u0027,      \t       \u0027258\u0027,\t     \u002701\u0027,\t       \u002704\u0027,                  \u00271\u0027),                  # 깐마늘(국산)\t\t깐마늘(국산)\n(\u0027200\u0027,      \t       \u0027422\u0027,\t     \u002701\u0027,\t       \u002704\u0027,                  \u00271\u0027),                  # 방울토마토\t\t방울토마토\n(\u0027300\u0027,      \t       \u0027312\u0027,\t     \u002701\u0027,\t       \u002704\u0027,                  \u00271\u0027),                  # 참깨\t\t        백색(국산)\n(\u0027300\u0027,      \t       \u0027314\u0027,\t     \u002701\u0027,\t       \u002704\u0027,                  \u00271\u0027),                  # 땅콩\t\t        국산\n(\u0027300\u0027,      \t       \u0027314\u0027,\t     \u002702\u0027,\t       \u002705\u0027,                  \u00272\u0027),                  # 땅콩\t\t        수입\n(\u0027300\u0027,      \t       \u0027315\u0027,\t     \u002701\u0027,\t       \u002704\u0027,                  \u00271\u0027),                  # 느타리버섯\t\t애느타리버섯\n(\u0027300\u0027,      \t       \u0027316\u0027,\t     \u002700\u0027,\t       \u002704\u0027,                  \u00271\u0027),                  # 팽이버섯\t\t    팽이버섯\n(\u0027300\u0027,      \t       \u0027317\u0027,\t     \u002700\u0027,\t       \u002704\u0027,                  \u00271\u0027),                  # 새송이버섯\t\t새송이버섯\n(\u0027300\u0027,      \t       \u0027318\u0027,\t     \u002700\u0027,\t       \u002705\u0027,                  \u00272\u0027),                  # 호두\t\t        수입\n(\u0027300\u0027,      \t       \u0027319\u0027,\t     \u002700\u0027,\t       \u002705\u0027,                  \u00272\u0027),                  # 아몬드\t        수입\n(\u0027400\u0027,      \t       \u0027411\u0027,\t     \u002705\u0027,\t       \u002705\u0027,                  \u00272\u0027),                  # 사과\t\t        후지               과일은 안적힌 것은 중품\n(\u0027400\u0027,      \t       \u0027412\u0027,\t     \u002701\u0027,\t       \u002705\u0027,                  \u00272\u0027),                  # 배\t\t        신고\n(\u0027400\u0027,      \t       \u0027413\u0027,\t     \u002701\u0027,\t       \u002704\u0027,                  \u00271\u0027),                  # 복숭아\t        백도               상품\n(\u0027400\u0027,      \t       \u0027414\u0027,\t     \u002701\u0027,\t       \u002705\u0027,                  \u00272\u0027),                  # 포도\t\t        캠벨얼리\n(\u0027400\u0027,      \t       \u0027415\u0027,\t     \u002701\u0027,\t       \u002714\u0027,                  \u00272\u0027),                  # 감귤\t\t        노지               \n(\u0027400\u0027,      \t       \u0027415\u0027,\t     \u002702\u0027,\t       \u002714\u0027,                  \u00272\u0027),                  # 감귤\t\t        시설               \n(\u0027400\u0027,      \t       \u0027416\u0027,\t     \u002700\u0027,\t       \u002705\u0027,                  \u00272\u0027),                  # 단감\t\t        단감\n(\u0027400\u0027,      \t       \u0027418\u0027,\t     \u002702\u0027,\t       \u002705\u0027,                  \u00272\u0027),                  # 바나나\t\t    수입\n# (\u0027400\u0027,      \t       \u0027419\u0027,\t     \u002701\u0027,\t       \u002704\u0027,                  \u00271\u0027),                  # 참다래\t        국산               상품\n(\u0027400\u0027,      \t       \u0027419\u0027,\t     \u002702\u0027,\t       \u002704\u0027,                  \u00271\u0027),                  # 참다래\t        그린 뉴질랜드      상품\n(\u0027400\u0027,      \t       \u0027420\u0027,\t     \u002702\u0027,\t       \u002705\u0027,                  \u00272\u0027),                  # 파인애플\t        수입               \n(\u0027400\u0027,      \t       \u0027421\u0027,\t     \u002703\u0027,\t       \u002704\u0027,                  \u00271\u0027),                  # 오렌지\t        미국 네이블        상품\n(\u0027400\u0027,      \t       \u0027424\u0027,\t     \u002700\u0027,\t       \u002705\u0027,                  \u00272\u0027),                  # 레몬\t\t        수입               \n(\u0027400\u0027,      \t       \u0027425\u0027,\t     \u002700\u0027,\t       \u002705\u0027,                  \u00272\u0027),                  # 체리\t\t        수입               \n(\u0027400\u0027,      \t       \u0027426\u0027,\t     \u002700\u0027,\t       \u002705\u0027,                  \u00272\u0027),                  # 건포도\t        수입               \n(\u0027400\u0027,      \t       \u0027427\u0027,\t     \u002700\u0027,\t       \u002705\u0027,                  \u00272\u0027),                  # 건블루베리\t\t수입               \n(\u0027400\u0027,      \t       \u0027428\u0027,\t     \u002700\u0027,\t       \u002704\u0027,                  \u00271\u0027),                  # 망고\t\t        수입               상품\n  ]                                                            "
    },
    {
      "cell_type": "markdown",
      "metadata": {},
      "source": "# 2. 데이터 받아서 저장하기 (일별소매데이터)\n+ api 참고 : https://www.kamis.or.kr/customer/reference/openapi_list.do?action\u003ddetail\u0026boardno\u003d1\n"
    },
    {
      "cell_type": "markdown",
      "metadata": {},
      "source": "## [1] 과거 전체 데이터 받아오기\n+ 처음에 구성할 때, 썼던 것"
    },
    {
      "cell_type": "markdown",
      "metadata": {},
      "source": "### (1) 사용할 날짜 만들기\n+ 2021년 10월 ~ 2022년 09월"
    },
    {
      "cell_type": "code",
      "execution_count": 8,
      "metadata": {
        "autoscroll": "auto"
      },
      "outputs": [],
      "source": "%pyspark\n# 사용할 날짜 만들기\nimport datetime\nfrom dateutil.relativedelta import relativedelta\n\nstart \u003d []\nend \u003d []\nfilename\u003d[]\n\n\nstart_date \u003d datetime.date(2021,10,1).strftime(\u0027%Y-%m-%d\u0027)\nstart_date \u003d datetime.date(2021,10,1)\n\nfor i in range(1,13):\n    start.append(start_date.strftime(\u0027%Y-%m-%d\u0027))\n    filename.append(start_date.strftime(\u0027%Y%m%d\u0027))\n    start_date \u003d start_date + relativedelta(months\u003d1)\n    end_date \u003d start_date - datetime.timedelta(days\u003d1)\n    end.append(end_date.strftime(\u0027%Y-%m-%d\u0027))\n    \n\n\nprint(start)\nprint( end)\nprint( filename)"
    },
    {
      "cell_type": "markdown",
      "metadata": {},
      "source": "### (2) 과거 전체 데이터 받아오기\n+ 2021-10-01 ~ 2022-09-29"
    },
    {
      "cell_type": "code",
      "execution_count": 10,
      "metadata": {
        "autoscroll": "auto"
      },
      "outputs": [],
      "source": "%pyspark\n#api_codes\u003d\\\n#[#품목그룹코드,        품목코드,     품종코드,     일별 데이터 등급코드, 월별 데이터 등급코드,   품목명,      품종명,                 등급\n# p_itemcategorycode,  p_itemcode,   p_kindcode,   p_productrankcode,    p_graderank\n\nimport pandas as pd\n\n\nerror_pdf \u003d pd.DataFrame(columns\u003d[\u0027message\u0027,\u0027p_itemcategorycode\u0027, \u0027p_itemcode\u0027, \u0027p_kindcode\u0027, \u0027p_productrankcode\u0027])\nerror_pdf_length \u003d 0\n\n# 검색 API 이용해서, 농산물 검색\nimport os\nimport sys\nimport urllib.request\nimport pprint, json\nimport numpy as np\np_productclscode \u003d \u002701\u0027       # 소/도매 (01/02)\n# p_startday \u003d \u00272022-09-01\u0027   \n# p_endday \u003d \u00272022-09-30\u0027\n\n#p_itemcategorycode \u003d \u0027100\u0027   # 품목그룹코드 : 식량작물(100), 채소류(200), 특용작물(300), 과일류(400)\n#p_itemcode \u003d \u0027111\u0027           # 품목코드 : 쌀, 찹쌀, 고구마 등을 지칭\n#p_kindcode \u003d \u002701\u0027            # 픔종코드\n#p_productrankcode \u003d \u002704\u0027     # 등급코드 : 상품(04), 중품(05)\n\np_returntype \u003d \u0027json\u0027\naction\u003d\u0027periodProductList\u0027\np_convert_kg_yn\u003d\u0027N\u0027\n\n\n# 날짜 지정\nfor i in range(len(filename)):\n    p_startday \u003d start[i]\n    p_endday \u003d end[i]\n    filedate \u003d filename[i]\n    \n    # 저장할 df\n    result_pdf \u003d pd.DataFrame(columns\u003d[\u0027itemname\u0027,\t\u0027kindname\u0027, \u0027research_date\u0027, \u0027price\u0027,\u0027unit_price\u0027])\n    \n    \n    # 파라미터에 대해서 반복\n    for p_itemcategorycode, p_itemcode, p_kindcode, p_productrankcode, p_graderank in api_codes:\n    \n        url \u003d f\"http://www.kamis.or.kr/service/price/xml.do?action\u003d{action}\u0026p_productclscode\u003d{p_productclscode}\u0026p_startday\u003d{p_startday}\u0026p_endday\u003d{p_endday}\u0026p_itemcategorycode\u003d{p_itemcategorycode}\u0026p_itemcode\u003d{p_itemcode}\u0026p_kindcode\u003d{p_kindcode}\u0026p_productrankcode\u003d{p_productrankcode}\u0026p_cert_key\u003d{p_cert_key}\u0026p_cert_id\u003d{p_cert_id}\u0026p_returntype\u003d{p_returntype}\u0026p_countrycode\u003d1101\"\n    \n        # print(url)\n        \n        request \u003d urllib.request.Request(url)\n        response \u003d urllib.request.urlopen(request)\n        rescode \u003d response.getcode()\n        if(rescode\u003d\u003d200):\n            response_body \u003d response.read()\n            tmp \u003d json.loads(response_body.decode(\u0027utf-8\u0027))\n            print(tmp)\n            # df 생성\n            if tmp[\u0027data\u0027]!\u003d[\u0027001\u0027]:\n                test \u003d pd.DataFrame(tmp[\u0027data\u0027][\u0027item\u0027])\n        \n                # 유통만 가져오기\n                marketname \u003d list(map(str, test[\u0027marketname\u0027]))\n                test[\u0027marketname\u0027] \u003d marketname\n                test \u003d test[test[\u0027marketname\u0027].str.contains(\u0027유통\u0027)].reset_index(drop\u003dTrue)\n                \n                # 유통 없으면, 그만하기\n                if len(test) \u003d\u003d 0:\n                    continue\n    \n                \n                # 날짜 컬럼 추가\n                research_date \u003d [ test.loc[i,\u0027yyyy\u0027] + \u0027-\u0027 + test.loc[i,\u0027regday\u0027][:2] + \u0027-\u0027 + test.loc[i,\u0027regday\u0027][3:5]   for i in range(len(test))]\n                test[\u0027research_date\u0027] \u003d research_date\n                \n                # 가격 바꾸기\n                price \u003d list(test[\u0027price\u0027])\n                for i in range(len(price)):\n                    p \u003d price[i]\n                    if p \u003d\u003d \u0027-\u0027:\n                        price[i] \u003d np.nan\n                    else:\n                        price[i] \u003d int(p.replace(\u0027,\u0027,\u0027\u0027))\n    \n                # price \u003d [ int(string_price.replace(\u0027,\u0027,\u0027\u0027)) for string_price in price    ]\n                test[\u0027price\u0027] \u003d price\n            \n                # groupby\n                test \u003d test.groupby([\u0027itemname\u0027,\u0027kindname\u0027,\u0027research_date\u0027]).aggregate({\u0027price\u0027:\u0027mean\u0027})\n                test.round({\u0027price\u0027:2})\n                test \u003d test.reset_index()\n        \n                # unit_price 추가\n                test[\u0027unit_price\u0027] \u003d test[\u0027price\u0027] if test.loc[0,\u0027itemname\u0027]!\u003d\u0027쌀\u0027 else test[\u0027price\u0027]/20\n            \n                # concat\n                result_pdf \u003d pd.concat([result_pdf, test])\n            \n            \n            # 데이터 없거나, 에러인 경우\n            else:\n                error_pdf.loc[error_pdf_length] \u003d [tmp[\u0027data\u0027][0], p_itemcategorycode, p_itemcode, p_kindcode, p_productrankcode ]\n                error_pdf_length +\u003d 1\n        else:\n            print(\"Error Code:\" + rescode)\n    \n    \n    result_pdf.to_csv(f\u0027/nongsanmul_data/{filedate}.csv\u0027,encoding\u003d\u0027cp949\u0027, index\u003dFalse)   \n        "
    },
    {
      "cell_type": "raw",
      "metadata": {
        "format": "text/plain"
      },
      "source": "%pyspark\n"
    }
  ]
}