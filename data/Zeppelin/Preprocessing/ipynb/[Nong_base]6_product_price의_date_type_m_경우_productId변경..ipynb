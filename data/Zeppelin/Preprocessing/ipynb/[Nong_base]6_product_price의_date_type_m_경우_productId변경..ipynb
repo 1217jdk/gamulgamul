﻿{
  "metadata": {
    "name": "[Nong_base]6_product_price의_date_type_m_경우_productId변경",
    "kernelspec": {
      "language": "scala",
      "name": "spark2-scala"
    },
    "language_info": {
      "codemirror_mode": "text/x-scala",
      "file_extension": ".scala",
      "mimetype": "text/x-scala",
      "name": "scala",
      "pygments_lexer": "scala"
    }
  },
  "nbformat": 4,
  "nbformat_minor": 2,
  "cells": [
    {
      "cell_type": "markdown",
      "metadata": {},
      "source": "# 1. DB에서 바꿔야 하는 것들\n+ ~~goods table 변경~~\n    + ~~name 변경~~ \n    + ~~product_id 변경하면서, productIdOld_productIdNew pickle 만들기~~\n+ ~~product table 변경~~\n    + ~~productIdOld_productIdNew로 product_id 변경~~\n    + ~~product name 변경~~\n    + ~~product measure 변경~~\n    + ~~productId_categoryId.pickle 생성~~\n\n+ pickle 최신화 (전체상품들에 대해서)\n    + ~~goodsId_goodsName~~ -1\n    + ~~goodsName_goodsId~~ -1\n    + ~~goodsId_productId~~ -2\n    + ~~productId_goodsId~~ -2\n    + goods_amount -3  : 같이 확인하기\n    + ~~productId_productName~~ -4\n    + ~~productName_productId~~ -4\n    + ~~categoryId_categoryName~~ -5\n    + ~~categoryName_categoryId~~ -5\n\n+ **product_price table의 date_type \u003d \u0027m\u0027 경우의 것들 productId 바꿔주기**\n    + ~~**productIdOld_productIdNew로 product_id 변경**~~\n    + goods_price table 기준으로,  product 선택"
    },
    {
      "cell_type": "markdown",
      "metadata": {},
      "source": "### (1) product_id 변경하기"
    },
    {
      "cell_type": "code",
      "execution_count": 2,
      "metadata": {
        "autoscroll": "auto"
      },
      "outputs": [],
      "source": "%pyspark\n### 1. dataframe load\nimport pandas as pd\nproduct_month_price_table \u003d pd.read_csv(\u0027/DB_data/product_month_price_table.csv\u0027)\nproduct_month_price_table"
    },
    {
      "cell_type": "code",
      "execution_count": 3,
      "metadata": {
        "autoscroll": "auto"
      },
      "outputs": [],
      "source": "%pyspark\n### 2. pickle load\nimport pickle\nwith open(\u0027/DB_data/productIdOld_productIdNew_1001.pickle\u0027,\u0027rb\u0027) as fr:\n    productIdOld_productIdNew \u003d pickle.load(fr)\nproductIdOld_productIdNew"
    },
    {
      "cell_type": "code",
      "execution_count": 4,
      "metadata": {
        "autoscroll": "auto"
      },
      "outputs": [],
      "source": "%pyspark\n### 3. product_id 바꾸기\ntmp \u003d product_month_price_table.copy()\nfor i in range(len(tmp)):\n    product_id \u003d tmp.loc[i,\u0027product_id\u0027]\n    if product_id in productIdOld_productIdNew:\n        new_product_id \u003d productIdOld_productIdNew[product_id]\n        tmp.loc[i,\u0027product_id\u0027] \u003d new_product_id\ntmp"
    },
    {
      "cell_type": "code",
      "execution_count": 5,
      "metadata": {
        "autoscroll": "auto"
      },
      "outputs": [],
      "source": "%pyspark\n### 4. groupBy로 값 평균내주기\n# grouped_tmp \u003d tmp.groupby([\u0027product_id\u0027,\u0027research_date\u0027,\u0027date_type\u0027,\u0027business\u0027]).mean(\u0027unit_price\u0027)\ngrouped_tmp \u003d tmp.groupby([\u0027product_id\u0027,\u0027research_date\u0027,\u0027date_type\u0027]).mean()\ngrouped_tmp \u003d grouped_tmp.reset_index()\ngrouped_tmp \u003d grouped_tmp[[\u0027product_id\u0027, \u0027unit_price\u0027,\u0027price\u0027, \u0027research_date\u0027, \u0027date_type\u0027, \u0027business\u0027]]\ngrouped_tmp.to_csv(\u0027/DB_data/20221001_product_month_price_table.csv\u0027, header\u003dTrue, index\u003dFalse) \ngrouped_tmp "
    },
    {
      "cell_type": "code",
      "execution_count": 6,
      "metadata": {
        "autoscroll": "auto"
      },
      "outputs": [],
      "source": "%pyspark\nimport pandas as pd\nproduct_table \u003d pd.read_csv(\u0027/DB_data/20221001_product_table.csv\u0027,)\nproduct_table[product_table[\u0027product_id\u0027]\u003d\u003d1012]"
    },
    {
      "cell_type": "raw",
      "metadata": {
        "format": "text/plain"
      },
      "source": "%pyspark\n"
    },
    {
      "cell_type": "markdown",
      "metadata": {},
      "source": "### (2) goods_price table에서 사용하는 goods_id 가져오기"
    },
    {
      "cell_type": "code",
      "execution_count": 9,
      "metadata": {
        "autoscroll": "auto"
      },
      "outputs": [],
      "source": "%pyspark\nimport pandas as pd\ngoods_price_pdf \u003d pd.read_csv(\u0027/DB_data/20220929_or_20220930_tmp_goods_price.csv\u0027)\nusing_goods_id_lst \u003d goods_price_pdf.goods_id.unique()"
    },
    {
      "cell_type": "code",
      "execution_count": 10,
      "metadata": {
        "autoscroll": "auto"
      },
      "outputs": [],
      "source": "%pyspark\nimport pandas as pd\n"
    },
    {
      "cell_type": "code",
      "execution_count": 11,
      "metadata": {
        "autoscroll": "auto"
      },
      "outputs": [],
      "source": "%MySQL\nSELECT * FROM goods\nwhere name like \"%감자%\"\n-- where date_type\u003d\u0027m\u0027\n"
    },
    {
      "cell_type": "code",
      "execution_count": 12,
      "metadata": {
        "autoscroll": "auto"
      },
      "outputs": [],
      "source": "%MySQL\nselect * from product\n"
    },
    {
      "cell_type": "raw",
      "metadata": {
        "format": "text/plain"
      },
      "source": "%MySQL\n"
    }
  ]
}