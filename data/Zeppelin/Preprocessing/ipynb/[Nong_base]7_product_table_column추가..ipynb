﻿{
  "metadata": {
    "name": "[Nong_base]7_product_table_column추가",
    "kernelspec": {
      "language": "scala",
      "name": "spark2-scala"
    },
    "language_info": {
      "codemirror_mode": "text/x-scala",
      "file_extension": ".scala",
      "mimetype": "text/x-scala",
      "name": "scala",
      "pygments_lexer": "scala"
    }
  },
  "nbformat": 4,
  "nbformat_minor": 2,
  "cells": [
    {
      "cell_type": "markdown",
      "metadata": {},
      "source": "+ column 추가\n    + recent_price_off\n    + recent_price_on\n    + price_gap_off\n    + price_gap_on"
    },
    {
      "cell_type": "code",
      "execution_count": 1,
      "metadata": {
        "autoscroll": "auto"
      },
      "outputs": [],
      "source": "%pyspark\n# data load 후에 column 추가\nimport pandas as pd\nproduct \u003d pd.read_csv(\u0027/DB_data/20221001_product_table.csv\u0027)\nproduct[\u0027recent_price_off\u0027] \u003d 0\nproduct[\u0027recent_price_on\u0027] \u003d 0\nproduct[\u0027price_gap_off\u0027] \u003d 0\nproduct[\u0027price_gap_on\u0027] \u003d 0\nproduct"
    },
    {
      "cell_type": "code",
      "execution_count": 2,
      "metadata": {
        "autoscroll": "auto"
      },
      "outputs": [],
      "source": "%pyspark\n# 저장\nproduct.to_csv(\u0027/DB_data/20221001_product_table.csv\u0027,header\u003dTrue, index\u003dFalse)\nproduct \u003d pd.read_csv(\u0027/DB_data/20221001_product_table.csv\u0027)\nproduct"
    },
    {
      "cell_type": "raw",
      "metadata": {
        "format": "text/plain"
      },
      "source": "%pyspark\n"
    }
  ]
}