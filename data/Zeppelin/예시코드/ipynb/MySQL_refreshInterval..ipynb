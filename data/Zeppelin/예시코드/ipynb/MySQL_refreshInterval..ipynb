﻿{
  "metadata": {
    "name": "MySQL_refreshInterval",
    "kernelspec": {
      "language": "scala",
      "name": "spark2-scala"
    },
    "language_info": {
      "codemirror_mode": "text/x-scala",
      "file_extension": ".scala",
      "mimetype": "text/x-scala",
      "name": "scala",
      "pygments_lexer": "scala"
    }
  },
  "nbformat": 4,
  "nbformat_minor": 2,
  "cells": [
    {
      "cell_type": "markdown",
      "metadata": {},
      "source": "+ 0.5초마다 refresh"
    },
    {
      "cell_type": "code",
      "execution_count": 1,
      "metadata": {
        "autoscroll": "auto"
      },
      "outputs": [],
      "source": "%MySQL(refreshInterval\u003d5000)\nselect * from price_index;"
    }
  ]
}