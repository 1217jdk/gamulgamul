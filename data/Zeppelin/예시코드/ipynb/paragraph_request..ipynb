﻿{
  "metadata": {
    "name": "paragraph_request",
    "kernelspec": {
      "language": "scala",
      "name": "spark2-scala"
    },
    "language_info": {
      "codemirror_mode": "text/x-scala",
      "file_extension": ".scala",
      "mimetype": "text/x-scala",
      "name": "scala",
      "pygments_lexer": "scala"
    }
  },
  "nbformat": 4,
  "nbformat_minor": 2,
  "cells": [
    {
      "cell_type": "code",
      "execution_count": 0,
      "metadata": {
        "autoscroll": "auto"
      },
      "outputs": [],
      "source": "%spark.conf\n\nSPARK_HOME  /usr/local/spark\nPYSPARK_PYTHON /usr/bin/python3\nspark.pyspark.python  /usr/bin/python3\n\n# set driver memory to 8g\nspark.driver.memory 8g\n\n# set executor number to be 3\nspark.executor.instances  3\n\n# set executor memory 4g\nspark.executor.memory  2g\n\n# Any other spark properties can be set here. Here\u0027s avaliable spark configruation you can set. (http://spark.apache.org/docs/latest/configuration.html)"
    },
    {
      "cell_type": "code",
      "execution_count": 1,
      "metadata": {
        "autoscroll": "auto"
      },
      "outputs": [],
      "source": "%pyspark\nimport requests\n# MySQL DB 변경하는 zeppelin 요청 보내는 방법\n# 필요없어짐!\n\n# 만약 error가 나오면 다시 cell 실행시켜주는 코드 작성하기\nb \u003d requests.post(\"http://3.36.106.26:8081/api/notebook/run/2HG47WXRQ2HG47WXRQ/paragraph_1663754976707_2131716080\", json\u003d {\"params\": { \"user_id\": \"129242\"} })\nprint(b.content)\n"
    }
  ]
}