﻿{
  "metadata": {
    "name": "DASHBOARD",
    "kernelspec": {
      "language": "scala",
      "name": "spark2-scala"
    },
    "language_info": {
      "codemirror_mode": "text/x-scala",
      "file_extension": ".scala",
      "mimetype": "text/x-scala",
      "name": "scala",
      "pygments_lexer": "scala"
    }
  },
  "nbformat": 4,
  "nbformat_minor": 2,
  "cells": [
    {
      "cell_type": "code",
      "execution_count": 0,
      "metadata": {
        "autoscroll": "auto"
      },
      "outputs": [],
      "source": "%MySQL -- 대시보드\n(select goods_id as id, research_date, price , business from goods_price\nwhere business\u003d\u0027o\u0027 and goods_id in (select goods_id from goods where product_id \u003d\u0027${product_id}\u0027) and research_date \u003e\u003d\u00272022-05-01\u0027)\n\nunion\n(select if(product_id\u003d\u0027${product_id}\u0027,99999,99999) as id , research_date, price , business from product_price\nwhere business\u003d\u0027o\u0027 and date_type\u003d\u0027d\u0027 and product_id\u003d\u0027${product_id}\u0027 and research_date \u003e\u003d\u00272022-07-01\u0027)\n\n\norder by research_date desc"
    },
    {
      "cell_type": "code",
      "execution_count": 1,
      "metadata": {
        "autoscroll": "auto"
      },
      "outputs": [],
      "source": "%MySQL\nselect * from goods_price as gp\nwhere research_date\u003d\u00272022-10-06\u0027 and business\u003d\u0027o\u0027--and goods_id\u003e\u003d20000 and business\u003d\u0027m\u0027\nleft join goods as g\non gp.goods_id \u003d g.goods_id\n-- order by goods_id, research_date, business"
    },
    {
      "cell_type": "code",
      "execution_count": 2,
      "metadata": {
        "autoscroll": "auto"
      },
      "outputs": [],
      "source": "%MySQL\nselect * from goods_price\nwhere research_date\u003d\u00272022-10-06\u0027 and business\u003d\u0027o\u0027--and goods_id\u003e\u003d20000 and business\u003d\u0027m\u0027\norder by goods_id, research_date, business"
    },
    {
      "cell_type": "code",
      "execution_count": 3,
      "metadata": {
        "autoscroll": "auto"
      },
      "outputs": [],
      "source": "%MySQL\nselect count(*) from product_price\nwhere research_date\u003d\u00272022-10-06\u0027 and business\u003d\u0027o\u0027--and goods_id\u003e\u003d20000 and business\u003d\u0027m\u0027\norder by product_id, research_date, business"
    },
    {
      "cell_type": "code",
      "execution_count": 4,
      "metadata": {
        "autoscroll": "auto"
      },
      "outputs": [],
      "source": "%MySQL\nselect * from product_price\nwhere product_id in (1041, 1020, 1022, 1035, 1039, 1016, 1014, 1008, 1003, 1037, 1011, 1004, 1009, 1026, 1015, 1038, 1017, 1017, 1027, 1029, 1031, 1025, 1002, 1043, 1034, 1000, 1042, 1006, 1044, 1019, 1019, 1012, 1012, 1012, 1001, 1005, 1021, 1033, 1040, 1030, 1013, 1049, 1050)\norder by research_date desc\n"
    },
    {
      "cell_type": "code",
      "execution_count": 5,
      "metadata": {
        "autoscroll": "auto"
      },
      "outputs": [],
      "source": "%MySQL\nselect * from goods"
    },
    {
      "cell_type": "code",
      "execution_count": 6,
      "metadata": {
        "autoscroll": "auto"
      },
      "outputs": [],
      "source": "\n%MySQL\nselect * from goods\nwhere name like \u0027%${name}%\u0027"
    },
    {
      "cell_type": "code",
      "execution_count": 7,
      "metadata": {
        "autoscroll": "auto"
      },
      "outputs": [],
      "source": "%MySQL\nselect * from product\nwhere name like \"%멜론%\""
    },
    {
      "cell_type": "code",
      "execution_count": 8,
      "metadata": {
        "autoscroll": "auto"
      },
      "outputs": [],
      "source": "%MySQL\nselect * from goods"
    },
    {
      "cell_type": "code",
      "execution_count": 9,
      "metadata": {
        "autoscroll": "auto"
      },
      "outputs": [],
      "source": "%MySQL\nselect count(*) from goods_price\nwhere research_date \u003d \u00272022-09-07\u0027 and business\u003d\u0027m\u0027"
    },
    {
      "cell_type": "code",
      "execution_count": 10,
      "metadata": {
        "autoscroll": "auto"
      },
      "outputs": [],
      "source": "%MySQL\nselect * from product_price\nwhere product_id \u003d 1013"
    },
    {
      "cell_type": "code",
      "execution_count": 11,
      "metadata": {
        "autoscroll": "auto"
      },
      "outputs": [],
      "source": "%MySQL\nselect * from goods\nwhere name like \"%${}%\""
    },
    {
      "cell_type": "raw",
      "metadata": {
        "format": "text/plain"
      },
      "source": "%MySQL\n"
    }
  ]
}