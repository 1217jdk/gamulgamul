﻿{
  "metadata": {
    "name": "MySQL_Data삭제",
    "kernelspec": {
      "language": "scala",
      "name": "spark2-scala"
    },
    "language_info": {
      "codemirror_mode": "text/x-scala",
      "file_extension": ".scala",
      "mimetype": "text/x-scala",
      "name": "scala",
      "pygments_lexer": "scala"
    }
  },
  "nbformat": 4,
  "nbformat_minor": 2,
  "cells": [
    {
      "cell_type": "markdown",
      "metadata": {},
      "source": "+ 비교하는 블로그 링크 : https://yurimac.tistory.com/34"
    },
    {
      "cell_type": "markdown",
      "metadata": {},
      "source": "+ delete\n    + auto increasement pk 초기화 안됨\n    + 데이터만 지움\n    + WHERE 절 사용가능"
    },
    {
      "cell_type": "code",
      "execution_count": 2,
      "metadata": {
        "autoscroll": "auto"
      },
      "outputs": [],
      "source": "%MySQL\n-- DELETE FROM product_price\nWHERE research_date \u003d \u00272022-10-05\u0027 or research_date \u003d \u00272022-10-06\u0027"
    },
    {
      "cell_type": "markdown",
      "metadata": {},
      "source": "+ truncate\n    + auto increasement pk 초기화 됨\n    + 스키마만 남긴, 생성 초기 상태로 되돌림\n"
    },
    {
      "cell_type": "code",
      "execution_count": 4,
      "metadata": {
        "autoscroll": "auto"
      },
      "outputs": [],
      "source": "%MySQL\ntruncate table 테이블이름"
    }
  ]
}