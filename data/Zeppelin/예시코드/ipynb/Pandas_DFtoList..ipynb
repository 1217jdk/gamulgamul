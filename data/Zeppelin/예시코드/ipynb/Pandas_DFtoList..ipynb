﻿{
  "metadata": {
    "name": "Pandas_DFtoList",
    "kernelspec": {
      "language": "scala",
      "name": "spark2-scala"
    },
    "language_info": {
      "codemirror_mode": "text/x-scala",
      "file_extension": ".scala",
      "mimetype": "text/x-scala",
      "name": "scala",
      "pygments_lexer": "scala"
    }
  },
  "nbformat": 4,
  "nbformat_minor": 2,
  "cells": [
    {
      "cell_type": "code",
      "execution_count": 0,
      "metadata": {
        "autoscroll": "auto"
      },
      "outputs": [],
      "source": "# DF의 1개 row를 list로 만들기\nlist(new_goods_price_mart_pdf[new_goods_price_mart_pdf[\u0027goods_id\u0027]\u003d\u003d1].iloc[0].values)"
    }
  ]
}