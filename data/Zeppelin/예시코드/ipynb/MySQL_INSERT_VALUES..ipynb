﻿{
  "metadata": {
    "name": "MySQL_INSERT_VALUES",
    "kernelspec": {
      "language": "scala",
      "name": "spark2-scala"
    },
    "language_info": {
      "codemirror_mode": "text/x-scala",
      "file_extension": ".scala",
      "mimetype": "text/x-scala",
      "name": "scala",
      "pygments_lexer": "scala"
    }
  },
  "nbformat": 4,
  "nbformat_minor": 2,
  "cells": [
    {
      "cell_type": "code",
      "execution_count": 0,
      "metadata": {
        "autoscroll": "auto"
      },
      "outputs": [],
      "source": "%MySQL\nInsert into favorite_goods( user_id, goods_id)\nvalues( 129242, 1) , (129242,2), (129242,0), (129242,3), (129242,4), (129242,5) "
    }
  ]
}