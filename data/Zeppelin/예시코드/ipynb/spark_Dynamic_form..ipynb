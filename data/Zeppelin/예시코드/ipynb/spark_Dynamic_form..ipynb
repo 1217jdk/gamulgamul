﻿{
  "metadata": {
    "name": "spark_Dynamic_form",
    "kernelspec": {
      "language": "scala",
      "name": "spark2-scala"
    },
    "language_info": {
      "codemirror_mode": "text/x-scala",
      "file_extension": ".scala",
      "mimetype": "text/x-scala",
      "name": "scala",
      "pygments_lexer": "scala"
    }
  },
  "nbformat": 4,
  "nbformat_minor": 2,
  "cells": [
    {
      "cell_type": "markdown",
      "metadata": {},
      "source": "[공식문서](https://zeppelin.apache.org/docs/0.10.1/usage/dynamic_form/intro.html)\n"
    },
    {
      "cell_type": "code",
      "execution_count": 1,
      "metadata": {
        "autoscroll": "auto"
      },
      "outputs": [],
      "source": "%pyspark\n\na \u003d z.textbox(\u0027test\u0027,\u00271\u0027)\na"
    },
    {
      "cell_type": "raw",
      "metadata": {
        "format": "text/plain"
      },
      "source": "%pyspark\n"
    }
  ]
}