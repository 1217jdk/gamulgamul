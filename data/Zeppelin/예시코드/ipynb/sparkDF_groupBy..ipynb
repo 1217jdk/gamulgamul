﻿{
  "metadata": {
    "name": "sparkDF_groupBy",
    "kernelspec": {
      "language": "scala",
      "name": "spark2-scala"
    },
    "language_info": {
      "codemirror_mode": "text/x-scala",
      "file_extension": ".scala",
      "mimetype": "text/x-scala",
      "name": "scala",
      "pygments_lexer": "scala"
    }
  },
  "nbformat": 4,
  "nbformat_minor": 2,
  "cells": [
    {
      "cell_type": "markdown",
      "metadata": {},
      "source": "### (1) agg 와 alias 이용\n+ agg 쓰면 문자열 가능 / col도 가능!"
    },
    {
      "cell_type": "code",
      "execution_count": 1,
      "metadata": {
        "autoscroll": "auto"
      },
      "outputs": [],
      "source": "%pyspark\n# 1. 문자열\nfrom pyspark.sql.functions import max, avg, sum, min\nsdf.groupBy(\u0027Pclass\u0027).agg(max(\u0027Age\u0027), min(\u0027Age\u0027), sum(\u0027Age\u0027), avg(\u0027Age\u0027)).show() # select max(age), min(age), sum(age), avg(age) from sdf group by pclass\n\n"
    },
    {
      "cell_type": "code",
      "execution_count": 2,
      "metadata": {
        "autoscroll": "auto"
      },
      "outputs": [],
      "source": "%pyspark\r\n# 2. col \r\nfrom pyspark.sql.functions import max, avg, sum, min\r\nproduct_price_sdf \u003d goods_price_sdf.groupBy(\u0027goods_id\u0027, \u0027research_date\u0027, \u0027business\u0027).agg( avg(col(\u0027price\u0027)).alias(\u0027price\u0027) , avg(col(\u0027unit_price\u0027)).alias(\u0027unit_price\u0027))\r\nproduct_price_sdf.show()"
    },
    {
      "cell_type": "code",
      "execution_count": 3,
      "metadata": {
        "autoscroll": "auto"
      },
      "outputs": [],
      "source": "%pyspark\n# 3. round\nfrom pyspark.sql.functions import col, avg, round\nproduct_price_sdf \u003d goods_price_sdf.groupBy(\u0027goods_id\u0027,\u0027research_date\u0027,\u0027business\u0027).agg( round( avg(col(\u0027unit_price\u0027)) ,2).alias(\u0027unit_price\u0027)  ,  round(  avg(col(\u0027price\u0027)), 2) .alias(\u0027price\u0027)  )\nproduct_price_sdf.show()"
    },
    {
      "cell_type": "raw",
      "metadata": {
        "format": "text/plain"
      },
      "source": "%pyspark\n"
    }
  ]
}