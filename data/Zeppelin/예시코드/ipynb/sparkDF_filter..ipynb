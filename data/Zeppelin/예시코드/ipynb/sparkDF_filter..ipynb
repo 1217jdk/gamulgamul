﻿{
  "metadata": {
    "name": "sparkDF_filter",
    "kernelspec": {
      "language": "scala",
      "name": "spark2-scala"
    },
    "language_info": {
      "codemirror_mode": "text/x-scala",
      "file_extension": ".scala",
      "mimetype": "text/x-scala",
      "name": "scala",
      "pygments_lexer": "scala"
    }
  },
  "nbformat": 4,
  "nbformat_minor": 2,
  "cells": [
    {
      "cell_type": "markdown",
      "metadata": {},
      "source": " ### (1) isin list"
    },
    {
      "cell_type": "code",
      "execution_count": 1,
      "metadata": {
        "autoscroll": "auto"
      },
      "outputs": [],
      "source": "%pyspark\nfrom pyspark.sql.functions import col\nmart_goods_price_sdf.filter(col(\u0027goods_id\u0027).isin(m_goods_lst)).show()"
    },
    {
      "cell_type": "markdown",
      "metadata": {},
      "source": "### (2) isNotNull()"
    },
    {
      "cell_type": "code",
      "execution_count": 3,
      "metadata": {
        "autoscroll": "auto"
      },
      "outputs": [],
      "source": "%pyspark\nfrom pyspark.sql.functions import col\nmart_goods_price_sdf.filter(col(\u0027goods_id\u0027).isNotNull()).show()\n"
    }
  ]
}