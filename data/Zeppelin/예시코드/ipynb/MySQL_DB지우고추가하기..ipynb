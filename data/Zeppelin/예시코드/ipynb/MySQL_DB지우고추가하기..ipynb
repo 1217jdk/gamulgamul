﻿{
  "metadata": {
    "name": "MySQL_DB지우고추가하기",
    "kernelspec": {
      "language": "scala",
      "name": "spark2-scala"
    },
    "language_info": {
      "codemirror_mode": "text/x-scala",
      "file_extension": ".scala",
      "mimetype": "text/x-scala",
      "name": "scala",
      "pygments_lexer": "scala"
    }
  },
  "nbformat": 4,
  "nbformat_minor": 2,
  "cells": [
    {
      "cell_type": "markdown",
      "metadata": {},
      "source": "### (1) 지우기"
    },
    {
      "cell_type": "code",
      "execution_count": 1,
      "metadata": {
        "autoscroll": "auto"
      },
      "outputs": [],
      "source": "%MySQL\n-- delete from goods_price\n-- where research_date \u003d \u00272022-10-04\u0027 and business\u003d\u0027m\u0027 and goods_id \u003e\u003d20000"
    },
    {
      "cell_type": "code",
      "execution_count": 2,
      "metadata": {
        "autoscroll": "auto"
      },
      "outputs": [],
      "source": "%MySQL\nselect * from product_price\nwhere research_date \u003d \u00272022-10-04\u0027\norder by product_id"
    },
    {
      "cell_type": "code",
      "execution_count": 3,
      "metadata": {
        "autoscroll": "auto"
      },
      "outputs": [],
      "source": "%MySQL\n-- business m 이 올바르게 들어갔는지 확인하는 곳\nselect goods_id, count(*) as nums from goods_price\nwhere research_date \u003d \u00272022-10-04\u0027 and business\u003d\u0027m\u0027\ngroup by goods_id\norder by nums desc"
    },
    {
      "cell_type": "code",
      "execution_count": 4,
      "metadata": {
        "autoscroll": "auto"
      },
      "outputs": [],
      "source": "%MySQL\nselect * from goods_price\nwhere research_date \u003d \u00272022-10-04\u0027 and business\u003d\u0027m\u0027 and goods_id \u003e\u003d20000\norder by goods_id"
    },
    {
      "cell_type": "raw",
      "metadata": {
        "format": "text/plain"
      },
      "source": "%MySQL\n"
    }
  ]
}