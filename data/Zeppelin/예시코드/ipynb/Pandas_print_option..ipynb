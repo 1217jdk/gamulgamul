﻿{
  "metadata": {
    "name": "Pandas_print_option",
    "kernelspec": {
      "language": "scala",
      "name": "spark2-scala"
    },
    "language_info": {
      "codemirror_mode": "text/x-scala",
      "file_extension": ".scala",
      "mimetype": "text/x-scala",
      "name": "scala",
      "pygments_lexer": "scala"
    }
  },
  "nbformat": 4,
  "nbformat_minor": 2,
  "cells": [
    {
      "cell_type": "markdown",
      "metadata": {},
      "source": "### (1) option 정보보기"
    },
    {
      "cell_type": "code",
      "execution_count": 1,
      "metadata": {
        "autoscroll": "auto"
      },
      "outputs": [],
      "source": "%pyspark\nimport pandas as pd\n# 1. option 정보보기\npd.describe_option()\n"
    },
    {
      "cell_type": "markdown",
      "metadata": {},
      "source": "### (2) DF 출력"
    },
    {
      "cell_type": "code",
      "execution_count": 3,
      "metadata": {
        "autoscroll": "auto"
      },
      "outputs": [],
      "source": "%pyspark\n\n# 1. column 개수 늘리기\npd.set_option(\u0027display.max_columns\u0027,10)\n\n# 2. row 생략 없이 출력\npd.set_option(\u0027display.max_rows\u0027, None)\n\n# 3. column 생략 없이 출력\npd.set_option(\u0027display.max_columns\u0027, None)"
    },
    {
      "cell_type": "markdown",
      "metadata": {},
      "source": "### (3) 출력 일반"
    },
    {
      "cell_type": "code",
      "execution_count": 5,
      "metadata": {
        "autoscroll": "auto"
      },
      "outputs": [],
      "source": "%pyspark\n# 1. pdf.columns 와 같이 할 때, 전체 출력\npd.set_option(\u0027display.max_seq_items\u0027,None)\n\n# 2. 출력 width 설정\npd.set_option(\u0027display.width\u0027, 10)"
    }
  ]
}