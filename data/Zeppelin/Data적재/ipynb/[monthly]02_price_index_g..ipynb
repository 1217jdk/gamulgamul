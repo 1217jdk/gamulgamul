﻿{
  "metadata": {
    "name": "[monthly]02_price_index_g",
    "kernelspec": {
      "language": "scala",
      "name": "spark2-scala"
    },
    "language_info": {
      "codemirror_mode": "text/x-scala",
      "file_extension": ".scala",
      "mimetype": "text/x-scala",
      "name": "scala",
      "pygments_lexer": "scala"
    }
  },
  "nbformat": 4,
  "nbformat_minor": 2,
  "cells": [
    {
      "cell_type": "code",
      "execution_count": 0,
      "metadata": {
        "autoscroll": "auto"
      },
      "outputs": [],
      "source": "%spark.conf\n\nSPARK_HOME  /usr/local/spark\nPYSPARK_PYTHON /usr/bin/python3\nspark.pyspark.python  /usr/bin/python3\n\n# set driver memory to 8g\nspark.driver.memory 8g\n\n# set executor number to be 3\nspark.executor.instances  3\n\n# set executor memory 4g\nspark.executor.memory  2g\n\n# Any other spark properties can be set here. Here\u0027s avaliable spark configruation you can set. (http://spark.apache.org/docs/latest/configuration.html)"
    },
    {
      "cell_type": "code",
      "execution_count": 1,
      "metadata": {
        "autoscroll": "auto"
      },
      "outputs": [],
      "source": "%pyspark\npp_sdf \u003d spark.read.format(\"jdbc\")\\\n    .option(\"url\", \"jdbc:mysql://j7d108.p.ssafy.io:3306/gamulgamul_test3?useSSL\u003dfalse\u0026characterEncoding\u003dUTF-8\u0026useUnicode\u003dtrue\u0026allowPublicKeyRetrieval\u003dtrue\u0026serverTimezone\u003dAsia/Seoul\") \\\n    .option(\"driver\", \"com.mysql.cj.jdbc.Driver\")\\\n    .option(\"query\", \"select product_id, unit_price, research_date from product_price where date_type\u003d\u0027m\u0027 order by product_id, research_date\") \\\n    .option(\"user\", \"ji\")\\\n    .option(\"password\", \"cvgkbhs234r#8tdx\").load()\n    \npp_sdf.show()"
    },
    {
      "cell_type": "code",
      "execution_count": 2,
      "metadata": {
        "autoscroll": "auto"
      },
      "outputs": [],
      "source": "%MySQL\nshow tables;"
    },
    {
      "cell_type": "code",
      "execution_count": 3,
      "metadata": {
        "autoscroll": "auto"
      },
      "outputs": [],
      "source": "%MySQL\nselect * from product"
    },
    {
      "cell_type": "markdown",
      "metadata": {},
      "source": "# 가물가물 지수 만들기"
    },
    {
      "cell_type": "code",
      "execution_count": 5,
      "metadata": {
        "autoscroll": "auto"
      },
      "outputs": [],
      "source": "%pyspark\nimport pickle\nwith open(\u0027/DB_data/productName_productId.pickle\u0027, \u0027rb\u0027) as f:\n    product_id \u003d pickle.load(f)\nproduct_id"
    },
    {
      "cell_type": "markdown",
      "metadata": {},
      "source": "## 가물가물 지수 품목 리스트\n\u0027라면\u0027,\u0027시리얼\u0027,\u0027식빵\u0027,\u0027즉석밥\u0027,\u0027컵라면\u0027,\u0027탕\u0027,\n\u0027계란\u0027,\u0027닭고기\u0027,\u0027돼지고기\u0027,\u0027소고기\u0027,\u0027소시지\u0027,\u0027햄\u0027,\n\u0027갈치\u0027,\u0027고등어\u0027,\u0027어묵\u0027,\u0027오징어\u0027,\u0027조기\u0027,\u0027참치캔\u0027,\n\u0027발효유\u0027,\u0027우유\u0027,\u0027치즈\u0027,\n\u0027고추장\u0027,\u0027된장\u0027,\u0027두부\u0027,\u0027밀가루\u0027,\u0027설탕\u0027,\u0027소금\u0027,\u0027식용유\u0027,\u0027참기름\u0027,\n\u0027감자칩\u0027,\u0027비스킷\u0027,\u0027빙과류\u0027,\u0027사탕\u0027,\u0027초코파이\u0027,\u0027초콜릿\u0027,\n\u0027맥주\u0027,\u0027비타민음료\u0027,\u0027생수\u0027,\u0027소주\u0027,\u0027이온음료\u0027,\u0027주스\u0027,\u0027커피믹스\u0027,\u0027콜라\u0027,\n\u0027고무장갑\u0027,\u0027면도날\u0027,\u0027바디워시\u0027,\u0027비누\u0027,\u0027생리대\u0027,\u0027샴푸\u0027,\u0027섬유유연제\u0027,\u0027세탁세제(액체형)\u0027,\u0027위생백\u0027,\u0027치약\u0027,\u0027칫솔\u0027,\u0027키친타월\u0027,\u0027화장지\u0027,\n\u0027쌀\u0027,\u0027찹쌀\u0027,\u0027콩\u0027,\n\u0027감자\u0027,\u0027고구마\u0027,\u0027고춧가루\u0027,\u0027깐마늘\u0027,\u0027깻잎\u0027,\u0027느타리버섯\u0027,\u0027당근\u0027,\u0027딸기\u0027,\u0027무\u0027,\u0027배추\u0027,\u0027수박\u0027,\u0027시금치\u0027,\u0027양배추\u0027,\u0027양파\u0027,\u0027오이\u0027,\u0027토마토\u0027,\u0027파\u0027,\u0027파프리카\u0027,\u0027풋고추\u0027,\u0027호박\u0027,\n\u0027땅콩\u0027,\u0027참깨\u0027,\n\u0027감귤\u0027,\u0027레몬\u0027,\u0027바나나\u0027,\u0027배\u0027,\u0027사과\u0027,\u0027오렌지\u0027,\u0027파인애플\u0027,\u0027포도\u0027"
    },
    {
      "cell_type": "code",
      "execution_count": 7,
      "metadata": {
        "autoscroll": "auto"
      },
      "outputs": [],
      "source": "%pyspark\nproduct_id[\u0027쌀\u0027]"
    },
    {
      "cell_type": "code",
      "execution_count": 8,
      "metadata": {
        "autoscroll": "auto"
      },
      "outputs": [],
      "source": "%pyspark\ngmgm_p_name \u003d [\u0027라면\u0027,\u0027시리얼\u0027,\u0027식빵\u0027,\u0027즉석밥\u0027,\u0027컵라면\u0027,\u0027탕\u0027,\n\u0027계란\u0027,\u0027닭고기\u0027,\u0027돼지고기\u0027,\u0027소고기\u0027,\u0027소시지\u0027,\u0027햄\u0027,\n\u0027갈치\u0027,\u0027고등어\u0027,\u0027어묵\u0027,\u0027오징어\u0027,\u0027조기\u0027,\u0027참치캔\u0027,\n\u0027발효유\u0027,\u0027우유\u0027,\u0027치즈\u0027,\n\u0027고추장\u0027,\u0027된장\u0027,\u0027두부\u0027,\u0027밀가루\u0027,\u0027설탕\u0027,\u0027소금\u0027,\u0027식용유\u0027,\u0027참기름\u0027,\n\u0027감자칩\u0027,\u0027비스킷\u0027,\u0027빙과류\u0027,\u0027사탕\u0027,\u0027초코파이\u0027,\u0027초콜릿\u0027,\n\u0027맥주\u0027,\u0027비타민음료\u0027,\u0027생수\u0027,\u0027소주\u0027,\u0027이온음료\u0027,\u0027주스\u0027,\u0027커피믹스\u0027,\u0027콜라\u0027,\n\u0027고무장갑\u0027,\u0027면도날\u0027,\u0027바디워시\u0027,\u0027비누\u0027,\u0027생리대\u0027,\u0027샴푸\u0027,\u0027섬유유연제\u0027,\u0027세탁세제(액체형)\u0027,\u0027위생백\u0027,\u0027치약\u0027,\u0027칫솔\u0027,\u0027키친타월\u0027,\u0027화장지\u0027,\n\u0027쌀\u0027,\u0027찹쌀\u0027,\u0027콩\u0027,\n\u0027감자\u0027,\u0027고구마\u0027,\u0027고춧가루\u0027,\u0027깐마늘\u0027,\u0027깻잎\u0027,\u0027느타리버섯\u0027,\u0027당근\u0027,\u0027딸기\u0027,\u0027무\u0027,\u0027배추\u0027,\u0027수박\u0027,\u0027시금치\u0027,\u0027양배추\u0027,\u0027양파\u0027,\u0027오이\u0027,\u0027토마토\u0027,\u0027파\u0027,\u0027파프리카\u0027,\u0027풋고추\u0027,\u0027호박\u0027,\n\u0027땅콩\u0027,\u0027참깨\u0027,\n\u0027감귤\u0027,\u0027레몬\u0027,\u0027바나나\u0027,\u0027배\u0027,\u0027사과\u0027,\u0027오렌지\u0027,\u0027파인애플\u0027,\u0027포도\u0027]\ngmgm_p_id \u003d [product_id[name] for name in gmgm_p_name]\ngmgm_p_id \u003d tuple(gmgm_p_id)\ngmgm_p_id"
    },
    {
      "cell_type": "code",
      "execution_count": 9,
      "metadata": {
        "autoscroll": "auto"
      },
      "outputs": [],
      "source": "%pyspark\nlen([\u0027라면\u0027,\u0027시리얼\u0027,\u0027식빵\u0027,\u0027즉석밥\u0027,\u0027컵라면\u0027,\u0027탕\u0027,\n\u0027계란\u0027,\u0027닭고기\u0027,\u0027돼지고기\u0027,\u0027소고기\u0027,\u0027소시지\u0027,\u0027햄\u0027,\n\u0027갈치\u0027,\u0027고등어\u0027,\u0027어묵\u0027,\u0027오징어\u0027,\u0027조기\u0027,\u0027참치캔\u0027,\n\u0027발효유\u0027,\u0027우유\u0027,\u0027치즈\u0027,\n\u0027고추장\u0027,\u0027된장\u0027,\u0027두부\u0027,\u0027밀가루\u0027,\u0027설탕\u0027,\u0027소금\u0027,\u0027식용유\u0027,\u0027참기름\u0027,\n\u0027감자칩\u0027,\u0027비스킷\u0027,\u0027빙과류\u0027,\u0027사탕\u0027,\u0027초코파이\u0027,\u0027초콜릿\u0027,\n\u0027맥주\u0027,\u0027비타민음료\u0027,\u0027생수\u0027,\u0027소주\u0027,\u0027이온음료\u0027,\u0027주스\u0027,\u0027커피믹스\u0027,\u0027콜라\u0027,\n\u0027고무장갑\u0027,\u0027면도날\u0027,\u0027바디워시\u0027,\u0027비누\u0027,\u0027생리대\u0027,\u0027샴푸\u0027,\u0027섬유유연제\u0027,\u0027세탁세제(액체형)\u0027,\u0027위생백\u0027,\u0027치약\u0027,\u0027칫솔\u0027,\u0027키친타월\u0027,\u0027화장지\u0027,\n\u0027쌀\u0027,\u0027찹쌀\u0027,\u0027콩\u0027,\n\u0027감자\u0027,\u0027고구마\u0027,\u0027고춧가루\u0027,\u0027깐마늘\u0027,\u0027깻잎\u0027,\u0027느타리버섯\u0027,\u0027당근\u0027,\u0027딸기\u0027,\u0027무\u0027,\u0027배추\u0027,\u0027수박\u0027,\u0027시금치\u0027,\u0027양배추\u0027,\u0027양파\u0027,\u0027오이\u0027,\u0027토마토\u0027,\u0027파\u0027,\u0027파프리카\u0027,\u0027풋고추\u0027,\u0027호박\u0027,\n\u0027땅콩\u0027,\u0027참깨\u0027,\n\u0027감귤\u0027,\u0027레몬\u0027,\u0027바나나\u0027,\u0027배\u0027,\u0027사과\u0027,\u0027오렌지\u0027,\u0027파인애플\u0027,\u0027포도\u0027])"
    },
    {
      "cell_type": "code",
      "execution_count": 10,
      "metadata": {
        "autoscroll": "auto"
      },
      "outputs": [],
      "source": "%pyspark\ngmgm_pp_sdf \u003d spark.read.format(\"jdbc\")\\\n    .option(\"url\", \"jdbc:mysql://j7d108.p.ssafy.io:3306/gamulgamul_test3?useSSL\u003dfalse\u0026characterEncoding\u003dUTF-8\u0026useUnicode\u003dtrue\u0026allowPublicKeyRetrieval\u003dtrue\u0026serverTimezone\u003dAsia/Seoul\") \\\n    .option(\"driver\", \"com.mysql.cj.jdbc.Driver\")\\\n    .option(\"query\", f\"select product_id, unit_price, research_date from product_price where date_type\u003d\u0027m\u0027 and product_id in {gmgm_p_id} order by product_id, research_date\") \\\n    .option(\"user\", \"ji\")\\\n    .option(\"password\", \"cvgkbhs234r#8tdx\").load()\n    \ngmgm_pp_sdf.show()"
    },
    {
      "cell_type": "markdown",
      "metadata": {},
      "source": "### 지수 \u003d ∑(각 품목 가중치 * 해당 년월 가격 / 202001 가격 ) * 100"
    },
    {
      "cell_type": "code",
      "execution_count": 12,
      "metadata": {
        "autoscroll": "auto"
      },
      "outputs": [],
      "source": "%pyspark\ngmgm_p_sdf \u003d spark.read.format(\"jdbc\")\\\n    .option(\"url\", \"jdbc:mysql://j7d108.p.ssafy.io:3306/gamulgamul_test3?useSSL\u003dfalse\u0026characterEncoding\u003dUTF-8\u0026useUnicode\u003dtrue\u0026allowPublicKeyRetrieval\u003dtrue\u0026serverTimezone\u003dAsia/Seoul\") \\\n    .option(\"driver\", \"com.mysql.cj.jdbc.Driver\")\\\n    .option(\"query\", f\"select product_id, weight from product\") \\\n    .option(\"user\", \"ji\")\\\n    .option(\"password\", \"cvgkbhs234r#8tdx\").load()\n    \ngmgm_p_sdf.show()"
    },
    {
      "cell_type": "code",
      "execution_count": 13,
      "metadata": {
        "autoscroll": "auto"
      },
      "outputs": [],
      "source": "%pyspark\nfrom pyspark.sql.functions import col, sum, lit, round\nimport numpy as np\n\nprice_weight_sdf \u003d gmgm_pp_sdf.join(gmgm_p_sdf, gmgm_pp_sdf[\u0027product_id\u0027] \u003d\u003d gmgm_p_sdf[\u0027product_id\u0027], how\u003d\u0027left\u0027)\nprice_weight_sdf \u003d price_weight_sdf.withColumn(\u0027price*weight\u0027, price_weight_sdf[\u0027unit_price\u0027]*price_weight_sdf[\u0027weight\u0027])\nprice_weight_sdf.show()\n\nindex_sdf \u003d price_weight_sdf.groupBy(\u0027research_date\u0027).agg(sum(col(\u0027price*weight\u0027)).alias(\u0027sum_value\u0027))\nindex_sdf \u003d index_sdf.withColumn(\u0027value\u0027, round(index_sdf[\u0027sum_value\u0027]/index_sdf.filter(col(\u0027research_date\u0027)\u003d\u003d\u00272020-01-01\u0027).first()[1]*100, 2))      # index 계산시 주석 풀고, 이용하기\nindex_sdf.show()\n\nindex_sdf \u003d index_sdf.withColumn(\u0027index_type\u0027,lit(\u0027g\u0027))\nindex_sdf \u003d index_sdf.select(\u0027research_date\u0027,\u0027value\u0027,\u0027index_type\u0027).sort(col(\u0027research_date\u0027).asc())\nindex_sdf.show(n\u003d1000)\n"
    },
    {
      "cell_type": "code",
      "execution_count": 14,
      "metadata": {
        "autoscroll": "auto"
      },
      "outputs": [],
      "source": "%pyspark\nindex_sdf.dtypes"
    },
    {
      "cell_type": "code",
      "execution_count": 15,
      "metadata": {
        "autoscroll": "auto"
      },
      "outputs": [],
      "source": "%pyspark\nurl \u003d \"jdbc:mysql://j7d108.p.ssafy.io:3306/gamulgamul_test3?useSSL\u003dfalse\u0026characterEncoding\u003dUTF-8\u0026useUnicode\u003dtrue\u0026allowPublicKeyRetrieval\u003dtrue\u0026serverTimezone\u003dAsia/Seoul\"\nprop \u003d {\"user\": \"ji\", \"password\": \"cvgkbhs234r#8tdx\", \"driver\": \"com.mysql.cj.jdbc.Driver\"} \n\nindex_sdf.write.jdbc(\\\n    url\u003d url,\\\n    table \u003d \"price_index\",\\\n    mode\u003d\"append\",\\\n    properties\u003dprop)\n"
    },
    {
      "cell_type": "code",
      "execution_count": 16,
      "metadata": {
        "autoscroll": "auto"
      },
      "outputs": [],
      "source": "%MySQL\nselect * from price_index"
    },
    {
      "cell_type": "markdown",
      "metadata": {},
      "source": "# DB price_index table에 가물가물지수 넣는 자동화"
    },
    {
      "cell_type": "code",
      "execution_count": 18,
      "metadata": {
        "autoscroll": "auto"
      },
      "outputs": [],
      "source": "%pyspark\n\nurl \u003d \"jdbc:mysql://j7d108.p.ssafy.io:3306/gamulgamul_test3?useSSL\u003dfalse\u0026characterEncoding\u003dUTF-8\u0026useUnicode\u003dtrue\u0026allowPublicKeyRetrieval\u003dtrue\u0026serverTimezone\u003dAsia/Seoul\"\nprop \u003d {\"user\": \"ji\", \"password\": \"cvgkbhs234r#8tdx\", \"driver\": \"com.mysql.cj.jdbc.Driver\"} \n\n# productName_productId pickle load\nimport pickle\nwith open(\u0027/DB_data/productName_productId.pickle\u0027, \u0027rb\u0027) as f:\n    product_id \u003d pickle.load(f)\n\n# gmgm product name list define\ngmgm_p_name \u003d [\u0027라면\u0027,\u0027시리얼\u0027,\u0027식빵\u0027,\u0027즉석밥\u0027,\u0027컵라면\u0027,\u0027탕\u0027,\n\u0027계란\u0027,\u0027닭고기\u0027,\u0027돼지고기\u0027,\u0027소고기\u0027,\u0027소시지\u0027,\u0027햄\u0027,\n\u0027갈치\u0027,\u0027고등어\u0027,\u0027어묵\u0027,\u0027오징어\u0027,\u0027조기\u0027,\u0027참치캔\u0027,\n\u0027발효유\u0027,\u0027우유\u0027,\u0027치즈\u0027,\n\u0027고추장\u0027,\u0027된장\u0027,\u0027두부\u0027,\u0027밀가루\u0027,\u0027설탕\u0027,\u0027소금\u0027,\u0027식용유\u0027,\u0027참기름\u0027,\n\u0027감자칩\u0027,\u0027비스킷\u0027,\u0027빙과류\u0027,\u0027사탕\u0027,\u0027초코파이\u0027,\u0027초콜릿\u0027,\n\u0027맥주\u0027,\u0027비타민음료\u0027,\u0027생수\u0027,\u0027소주\u0027,\u0027이온음료\u0027,\u0027주스\u0027,\u0027커피믹스\u0027,\u0027콜라\u0027,\n\u0027고무장갑\u0027,\u0027면도날\u0027,\u0027바디워시\u0027,\u0027비누\u0027,\u0027생리대\u0027,\u0027샴푸\u0027,\u0027섬유유연제\u0027,\u0027세탁세제(액체형)\u0027,\u0027위생백\u0027,\u0027치약\u0027,\u0027칫솔\u0027,\u0027키친타월\u0027,\u0027화장지\u0027,\n\u0027쌀\u0027,\u0027찹쌀\u0027,\u0027콩\u0027,\n\u0027감자\u0027,\u0027고구마\u0027,\u0027고춧가루\u0027,\u0027깐마늘\u0027,\u0027깻잎\u0027,\u0027느타리버섯\u0027,\u0027당근\u0027,\u0027딸기\u0027,\u0027무\u0027,\u0027배추\u0027,\u0027수박\u0027,\u0027시금치\u0027,\u0027양배추\u0027,\u0027양파\u0027,\u0027오이\u0027,\u0027토마토\u0027,\u0027파\u0027,\u0027파프리카\u0027,\u0027풋고추\u0027,\u0027호박\u0027,\n\u0027땅콩\u0027,\u0027참깨\u0027,\n\u0027감귤\u0027,\u0027레몬\u0027,\u0027바나나\u0027,\u0027배\u0027,\u0027사과\u0027,\u0027오렌지\u0027,\u0027파인애플\u0027,\u0027포도\u0027]\n\n# gmgm product id define\ngmgm_p_id \u003d [product_id[name] for name in gmgm_p_name]\ngmgm_p_id \u003d tuple(gmgm_p_id)\n\n# product_price table select product_id, unit_price, research_date from product_price where date_type\u003d\u0027m\u0027 and product_id in {gmgm_p_id}\ngmgm_pp_sdf \u003d spark.read.format(\"jdbc\")\\\n    .option(\"url\", url) \\\n    .option(\"driver\", \"com.mysql.cj.jdbc.Driver\")\\\n    .option(\"query\", f\"select product_id, unit_price, research_date from product_price where date_type\u003d\u0027m\u0027 and product_id in {gmgm_p_id} order by product_id, research_date\") \\\n    .option(\"user\", \"ji\")\\\n    .option(\"password\", \"cvgkbhs234r#8tdx\").load()\n    \n# product table select product_id, weight to calculate gmgm index\ngmgm_p_sdf \u003d spark.read.format(\"jdbc\")\\\n    .option(\"url\", url) \\\n    .option(\"driver\", \"com.mysql.cj.jdbc.Driver\")\\\n    .option(\"query\", f\"select product_id, weight from product\") \\\n    .option(\"user\", \"ji\")\\\n    .option(\"password\", \"cvgkbhs234r#8tdx\").load()\n\n# calculate gmgm index\nfrom pyspark.sql.functions import col, sum, lit, round\nimport numpy as np\n\nprice_weight_sdf \u003d gmgm_pp_sdf.join(gmgm_p_sdf, gmgm_pp_sdf[\u0027product_id\u0027] \u003d\u003d gmgm_p_sdf[\u0027product_id\u0027], how\u003d\u0027left\u0027)\nprice_weight_sdf \u003d price_weight_sdf.withColumn(\u0027price*weight\u0027, price_weight_sdf[\u0027unit_price\u0027]*price_weight_sdf[\u0027weight\u0027])\n// price_weight_sdf.show()\n\nindex_sdf \u003d price_weight_sdf.groupBy(\u0027research_date\u0027).agg(sum(col(\u0027price*weight\u0027)).alias(\u0027sum_value\u0027))\nindex_sdf \u003d index_sdf.withColumn(\u0027value\u0027, round(index_sdf[\u0027sum_value\u0027]/index_sdf.filter(col(\u0027research_date\u0027)\u003d\u003d\u00272020-01-01\u0027).first()[1]*100, 2))\n// index_sdf.show()\n\nindex_sdf \u003d index_sdf.withColumn(\u0027index_type\u0027,lit(\u0027g\u0027))\nindex_sdf \u003d index_sdf.select(\u0027research_date\u0027,\u0027value\u0027,\u0027index_type\u0027).sort(col(\u0027research_date\u0027).asc())\n\n# price_index table append \nindex_sdf.write.jdbc(\\\n    url\u003d url,\\\n    table \u003d \"price_index\",\\\n    mode\u003d\"append\",\\\n    properties\u003dprop)"
    },
    {
      "cell_type": "code",
      "execution_count": 19,
      "metadata": {
        "autoscroll": "auto"
      },
      "outputs": [],
      "source": "%pyspark\nimport requests\nrequests.post(\"http://3.36.106.26:8081/api/notebook/run/2HDTRUMFY/paragraph_1664172237093_2086170843\")"
    },
    {
      "cell_type": "markdown",
      "metadata": {},
      "source": "# 매달 DB price_index table 가물가물 지수 업데이트\n1. 해당 월 1일~31일까지 product_price의 date_type\u003d\u0027d\u0027인 unit_price 가져오기\n2. research_date\u003d해당년월, date_type\u003d\u0027m\u0027인 값 넣어주기\n3. 가물가물 지수 계산에 필요한 품목들 확인하기\n4. 2020-01-01 기준으로 가물가물 지수 계산하기"
    },
    {
      "cell_type": "code",
      "execution_count": 21,
      "metadata": {
        "autoscroll": "auto"
      },
      "outputs": [],
      "source": "%pyspark\npp_2209 \u003d spark.read.csv(\u0027/DB_data/product_daily_price_table.csv\u0027, header\u003dTrue, inferSchema\u003dTrue)\npp_2209 \u003d pp_2209.select(\u0027product_id\u0027,\u0027unit_price\u0027,\u0027research_date\u0027).filter(\u0027research_date between \"2022-09-01\" and \"2022-09-30\"\u0027)\npp_2209.show(1000)"
    },
    {
      "cell_type": "code",
      "execution_count": 22,
      "metadata": {
        "autoscroll": "auto"
      },
      "outputs": [],
      "source": "%pyspark\nfrom pyspark.sql.functions import count\n\npp_2209 \u003d pp_2209.groupby(\u0027product_id\u0027).agg(round((sum(col(\u0027unit_price\u0027))/count(col(\u0027unit_price\u0027))),2).alias(\u0027avg_unit_price\u0027)).sort(col(\u0027product_id\u0027))\npp_2209 \u003d pp_2209.withColumn(\u0027research_date\u0027, lit(\u00272022-09-01\u0027))\npp_2209 \u003d pp_2209.withColumn(\u0027date_type\u0027, lit(\u0027m\u0027))\npp_2209.show()"
    },
    {
      "cell_type": "code",
      "execution_count": 23,
      "metadata": {
        "autoscroll": "auto"
      },
      "outputs": [],
      "source": "%pyspark\nimport pickle\nwith open(\u0027/DB_data/productName_productId.pickle\u0027, \u0027rb\u0027) as f:\n    productId \u003d pickle.load(f)\nproductId.values()"
    },
    {
      "cell_type": "code",
      "execution_count": 24,
      "metadata": {
        "autoscroll": "auto"
      },
      "outputs": [],
      "source": "%pyspark\npp_2209.select(\u0027avg_unit_price\u0027).filter(\u0027product_id\u003d0\u0027).collect()[0][0]"
    },
    {
      "cell_type": "code",
      "execution_count": 25,
      "metadata": {
        "autoscroll": "auto"
      },
      "outputs": [],
      "source": "%pyspark\n# 220927 17:51 여기서부터 아직 실행 안함. 9월 데이터 잘 채워져 있는 건가? 확인 필요\nimport requests\nurl \u003d \"http://3.36.106.26:8081/api/notebook/run/2HDTRUMFY/paragraph_1664267813555_691361679\"\nfor id in productId.values():\n    unit_price \u003d pp_2209.select(\u0027avg_unit_price\u0027).filter(f\u0027product_id\u003d{id}\u0027).collect()[0][0]\n    requests.post(url, json\u003d{\"params\": {\"unit_price\": unit_price, \"product_id\": str(id)}})"
    },
    {
      "cell_type": "code",
      "execution_count": 26,
      "metadata": {
        "autoscroll": "auto"
      },
      "outputs": [],
      "source": "%MySQL\nupdate product_price set unit_price\u003d\u0027${unit_price}\u0027 where product_id\u003dcast(\u0027${product_id}\u0027 as unsigned);"
    },
    {
      "cell_type": "code",
      "execution_count": 27,
      "metadata": {
        "autoscroll": "auto"
      },
      "outputs": [],
      "source": "%MySQL(refreshInterval\u003d5000)\nselect * from product_price where research_date\u003d\u00272022-09-01\u0027 and date_type\u003d\u0027m\u0027"
    },
    {
      "cell_type": "code",
      "execution_count": 28,
      "metadata": {
        "autoscroll": "auto"
      },
      "outputs": [],
      "source": "%pyspark\nfrom datetime import datetime\nmonthly_date \u003d z.textbox(\u0027monthly_date\u0027, \u0027\u0027)\n# monthly_date \u003d datetime.strptime(monthly_date, \u0027%Y%m%d\u0027).strftime(\u0027%Y-%m-%d\u0027)\n# monthly_date \u003d \u00272022-09-01\u0027\nprint(monthly_date)\n\nurl \u003d \"jdbc:mysql://j7d108.p.ssafy.io:3306/gamulgamul_test3?useSSL\u003dfalse\u0026characterEncoding\u003dUTF-8\u0026useUnicode\u003dtrue\u0026allowPublicKeyRetrieval\u003dtrue\u0026serverTimezone\u003dAsia/Seoul\"\nprop \u003d {\"user\": \"ji\", \"password\": \"cvgkbhs234r#8tdx\", \"driver\": \"com.mysql.cj.jdbc.Driver\"} \n\n# productName_productId pickle load\nimport pickle\nwith open(\u0027/DB_data/20221001_productName_productId.pickle\u0027, \u0027rb\u0027) as f:\n    product_id \u003d pickle.load(f)\n\n# gmgm product name list define\ngmgm_p_name \u003d [\u0027라면\u0027,\u0027시리얼\u0027,\u0027식빵\u0027,\u0027즉석밥\u0027,\u0027컵라면\u0027,\u0027탕\u0027,\n\u0027계란\u0027,\u0027닭고기\u0027,\u0027돼지고기\u0027,\u0027소고기\u0027,\u0027소시지\u0027,\u0027햄\u0027,\n\u0027갈치\u0027,\u0027고등어\u0027,\u0027어묵\u0027,\u0027오징어\u0027,\u0027조기\u0027,\u0027참치캔\u0027,\n\u0027발효유\u0027,\u0027우유\u0027,\u0027치즈\u0027,\n\u0027고추장\u0027,\u0027된장\u0027,\u0027두부\u0027,\u0027밀가루\u0027,\u0027설탕\u0027,\u0027소금\u0027,\u0027식용유\u0027,\u0027참기름\u0027,\n\u0027감자칩\u0027,\u0027비스킷\u0027,\u0027빙과류\u0027,\u0027사탕\u0027,\u0027초코파이\u0027,\u0027초콜릿\u0027,\n\u0027맥주\u0027,\u0027비타민음료\u0027,\u0027생수\u0027,\u0027소주\u0027,\u0027이온음료\u0027,\u0027주스\u0027,\u0027커피믹스\u0027,\u0027콜라\u0027,\n\u0027고무장갑\u0027,\u0027면도날\u0027,\u0027바디워시\u0027,\u0027비누\u0027,\u0027생리대\u0027,\u0027샴푸\u0027,\u0027섬유유연제\u0027,\u0027세탁세제(액체형)\u0027,\u0027위생백\u0027,\u0027치약\u0027,\u0027칫솔\u0027,\u0027키친타월\u0027,\u0027화장지\u0027,\n\u0027쌀\u0027,\u0027찹쌀\u0027,\u0027콩\u0027,\n\u0027감자\u0027,\u0027고구마\u0027,\u0027고춧가루\u0027,\u0027깐마늘\u0027,\u0027깻잎\u0027,\u0027버섯\u0027,\u0027당근\u0027,\u0027딸기\u0027,\u0027무\u0027,\u0027배추\u0027,\u0027수박\u0027,\u0027시금치\u0027,\u0027양배추\u0027,\u0027양파\u0027,\u0027오이\u0027,\u0027토마토\u0027,\u0027파\u0027,\u0027파프리카\u0027,\u0027고추\u0027,\u0027호박\u0027,\n\u0027땅콩\u0027,\u0027참깨\u0027,\n\u0027감귤\u0027,\u0027레몬\u0027,\u0027바나나\u0027,\u0027배\u0027,\u0027사과\u0027,\u0027오렌지\u0027,\u0027파인애플\u0027,\u0027포도\u0027]\n\n# gmgm product id define\ngmgm_p_id \u003d [product_id[name] for name in gmgm_p_name]\ngmgm_p_id \u003d tuple(gmgm_p_id)\n\n# product_price table select product_id, unit_price, research_date from product_price where date_type\u003d\u0027m\u0027 and product_id in {gmgm_p_id}\ngmgm_pp_sdf \u003d spark.read.format(\"jdbc\")\\\n    .option(\"url\", url) \\\n    .option(\"driver\", \"com.mysql.cj.jdbc.Driver\")\\\n    .option(\"query\", f\"select product_id, unit_price, research_date from product_price where date_type\u003d\u0027m\u0027 and product_id in {gmgm_p_id} and research_date in (\u0027{monthly_date}\u0027, \u00272020-01-01\u0027) order by product_id, research_date\") \\\n    .option(\"user\", \"ji\")\\\n    .option(\"password\", \"cvgkbhs234r#8tdx\").load()\ngmgm_pp_sdf.show()\n    \n# product table select product_id, weight to calculate gmgm index\ngmgm_p_sdf \u003d spark.read.format(\"jdbc\")\\\n    .option(\"url\", url) \\\n    .option(\"driver\", \"com.mysql.cj.jdbc.Driver\")\\\n    .option(\"query\", f\"select product_id, weight from product\") \\\n    .option(\"user\", \"ji\")\\\n    .option(\"password\", \"cvgkbhs234r#8tdx\").load()\n\n# calculate gmgm index\nfrom pyspark.sql.functions import col, sum, lit, round\nimport numpy as np\n\nprice_weight_sdf \u003d gmgm_pp_sdf.join(gmgm_p_sdf, gmgm_pp_sdf[\u0027product_id\u0027] \u003d\u003d gmgm_p_sdf[\u0027product_id\u0027], how\u003d\u0027left\u0027)\nprice_weight_sdf \u003d price_weight_sdf.withColumn(\u0027price*weight\u0027, price_weight_sdf[\u0027unit_price\u0027]*price_weight_sdf[\u0027weight\u0027])\n# price_weight_sdf.show()\n\nindex_sdf \u003d price_weight_sdf.groupBy(\u0027research_date\u0027).agg(sum(col(\u0027price*weight\u0027)).alias(\u0027sum_value\u0027))\nindex_sdf \u003d index_sdf.withColumn(\u0027value\u0027, round(index_sdf[\u0027sum_value\u0027]/index_sdf.filter(col(\u0027research_date\u0027)\u003d\u003d\u00272020-01-01\u0027).first()[1]*100, 2))\n# index_sdf.show()\n\n# index_sdf \u003d index_sdf.withColumn(\u0027index_type\u0027,lit(\u0027g\u0027))\nindex_sdf \u003d index_sdf.select(\u0027value\u0027).filter(f\"research_date\u003d\u003d\u0027{monthly_date}\u0027\")\nupdate_value \u003d index_sdf.collect()[0][0]\nprint(update_value)\n\n# # price_index table update \nimport requests\nurl \u003d \"http://3.36.106.26:8081/api/notebook/run/2HDTRUMFY/paragraph_1664269559282_157825701\"\n\nrequests.post(url, json\u003d{\"params\": {\"value\": str(update_value), \"research_date\": monthly_date}})"
    },
    {
      "cell_type": "code",
      "execution_count": 29,
      "metadata": {
        "autoscroll": "auto"
      },
      "outputs": [],
      "source": "%MySQL\nupdate price_index set value\u003d\u0027${value}\u0027 where index_type\u003d\u0027g\u0027 and research_date\u003d\u0027${research_date}\u0027;"
    },
    {
      "cell_type": "markdown",
      "metadata": {},
      "source": "product_id\n- 57(살충제), 34(빵) 있음 \n- 37(식빵), 72(코로나 자가검사 키트), 52(물휴지) 없음"
    },
    {
      "cell_type": "code",
      "execution_count": 31,
      "metadata": {
        "autoscroll": "auto"
      },
      "outputs": [],
      "source": "%MySQL\nselect * from price_index where index_type\u003d\u0027g\u0027"
    }
  ]
}