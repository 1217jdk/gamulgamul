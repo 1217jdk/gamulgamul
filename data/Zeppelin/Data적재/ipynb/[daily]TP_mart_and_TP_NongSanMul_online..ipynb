﻿{
  "metadata": {
    "name": "[daily]TP_mart_and_TP_NongSanMul_online",
    "kernelspec": {
      "language": "scala",
      "name": "spark2-scala"
    },
    "language_info": {
      "codemirror_mode": "text/x-scala",
      "file_extension": ".scala",
      "mimetype": "text/x-scala",
      "name": "scala",
      "pygments_lexer": "scala"
    }
  },
  "nbformat": 4,
  "nbformat_minor": 2,
  "cells": [
    {
      "cell_type": "code",
      "execution_count": 0,
      "metadata": {
        "autoscroll": "auto"
      },
      "outputs": [],
      "source": "\n%spark.conf\n\nSPARK_HOME  /usr/local/spark\nPYSPARK_PYTHON /usr/bin/python3\nspark.pyspark.python  /usr/bin/python3\n\n# set driver memory to 8g\nspark.driver.memory 8g\n\n# set executor number to be 3\nspark.executor.instances  3\n\n# set executor memory 4g\nspark.executor.memory  2g\n\n# Any other spark properties can be set here. Here\u0027s avaliable spark configruation you can set. (http://spark.apache.org/docs/latest/configuration.html)"
    },
    {
      "cell_type": "code",
      "execution_count": 1,
      "metadata": {
        "autoscroll": "auto"
      },
      "outputs": [],
      "source": "%pyspark\nproduct_table \u003d pd.read_csv(\u0027/DB_data/20221001_product_table.csv\u0027)\nproduct_table"
    },
    {
      "cell_type": "code",
      "execution_count": 2,
      "metadata": {
        "autoscroll": "auto"
      },
      "outputs": [],
      "source": "%pyspark\ngoods_table \u003d pd.read_csv(\u0027/DB_data/20221001_goods_table.csv\u0027)\ngoods_table"
    },
    {
      "cell_type": "markdown",
      "metadata": {},
      "source": "주류\n- 대형마트 : [254, 255, 256, 257, 258, 259, 269, 270, 271, 292] -\u003e 참가격 가격 그대로 사용\n- SSM(삭제) : [350, 351, 352, 353, 354, 355, 361]"
    },
    {
      "cell_type": "markdown",
      "metadata": {},
      "source": "### 주류 : [254, 255, 256, 257, 258, 259, 269, 270, 271, 292]\n### DB goods_price 테이블에서 business\u003d\u0027m\u0027 이고 research_date\u003dyesterday 인 unit_price, price 사용하기!"
    },
    {
      "cell_type": "markdown",
      "metadata": {},
      "source": "# !!!!!!!!!!!!!!!!!!!!!!!!!!!!!!!!!!!!!주의!!!!!!!!!!!!!!!!!!!!!!!!!!!!!!!!!!!!!!!!\n### 검색어를 개선했음에도 주류가 아닌 상품이 None 값으로 들어갈 수 있습니다!\n### csv로 바로 저장하지 말고 o_data와 m_data에서 어떤 아이디가 None인지 확인한 후에!\n### 드라이브 오늘굿즈테이블이무너졌어/goods_table_search.xlsx 파일에서 search_name 확인!\n### 직접 검색해보고 이상하면 검색어 새롭게 또 개선! (name은 수정하면 안돼! 귀찮아! mall_name, search_name, sort option 정도만 개선)\n### None 아이디들 다 개선 후에 파일\u003e다운로드\u003ecsv 를 통해 다운받아서!\n### 서버 DB_data/{날짜}_goods_table_search.csv 처럼 넣어주기!\n### 자동화 내 goods_search_option 정의할 때 파일 변경해주기!\n"
    },
    {
      "cell_type": "markdown",
      "metadata": {},
      "source": "paragraph_1663724866932_1303867911\n2HGSN9FKX"
    },
    {
      "cell_type": "code",
      "execution_count": 7,
      "metadata": {
        "autoscroll": "auto"
      },
      "outputs": [],
      "source": "%pyspark\n# notebook id : 2HFD439YZ\"\n# paragraph : paragraph_1663724866932_1303867911\n# POST 로 해당 paragraph 실행 : http://3.36.106.26:8081/api/notebook/run/2HFD439YZ/paragraph_1663724866932_1303867911\n### 모듈\nimport pandas as pd\nimport numpy as np\nimport datetime\nimport time\nfrom tqdm import tqdm\nimport os\nimport sys\nimport urllib.request\nimport json, pprint\nimport pickle\n\n### 저장용 날짜 정의\ntoday \u003d ( datetime.datetime.now()  + datetime.timedelta(hours\u003d9) ).strftime(\"%Y-%m-%d\")\nyesterday \u003d (datetime.date.today()-datetime.timedelta(1) + datetime.timedelta(hours\u003d9) ).strftime(\u0027%Y-%m-%d\u0027)\n\n### 상품 테이블 정의\ngoods_table \u003d pd.read_csv(\u0027/DB_data/20221002_goods_table.csv\u0027)\n\n### 상품 단위용량 총용량 계산을 위한 품목 테이블 정의\nproduct_table \u003d pd.read_csv(\u0027/DB_data/20221002_product_table.csv\u0027)\nproduct_table_unit \u003d product_table[[\u0027product_id\u0027, \u0027unit\u0027]]\n\n### 주류는 대형마트 가격 그대로 사용하기 위한 테이블 정의\nalcohol \u003d pd.read_csv(f\u0027/api_data/tp_goods_price_m_{yesterday}.csv\u0027)\n\n### 상품 검색 옵션 테이블 정의\ngoods_search_option \u003d pd.read_csv(\u0027/DB_data/20221002_goods_table_search.csv\u0027)\ngoods_search_option.drop(columns\u003d[\u0027name\u0027, \u0027img\u0027, \u0027measure\u0027, \u0027cheap_url\u0027], inplace\u003dTrue)\n\n\n### 상품 이름-id 딕셔너리 정의\nwith open(\u0027/DB_data/20221001_goodsName_goodsId.pickle\u0027, \u0027rb\u0027) as f:\n    goods_id \u003d pickle.load(f)\n\n\n\n### api 키\n# client_id \u003d \"a8DDB5LJUVwh8_MWPtSj\"\n# client_secret \u003d \"hKlWjoMufh\"\n\n\n### api 함수 정의\n## 상품 가격 온라인\ndef get_goods_online(goods_id):\n    row \u003d goods_search_option.loc[goods_search_option[\u0027goods_id\u0027]\u003d\u003dgoods_id]\n\n    if goods_id in [49, 53, 231, 232, 347, 363, 406]:\n        search_name \u003d goods_table.loc[goods_table[\u0027goods_id\u0027]\u003d\u003dgoods_id][\u0027name\u0027].values[0]\n    else:\n        search_name \u003d row[\u0027search_name\u0027].values[0]\n    if search_name \u003d\u003d \u0027주류\u0027:\n        alcohol_goods \u003d alcohol.loc[(alcohol[\u0027goods_id\u0027]\u003d\u003dgoods_id) \u0026 (alcohol[\u0027business\u0027]\u003d\u003d\u0027m\u0027) \u0026 (alcohol[\u0027research_date\u0027]\u003d\u003dyesterday)]\n        return {\u0027goods_id\u0027: goods_id, \u0027unit_price\u0027: alcohol_goods[\u0027unit_price\u0027].values[0], \u0027price\u0027: alcohol_goods[\u0027price\u0027].values[0], \u0027research_date\u0027: today, \u0027business\u0027: \u0027o\u0027}\n\n    product_id \u003d row[\u0027product_id\u0027].values[0]\n    divide \u003d row[\u0027divide\u0027].values[0]\n    amount \u003d row[\u0027amount\u0027].values[0]\n    \n    encText \u003d urllib.parse.quote(f\u0027{search_name}\u0027)\n    url \u003d \"https://openapi.naver.com/v1/search/shop.json?exclude\u003dused:rental:cbshop\u0026start\u003d1\u0026display\u003d20\u0026sort\u003dsim\u0026query\u003d\" + encText \n    request \u003d urllib.request.Request(url)\n    request.add_header(\"X-Naver-Client-Id\",client_id)\n    request.add_header(\"X-Naver-Client-Secret\",client_secret)\n    time.sleep(0.01)\n    response \u003d urllib.request.urlopen(request)\n    rescode \u003d response.getcode()\n\n    if(rescode\u003d\u003d200):\n        response_body \u003d response.read()\n        res \u003d json.loads(response_body.decode(\u0027utf-8\u0027))\n    else:\n        print(\"Error Code:\" + rescode)\n        return\n    \n    goods_info \u003d dict()\n    goods_info[\u0027goods_id\u0027] \u003d goods_id\n    if not res[\u0027items\u0027]:\n        return {\u0027goods_id\u0027: goods_id, \u0027unit_price\u0027: None, \u0027price\u0027: None, \u0027research_date\u0027: today, \u0027business\u0027: \u0027o\u0027}\n    \n    cheap \u003d sorted(res[\u0027items\u0027], key\u003d lambda x: int(x[\u0027lprice\u0027]))[0]\n    \n    if goods_id \u003c 20000:\n        price \u003d int(cheap.get(\u0027lprice\u0027))\n        if not pd.isna(divide):\n            price //\u003d int(divide)\n        unit_price \u003d price * int(product_table_unit.loc[product_table_unit[\u0027product_id\u0027]\u003d\u003dproduct_id][\u0027unit\u0027]) / int(amount)\n        # goods_info[\u0027unit_price\u0027] \u003d round(unit_price, 2)\n        goods_info[\u0027unit_price\u0027] \u003d unit_price\n        goods_info[\u0027price\u0027] \u003d price\n    else:\n        price \u003d int(cheap.get(\u0027lprice\u0027)) * int(product_table_unit.loc[product_table_unit[\u0027product_id\u0027]\u003d\u003dproduct_id][\u0027unit\u0027]) / int(amount)\n        # goods_info[\u0027unit_price\u0027] \u003d round(unit_price, 2)\n        goods_info[\u0027unit_price\u0027] \u003d price\n        if goods_id \u003d\u003d 20018: # 쌀(unit:1, goods:20)\n            goods_info[\u0027price\u0027] \u003d price*20\n        elif goods_id \u003d\u003d 20055: # 팽이버섯(unit:100, goods:150)\n            goods_info[\u0027price\u0027] \u003d price*1.5\n        else:\n            goods_info[\u0027price\u0027] \u003d price\n    \n    goods_info[\u0027research_date\u0027] \u003d today\n    goods_info[\u0027business\u0027] \u003d \u0027o\u0027\n    \n    return goods_info\n\n\n\n## 상품 가격 대형마트(참가격(20000번 미만)만 가져오면 됨!)\ndef get_goods_info(goods_id):\n    row \u003d goods_search_option.loc[goods_search_option[\u0027goods_id\u0027]\u003d\u003dgoods_id]\n    mall_name \u003d row[\u0027mall_name\u0027].values[0]\n    search_name \u003d row[\u0027search_name\u0027].values[0]\n    if search_name \u003d\u003d \u0027주류\u0027:\n        alcohol_goods \u003d alcohol.loc[(alcohol[\u0027goods_id\u0027]\u003d\u003dgoods_id) \u0026 (alcohol[\u0027business\u0027]\u003d\u003d\u0027m\u0027) \u0026 (alcohol[\u0027research_date\u0027]\u003d\u003dyesterday)]\n        return {\u0027goods_id\u0027: goods_id, \u0027unit_price\u0027: alcohol_goods[\u0027unit_price\u0027].values[0], \u0027price\u0027: alcohol_goods[\u0027price\u0027].values[0], \u0027research_date\u0027: today, \u0027business\u0027: \u0027m\u0027}\n    sort_option \u003d \u0027sim\u0027 if pd.isna(row[\u0027sort option\u0027].values[0]) else \u0027asc\u0027\n    divide \u003d row[\u0027divide\u0027].values[0]\n\n    encText \u003d urllib.parse.quote(f\u0027{mall_name} {search_name}\u0027)\n    url \u003d f\"https://openapi.naver.com/v1/search/shop.json?exclude\u003dused:rental:cbshop\u0026start\u003d1\u0026display\u003d20\u0026sort\u003d{sort_option}\u0026query\u003d\" + encText \n    request \u003d urllib.request.Request(url)\n    request.add_header(\"X-Naver-Client-Id\",client_id)\n    request.add_header(\"X-Naver-Client-Secret\",client_secret)\n    time.sleep(0.01)\n    response \u003d urllib.request.urlopen(request)\n    rescode \u003d response.getcode()\n\n    if(rescode\u003d\u003d200):\n        response_body \u003d response.read()\n        res \u003d json.loads(response_body.decode(\u0027utf-8\u0027))\n    else:\n        print(\"Error Code:\" + rescode)\n        return\n    \n    goods_info \u003d dict()\n    goods_info[\u0027goods_id\u0027] \u003d goods_id\n    if not res[\u0027items\u0027]:\n        return {\u0027goods_id\u0027: goods_id, \u0027unit_price\u0027: None, \u0027price\u0027: None, \u0027research_date\u0027: today, \u0027business\u0027: \u0027m\u0027}\n   \n    for i in range(res[\u0027display\u0027]):\n        api_mall_name \u003d res[\u0027items\u0027][i].get(\u0027mallName\u0027)\n        if api_mall_name \u003d\u003d \u0027홈플러스\u0027 or api_mall_name \u003d\u003d \u0027homeplus\u0027:\n            api_mall_name \u003d \u0027Homeplus\u0027\n        \n        if mall_name \u003d\u003d api_mall_name:\n            price \u003d int(res[\u0027items\u0027][i].get(\u0027lprice\u0027))\n            if not pd.isna(divide):\n                price //\u003d int(divide)\n            unit_price \u003d price * int(product_table_unit.loc[product_table_unit[\u0027product_id\u0027]\u003d\u003drow[\u0027product_id\u0027].values[0]][\u0027unit\u0027]) / int(row[\u0027amount\u0027].values[0])\n            # goods_info[\u0027unit_price\u0027] \u003d round(unit_price, 2)\n            goods_info[\u0027unit_price\u0027] \u003d unit_price\n            goods_info[\u0027price\u0027] \u003d price\n            \n            goods_info[\u0027research_date\u0027] \u003d today\n            goods_info[\u0027business\u0027] \u003d \u0027m\u0027\n            return goods_info\n    else:\n        return {\u0027goods_id\u0027: goods_id, \u0027unit_price\u0027: None, \u0027price\u0027: None, \u0027research_date\u0027: today, \u0027business\u0027: \u0027m\u0027}\n    \n    return {\u0027goods_id\u0027: goods_id, \u0027unit_price\u0027: None, \u0027price\u0027: None, \u0027research_date\u0027: today, \u0027business\u0027: \u0027m\u0027}\n\n\n### 상품 가격 온라인 api 가져오기\no_data \u003d []\nfor id in tqdm(goods_table[\u0027goods_id\u0027]):\n    o_data.append(get_goods_online(id))\n\n\n## 상품 가격 온라인 저장\ngoods_price_o \u003d pd.DataFrame(o_data)\ngoods_price_o \u003d goods_price_o[[\u0027goods_id\u0027, \u0027unit_price\u0027, \u0027price\u0027, \u0027research_date\u0027, \u0027business\u0027]]\ngoods_price_o.sort_values(by\u003d[\u0027goods_id\u0027], inplace\u003dTrue)\ngoods_price_o.reset_index(drop\u003dTrue, inplace\u003dTrue)\ngoods_price_o \u003d goods_price_o.round({\u0027unit_price\u0027:2, \u0027price\u0027:2})\ngoods_price_o.to_csv(f\u0027/api_data/goods_price_o_{today}.csv\u0027, index\u003dFalse)\n# DB 상품 가격 테이블에 추가\n\n\n# 상품 가격 대형마트 api 가져오기\nm_data \u003d []\n\nfor id in tqdm(goods_table[\u0027goods_id\u0027]):\n    if id \u003c 20000:\n        m_data.append(get_goods_info(id))\n\n## 상품 가격 대형마트 저장\ngoods_price_m \u003d pd.DataFrame(m_data)\ngoods_price_m \u003d goods_price_m[[\u0027goods_id\u0027, \u0027unit_price\u0027, \u0027price\u0027, \u0027research_date\u0027, \u0027business\u0027]]\ngoods_price_m.sort_values(by\u003d[\u0027goods_id\u0027], inplace\u003dTrue)\ngoods_price_m.reset_index(drop\u003dTrue, inplace\u003dTrue)\ngoods_price_m \u003d goods_price_m.round({\u0027unit_price\u0027:2, \u0027price\u0027:2})\ngoods_price_m.to_csv(f\u0027/api_data/tp_goods_price_m_{today}.csv\u0027, index\u003dFalse)\n# DB 상품 가격 테이블에 추가\n\n\n"
    },
    {
      "cell_type": "code",
      "execution_count": 8,
      "metadata": {
        "autoscroll": "auto"
      },
      "outputs": [],
      "source": "%pyspark\nalcohol \u003d pd.read_csv(\u0027/DB_data/20220929_or_20220930_tmp_goods_price.csv\u0027)\nfor id in [254, 255, 256, 257, 258, 259, 269, 270, 271, 292]:\n    alcohol.loc[(alcohol[\u0027goods_id\u0027]\u003d\u003did) \u0026 (alcohol[\u0027business\u0027]\u003d\u003d\u0027m\u0027) \u0026 (alcohol[\u0027research_date\u0027]\u003d\u003d\u00272022-09-30\u0027)][\u0027price\u0027].values[0]"
    },
    {
      "cell_type": "code",
      "execution_count": 9,
      "metadata": {
        "autoscroll": "auto"
      },
      "outputs": [],
      "source": "%pyspark\ngoods_search_option \u003d pd.read_csv(\u0027/DB_data/goods_table_search.csv\u0027)\ngoods_search_option.drop(columns\u003d[\u0027name\u0027, \u0027img\u0027, \u0027measure\u0027, \u0027cheap_url\u0027], inplace\u003dTrue)\ngoods_search_option"
    },
    {
      "cell_type": "code",
      "execution_count": 10,
      "metadata": {
        "autoscroll": "auto"
      },
      "outputs": [],
      "source": "%pyspark\ndatetime.datetime.now().strftime(\u0027%Y%m%d\u0027)"
    },
    {
      "cell_type": "code",
      "execution_count": 11,
      "metadata": {
        "autoscroll": "auto"
      },
      "outputs": [],
      "source": "%pyspark\ngoods_price_m"
    },
    {
      "cell_type": "code",
      "execution_count": 12,
      "metadata": {
        "autoscroll": "auto"
      },
      "outputs": [],
      "source": "%pyspark\ngoods_price_s"
    },
    {
      "cell_type": "code",
      "execution_count": 13,
      "metadata": {
        "autoscroll": "auto"
      },
      "outputs": [],
      "source": "%pyspark\ngoods_price_o"
    },
    {
      "cell_type": "code",
      "execution_count": 14,
      "metadata": {
        "autoscroll": "auto"
      },
      "outputs": [],
      "source": "%MySQL\nSELECT * FROM goods\nwhere goods_id\u003d20018\n"
    },
    {
      "cell_type": "code",
      "execution_count": 15,
      "metadata": {
        "autoscroll": "auto"
      },
      "outputs": [],
      "source": "%pyspark\nwith open(\u0027/DB_data/goodsId_productId.pickle\u0027, \u0027rb\u0027) as f:\n    gpId \u003d pickle.load(f)\ngpId"
    },
    {
      "cell_type": "code",
      "execution_count": 16,
      "metadata": {
        "autoscroll": "auto"
      },
      "outputs": [],
      "source": "%pyspark\nproduct_table \u003d pd.read_csv(\u0027/DB_data/product_table.csv\u0027)\nproduct_table"
    },
    {
      "cell_type": "code",
      "execution_count": 17,
      "metadata": {
        "autoscroll": "auto"
      },
      "outputs": [],
      "source": "%pyspark\napple \u003d product_table[product_table[\u0027product_id\u0027]\u003d\u003dgpId[20002]]\nprint(apple.name.values[0]+str(apple.unit.values[0])+apple.measure.values[0])"
    },
    {
      "cell_type": "raw",
      "metadata": {
        "format": "text/plain"
      },
      "source": "%pyspark\n"
    },
    {
      "cell_type": "code",
      "execution_count": 19,
      "metadata": {
        "autoscroll": "auto"
      },
      "outputs": [],
      "source": "%MySQL\nSELECT * from goods_price\nwhere business\u003d\u0027m\u0027 and goods_id \u003d 20001\n"
    },
    {
      "cell_type": "code",
      "execution_count": 20,
      "metadata": {
        "autoscroll": "auto"
      },
      "outputs": [],
      "source": "%MySQL\nselect * from product\nwhere product_id \u003d 107"
    },
    {
      "cell_type": "code",
      "execution_count": 21,
      "metadata": {
        "autoscroll": "auto"
      },
      "outputs": [],
      "source": "%MySQL\nselect * from goods_price"
    },
    {
      "cell_type": "raw",
      "metadata": {
        "format": "text/plain"
      },
      "source": "%MySQL\n"
    }
  ]
}