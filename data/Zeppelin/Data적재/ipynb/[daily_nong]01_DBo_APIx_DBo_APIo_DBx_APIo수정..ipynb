﻿{
  "metadata": {
    "name": "[daily_nong]01_DBo_APIx_DBo_APIo_DBx_APIo수정",
    "kernelspec": {
      "language": "scala",
      "name": "spark2-scala"
    },
    "language_info": {
      "codemirror_mode": "text/x-scala",
      "file_extension": ".scala",
      "mimetype": "text/x-scala",
      "name": "scala",
      "pygments_lexer": "scala"
    }
  },
  "nbformat": 4,
  "nbformat_minor": 2,
  "cells": [
    {
      "cell_type": "markdown",
      "metadata": {},
      "source": "# 1. 농산물 데이터, 저녁에 새로 받아오면, \n+ **DBo_APIx , DBo_APIo, DBx_APIo 가져와서, 수정하기**\n+ DB의 goods_price table 갱신하기\n+ DB의 product_price table 갱신하기 \n+ DB의 favorite_total_price table 갱신하기\n"
    },
    {
      "cell_type": "code",
      "execution_count": 1,
      "metadata": {
        "autoscroll": "auto"
      },
      "outputs": [],
      "source": "%spark.conf\n\nSPARK_HOME  /usr/local/spark\nPYSPARK_PYTHON /usr/bin/python3\nspark.pyspark.python  /usr/bin/python3\n\n# set driver memory to 8g\nspark.driver.memory 8g\n\n# set executor number to be 3\nspark.executor.instances  3\n\n# set executor memory 4g\nspark.executor.memory  2g\n"
    },
    {
      "cell_type": "markdown",
      "metadata": {},
      "source": "## [1] DBo_APIx , DBo_APIo, DBx_APIo 가져와서, 수정하기\n+ DBo_APIx\n+ DBo_APIo\n+ DBx_APIo : 보류"
    },
    {
      "cell_type": "code",
      "execution_count": 3,
      "metadata": {
        "autoscroll": "auto"
      },
      "outputs": [],
      "source": "%pyspark\n\n# 2HDHVH62E\n# paragraph_1664863840860_1055396381\n# http://3.36.106.26:8081/api/notebook/run/2HDHVH62E/paragraph_1664863840860_1055396381\n\nimport pandas as pd\nimport datetime\n\n# 1. 날짜 선정\ntoday \u003d ( datetime.datetime.now()  + datetime.timedelta(hours\u003d9) ).strftime(\"%Y-%m-%d\")\n\n\n# 2. 함수 선언\ndef str_to_lst(str_lst):\n    \n    if str_lst \u003d\u003d \u0027[]\u0027:\n        str_lst \u003d []\n\n    else:\n        str_lst \u003d str_lst[1:-1]\n        str_lst \u003d str_lst.split(\u0027,\u0027)\n        str_lst \u003d list(map(int,str_lst))\n    return str_lst\n\n    \n# 2. 목록 가져오기\nDBo_APIo \u003d pd.read_csv(f\u0027/api_data/integrity/{today}_DBo_APIo.csv\u0027)\nDBo_APIx \u003d pd.read_csv(f\u0027/api_data/integrity/{today}_DBo_APIx.csv\u0027)\n\n\n# 3. goods_id list 가져오기\n## 3-1 : DBo_APIo 에서는 goods_id를 추가하기\nm_DBo_APIo_index \u003d DBo_APIo[DBo_APIo[\u0027business\u0027]\u003d\u003d\u0027m\u0027].index[0]\nm_DBo_APIo_goods_id_lst \u003d DBo_APIo.loc[m_DBo_APIo_index,\u0027goods_id_lst\u0027]\nm_DBo_APIo_goods_id_lst \u003d str_to_lst(m_DBo_APIo_goods_id_lst)   # list화 시키기\n\n\n## 3-2 : DBo_APIx 에서는 goods_id를 제거하기\nm_DBo_APIx_index \u003d DBo_APIx[DBo_APIx[\u0027business\u0027]\u003d\u003d\u0027m\u0027].index[0]\nm_DBo_APIx_goods_id_lst \u003d DBo_APIx.loc[m_DBo_APIx_index,\u0027goods_id_lst\u0027]\nm_DBo_APIx_goods_id_lst \u003d str_to_lst(m_DBo_APIx_goods_id_lst)   # list화 시키기\n\n# print(m_DBo_APIo_goods_id_lst,type(m_DBo_APIo_goods_id_lst))\n# print(m_DBo_APIx_goods_id_lst,type(m_DBo_APIx_goods_id_lst))\n\n\n# 4. 새로 가져온 Data 가져오기\n## 4-1 : csv 로드\nnong_goods_price_m_pdf \u003d pd.read_csv(f\u0027/api_data/nong_goods_price_m_{today}.csv\u0027)\n\n## 4-2 not null인 것 goods_id 가져오기\nnong_mart_goods_id_lst \u003d list(nong_goods_price_m_pdf[nong_goods_price_m_pdf[\u0027price\u0027].notnull()][\u0027goods_id\u0027])\nprint(nong_mart_goods_id_lst)\n\n\n# 5. goods_id list 수정하기\nfor nong_goods_id in nong_mart_goods_id_lst:\n    m_DBo_APIo_goods_id_lst.append(nong_goods_id)\n    m_DBo_APIx_goods_id_lst.remove(nong_goods_id)\n\n\n\n# 6. DBo_APIo , DBo_APIx 저장하기\n## 6-1 : 값 교체\nDBo_APIo.loc[m_DBo_APIo_index,\u0027goods_id_lst\u0027]\u003d m_DBo_APIo_goods_id_lst\nDBo_APIx.loc[m_DBo_APIx_index,\u0027goods_id_lst\u0027]\u003d m_DBo_APIx_goods_id_lst\n\n## 6-2 : 교체한 값 저장 \nDBo_APIo.to_csv(f\u0027/api_data/integrity/{today}_DBo_APIo.csv\u0027, header\u003dTrue, index\u003dFalse)\nDBo_APIx.to_csv(f\u0027/api_data/integrity/{today}_DBo_APIx.csv\u0027, header\u003dTrue, index\u003dFalse)\n\n\n\n\n"
    },
    {
      "cell_type": "markdown",
      "metadata": {},
      "source": ""
    }
  ]
}