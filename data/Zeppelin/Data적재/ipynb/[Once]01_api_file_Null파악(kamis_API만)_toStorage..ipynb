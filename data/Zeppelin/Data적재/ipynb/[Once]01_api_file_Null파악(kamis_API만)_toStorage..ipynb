﻿{
  "metadata": {
    "name": "[Once]01_api_file_Null파악(kamis_API만)_toStorage",
    "kernelspec": {
      "language": "scala",
      "name": "spark2-scala"
    },
    "language_info": {
      "codemirror_mode": "text/x-scala",
      "file_extension": ".scala",
      "mimetype": "text/x-scala",
      "name": "scala",
      "pygments_lexer": "scala"
    }
  },
  "nbformat": 4,
  "nbformat_minor": 2,
  "cells": [
    {
      "cell_type": "markdown",
      "metadata": {},
      "source": " # 1. KAMIS API로 가져온 것 DB에 넣기 전, 전처리\n+ 처음 DB에 넣는 경우,  2021년 09월07일부터 ~ 측정일까지 채워넣어서, DB에 넣기\n+ Null price는 어제 데이터로 처리\n+ Null price 목록 따로 파일로 저장해서 기록하기\n\n"
    },
    {
      "cell_type": "code",
      "execution_count": 1,
      "metadata": {
        "autoscroll": "auto"
      },
      "outputs": [],
      "source": "%spark.conf\n\nSPARK_HOME  /usr/local/spark\nPYSPARK_PYTHON /usr/bin/python3\nspark.pyspark.python  /usr/bin/python3\n\n# set driver memory to 8g\nspark.driver.memory 8g\n\n# set executor number to be 3\nspark.executor.instances  3\n\n# set executor memory 4g\nspark.executor.memory  2g\n"
    },
    {
      "cell_type": "markdown",
      "metadata": {},
      "source": "## [1] API로 가져온 데이터 null 여부 파악(전체 goods_id에 대해서 진행) - KAMIS API(농산물 대형마트)만 진행하기"
    },
    {
      "cell_type": "markdown",
      "metadata": {},
      "source": "### (1) goods_id 현황 파악\n\n- DB에는 있고, API(Naver, kamis)에는 없고\n- DB에는 없고, API(Naver, kamis)에는 있고\n- DB에 있고, API(Naver, kamis)에 있고\n\n### (2) 요약\n+ DB의 goods_price table에 이미 goods_id에 대한 price가 1개라도 있다면, DB에는 해당 goods_id에 대한 price 결측치가 없는 것임"
    },
    {
      "cell_type": "code",
      "execution_count": 4,
      "metadata": {
        "autoscroll": "auto"
      },
      "outputs": [],
      "source": "%pyspark\nimport pandas as pd\nfrom pyspark.sql.functions import col\nimport datetime\n\n# 1. 날짜 설정\nresearch_date \u003d \u00272022-09-30\u0027\nstore_date \u003d \u002720220930\u0027\n\n\n# 2. DB 정보 및 Load\nurl \u003d \"jdbc:mysql://j7d108.p.ssafy.io:3306/gamulgamul_test3?useSSL\u003dfalse\u0026characterEncoding\u003dUTF-8\u0026useUnicode\u003dtrue\u0026allowPublicKeyRetrieval\u003dtrue\u0026serverTimezone\u003dAsia/Seoul\"\n\n## 2-1 goods id\ngoods_id_sdf \u003d spark.read.format(\"jdbc\")\\\n    .option(\"url\", url) \\\n    .option(\"driver\", \"com.mysql.cj.jdbc.Driver\")\\\n    .option(\"query\", \"select goods_id from goods where goods_id\u003e\u003d20000\") \\\n    .option(\"user\", \"ji\")\\\n    .option(\"password\", \"cvgkbhs234r#8tdx\").load()\n\ngoods_id_pdf \u003d goods_id_sdf.toPandas()\ngoods_id_set \u003d set(goods_id_pdf[\u0027goods_id\u0027])\nprint(f\u0027DB 에 goods_id 개수 : {len(goods_id_set)}\u0027)\n\n\n\n## 2-2 goods_price\ngoods_price_sdf \u003d spark.read.format(\"jdbc\")\\\n    .option(\"url\", url) \\\n    .option(\"driver\", \"com.mysql.cj.jdbc.Driver\")\\\n    .option(\"query\", \"select goods_id, unit_price, price, research_date, business from goods_price where goods_id\u003e\u003d20000\") \\\n    .option(\"user\", \"ji\")\\\n    .option(\"password\", \"cvgkbhs234r#8tdx\").load()\n    \n## db Data를 pandas로 바꾸기\ngoods_price_mart_sdf \u003d goods_price_sdf.filter( col(\u0027business\u0027)\u003d\u003d\u0027m\u0027 )\ngoods_price_mart_pdf \u003d goods_price_mart_sdf.toPandas()\n\n\n## 기존 DB에 있는 goods_id들\nDB_goods_id_mart \u003d set(goods_price_mart_pdf[\u0027goods_id\u0027].unique())\nprint(f\u0027DB mart에 goods_id 개수 : {len(DB_goods_id_mart)}\u0027)\n\n\n\n\n\n# 3. 추가할 csv Load# 2. DB 정보 및 Load\ngoods_price_m_pdf \u003d pd.read_csv(f\u0027/api_data/nong_goods_price_m_{research_date}.csv\u0027)\nmart_goods_id_set \u003d set(goods_price_m_pdf[goods_price_m_pdf[\u0027price\u0027].notnull()][\u0027goods_id\u0027])\nprint(f\u0027 api  mart 에 goods_id 개수 : {len(goods_price_m_pdf)}\u0027)\n\n\n\n# 4.  현재 NULL인 goods_id 찾기\n## 4-1 DB에 없고,  api에도 없는 goods_id\n# no_mart_goods_id   \u003d goods_id_set - mart_goods_id_set\n# print(f\u0027[m] DB에도 없고, 새로 가져온 데이터에도 없는 goods_id 개수 : {len(no_mart_goods_id)}\u0027)\n# print(\u0027-\u0027*100)\n\n## 4-2 DB에 있고,  api에는 없는 goods_id\nonlyDB_mart_goods_id   \u003d DB_goods_id_mart - mart_goods_id_set\nprint(f\u0027[m] DB에는 있고, 새로 가져온 데이터에 없는 goods_id 개수 : {len(onlyDB_mart_goods_id)}\u0027)\nprint(\u0027-\u0027*100)\n\n# 4-3. DB에 없고,  api에는 있는 goods_id 찾기\nmart_only_goods_id   \u003d mart_goods_id_set - DB_goods_id_mart\nprint(f\u0027[m] DB에 없고, 새로 가져온 데이터에는 있는 goods_id 개수 : {len(mart_only_goods_id)}\u0027)\nprint(\u0027-\u0027*100)\n\n\n# 4-4. DB에 있고,  api에도 있는 goods_id 찾기\nboth_mart_goods_id \u003d mart_goods_id_set.intersection(DB_goods_id_mart)\nprint(f\u0027[m] DB에 있고, 새로 가져온 데이터에도 있는 goods_id 개수 : {len(both_mart_goods_id)}\u0027)\nprint(\u0027-\u0027*100)\n\n\n\n\n# 5. 결과 df 생성\n# DBx_APIx_result_pdf \u003d pd.DataFrame(columns\u003d[\u0027research_date\u0027, \u0027business\u0027,\u0027goods_id_lst\u0027])\nDBo_APIx_result_pdf \u003d pd.DataFrame(columns\u003d[\u0027research_date\u0027, \u0027business\u0027,\u0027goods_id_lst\u0027])\nDBx_APIo_result_pdf \u003d pd.DataFrame(columns\u003d[\u0027research_date\u0027, \u0027business\u0027,\u0027goods_id_lst\u0027])\nDBo_APIo_result_pdf \u003d pd.DataFrame(columns\u003d[\u0027research_date\u0027, \u0027business\u0027,\u0027goods_id_lst\u0027])\n\n\nbusiness \u003d [\u0027m\u0027]\ngoods_ids \u003d []\n\n# xx\u003d[\n# no_mart_goods_id\n\n# ]\n\nox\u003d[\nonlyDB_mart_goods_id\n\n]\n\nxo\u003d[\nmart_only_goods_id\n]\n\noo\u003d[\nboth_mart_goods_id\n]\n\nfor i in range(1):\n    # DBx_APIx_result_pdf.loc[i] \u003d [research_date, business[i], sorted(list(xx[i]))]\n    DBo_APIx_result_pdf.loc[i] \u003d [research_date, business[i], sorted(list(ox[i]))]\n    DBx_APIo_result_pdf.loc[i] \u003d [research_date, business[i], sorted(list(xo[i]))]\n    DBo_APIo_result_pdf.loc[i] \u003d [research_date, business[i], sorted(list(oo[i]))]\n\n\n# 6. 결과 df 저장\n# DBx_APIx_result_pdf.to_csv(f\u0027/api_data/integrity/{today}_DBx_APIx.csv\u0027, header\u003dTrue, index\u003dFalse)\nDBo_APIx_result_pdf.to_csv(f\u0027/api_data/integrity/{store_date}_DBo_APIx.csv\u0027, header\u003dTrue, index\u003dFalse)\nDBx_APIo_result_pdf.to_csv(f\u0027/api_data/integrity/{store_date}_DBx_APIo.csv\u0027, header\u003dTrue, index\u003dFalse)\nDBo_APIo_result_pdf.to_csv(f\u0027/api_data/integrity/{store_date}_DBo_APIo.csv\u0027, header\u003dTrue, index\u003dFalse)\n\n# print(DBx_APIx_result_pdf)\nprint(DBo_APIx_result_pdf)\nprint(DBx_APIo_result_pdf)\nprint(DBo_APIo_result_pdf)"
    }
  ]
}