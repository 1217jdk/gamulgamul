﻿{
  "metadata": {
    "name": "[Once]08_농산물대형마트_참가격온라인과대형마트_합치기_and",
    "kernelspec": {
      "language": "scala",
      "name": "spark2-scala"
    },
    "language_info": {
      "codemirror_mode": "text/x-scala",
      "file_extension": ".scala",
      "mimetype": "text/x-scala",
      "name": "scala",
      "pygments_lexer": "scala"
    }
  },
  "nbformat": 4,
  "nbformat_minor": 2,
  "cells": [
    {
      "cell_type": "markdown",
      "metadata": {},
      "source": "# 1. 현황\n+ 농산물\n    + 대형마트 : ~ 2022-09-29\n    + 온라인 : x\n+ 참가격\n    + 대형마트 : ~ 2022-09-30\n    + 온라인  : ~ 2022-09-30\n\n+ 목차\n    + Data Load\n    + **온라인 주류가격을 대형마트 주류가격으로 바꾸기** \n    + Data DB에 넣기"
    },
    {
      "cell_type": "markdown",
      "metadata": {},
      "source": "### (1) Data Load\n"
    },
    {
      "cell_type": "code",
      "execution_count": 2,
      "metadata": {
        "autoscroll": "auto"
      },
      "outputs": [],
      "source": "%pyspark\n# 1. 농산물\nimport pandas as pd\nnong_goods_price \u003d pd.read_csv(\u0027/nongsanmul_data/from20210907_to20220929_nongsanmul_daily_base.csv\u0027)\nnong_goods_price\n"
    },
    {
      "cell_type": "code",
      "execution_count": 3,
      "metadata": {
        "autoscroll": "auto"
      },
      "outputs": [],
      "source": "%pyspark\n# 2. 참가격 - 대형마트\nimport pandas as pd\ntrue_mart_goods_price \u003d pd.read_csv(\u0027/DB_data/goods_price_table_new.csv\u0027)\ntrue_mart_goods_price \u003d true_mart_goods_price[true_mart_goods_price[\u0027goods_id\u0027]\u003c10000]\ntrue_mart_goods_price.goods_id.unique()"
    },
    {
      "cell_type": "code",
      "execution_count": 4,
      "metadata": {
        "autoscroll": "auto"
      },
      "outputs": [],
      "source": "%pyspark\ntrue_mart_goods_price[true_mart_goods_price[\u0027goods_id\u0027]\u003d\u003d307]"
    },
    {
      "cell_type": "code",
      "execution_count": 5,
      "metadata": {
        "autoscroll": "auto"
      },
      "outputs": [],
      "source": "%pyspark\n\n# 3. 참가격 - 온라인\nimport pandas as pd\ntrue_online_goods_price \u003d pd.read_csv(\u0027/DB_data/goods_price_table_new_tprice.csv\u0027)\ntmp \u003d true_online_goods_price[true_online_goods_price[\u0027price\u0027].isnull()]\ntmp[tmp[\u0027research_date\u0027]\u003d\u003d\u00272022-07-30\u0027]\n\n\n\n\n\n"
    },
    {
      "cell_type": "markdown",
      "metadata": {},
      "source": "### (2) Alcohol 찾기"
    },
    {
      "cell_type": "code",
      "execution_count": 7,
      "metadata": {
        "autoscroll": "auto"
      },
      "outputs": [],
      "source": "%pyspark\ntmp \u003d true_online_goods_price[true_online_goods_price[\u0027price\u0027].isnull()]\ntmp[tmp[\u0027research_date\u0027]\u003d\u003d\u00272022-07-30\u0027]\nnan_goods_id \u003d list(tmp[tmp[\u0027research_date\u0027]\u003d\u003d\u00272022-07-30\u0027][\u0027goods_id\u0027])\nnan_goods_id"
    },
    {
      "cell_type": "code",
      "execution_count": 8,
      "metadata": {
        "autoscroll": "auto"
      },
      "outputs": [],
      "source": "%pyspark\ngoods \u003d pd.read_csv(\u0027/DB_data/20221001_goods_table.csv\u0027)\ngoods[goods[\u0027goods_id\u0027].isin(nan_goods_id)]\n"
    },
    {
      "cell_type": "code",
      "execution_count": 9,
      "metadata": {
        "autoscroll": "auto"
      },
      "outputs": [],
      "source": "%pyspark\nAlcohol \u003d true_mart_goods_price[true_mart_goods_price[\u0027goods_id\u0027].isin(nan_goods_id)]\nAlcohol[\u0027business\u0027] \u003d \u0027o\u0027\nAlcohol"
    },
    {
      "cell_type": "markdown",
      "metadata": {},
      "source": "### (3) Alcohol 가격 바꾸기"
    },
    {
      "cell_type": "code",
      "execution_count": 11,
      "metadata": {
        "autoscroll": "auto"
      },
      "outputs": [],
      "source": "%pyspark\n# 1. true_online_goods_price 에서 주류 row 버리기\nrowsToBeDeleted \u003d true_online_goods_price[true_online_goods_price[\u0027goods_id\u0027].isin(nan_goods_id)]\ntmp \u003d true_online_goods_price.drop(rowsToBeDeleted.index)\nsum(tmp[\u0027goods_id\u0027].isin(nan_goods_id))  # 삭제 잘되었는지 확인\n\n"
    },
    {
      "cell_type": "code",
      "execution_count": 12,
      "metadata": {
        "autoscroll": "auto"
      },
      "outputs": [],
      "source": "%pyspark\nimport pandas as pd\n# 2. true_online_goods_price에 Alcohol 병합하기\nmerged_true_online_goods_price \u003d pd.concat([tmp,Alcohol])\nmerged_true_online_goods_price \u003d merged_true_online_goods_price.reset_index(drop\u003dTrue)\nmerged_true_online_goods_price[merged_true_online_goods_price[\u0027goods_id\u0027].isin(nan_goods_id)]"
    },
    {
      "cell_type": "code",
      "execution_count": 13,
      "metadata": {
        "autoscroll": "auto"
      },
      "outputs": [],
      "source": "%MySQL\nSELECT * FROM goods"
    },
    {
      "cell_type": "code",
      "execution_count": 14,
      "metadata": {
        "autoscroll": "auto"
      },
      "outputs": [],
      "source": "%pyspark\n# 3가지 합치기\nimport pandas as pd\ngoods_price_except_onlineNongSanMul \u003d pd.concat([nong_goods_price,true_mart_goods_price,merged_true_online_goods_price])\ngoods_price_except_onlineNongSanMul"
    },
    {
      "cell_type": "markdown",
      "metadata": {},
      "source": "## [2] DB에 넣기"
    },
    {
      "cell_type": "markdown",
      "metadata": {},
      "source": "### (1) 한번에 넣기"
    },
    {
      "cell_type": "code",
      "execution_count": 17,
      "metadata": {
        "autoscroll": "auto"
      },
      "outputs": [],
      "source": "%pyspark\n# DB에 넣기\n\nfrom pyspark.sql.functions import col\n\nprop \u003d {\"user\": \"ji\", \"password\": \"cvgkbhs234r#8tdx\", \"driver\": \"com.mysql.cj.jdbc.Driver\"} \nurl \u003d \"jdbc:mysql://j7d108.p.ssafy.io:3306/gamulgamul_test3?useSSL\u003dfalse\u0026characterEncoding\u003dUTF-8\u0026useUnicode\u003dtrue\u0026allowPublicKeyRetrieval\u003dtrue\u0026serverTimezone\u003dAsia/Seoul\"\n\nnong_goods_price_sdf \u003d spark.createDataFrame(nong_goods_price)\ntrue_mart_goods_price_sdf \u003d spark.createDataFrame(true_mart_goods_price)\ntrue_online_goods_price_sdf \u003d spark.createDataFrame(true_online_goods_price)\n\ngoods_price_except_onlineNongSanMul_sdf \u003d spark.createDataFrame(goods_price_except_onlineNongSanMul)\n\n\ngoods_price_except_onlineNongSanMul_sdf.write.jdbc(\\\n    url\u003d url,\\\n    table \u003d \"goods_price\",\\\n    mode\u003d\"append\",\\\n    properties\u003dprop)"
    },
    {
      "cell_type": "code",
      "execution_count": 18,
      "metadata": {
        "autoscroll": "auto"
      },
      "outputs": [],
      "source": "%pyspark\n# local에 저장하기\n\ngoods_price_except_onlineNongSanMul.to_csv(\u0027/DB_data/20220929_or_20220930_tmp_goods_price.csv\u0027, header\u003dTrue, index\u003dFalse)\n"
    },
    {
      "cell_type": "markdown",
      "metadata": {},
      "source": "### (2) 따로 넣기"
    },
    {
      "cell_type": "code",
      "execution_count": 20,
      "metadata": {
        "autoscroll": "auto"
      },
      "outputs": [],
      "source": "%pyspark\n# nong_goods_price_sdf.write.jdbc(\\\n#     url\u003d url,\\\n#     table \u003d \"goods_price\",\\\n#     mode\u003d\"append\",\\\n    # properties\u003dprop)"
    },
    {
      "cell_type": "code",
      "execution_count": 21,
      "metadata": {
        "autoscroll": "auto"
      },
      "outputs": [],
      "source": "%pyspark\n# true_mart_goods_price_sdf.write.jdbc(\\\n#     url\u003d url,\\\n#     table \u003d \"goods_price\",\\\n#     mode\u003d\"append\",\\\n    # properties\u003dprop)"
    },
    {
      "cell_type": "code",
      "execution_count": 22,
      "metadata": {
        "autoscroll": "auto"
      },
      "outputs": [],
      "source": "%pyspark\n# merged_true_online_goods_price.write.jdbc(\\\n#     url\u003d url,\\\n#     table \u003d \"goods_price\",\\\n#     mode\u003d\"append\",\\\n#     properties\u003dprop)"
    },
    {
      "cell_type": "code",
      "execution_count": 23,
      "metadata": {
        "autoscroll": "auto"
      },
      "outputs": [],
      "source": "%MySQL\nselect * FROM goods_price\norder by goods_price_id asc"
    },
    {
      "cell_type": "raw",
      "metadata": {
        "format": "text/plain"
      },
      "source": "%MySQL\n"
    },
    {
      "cell_type": "raw",
      "metadata": {
        "format": "text/plain"
      },
      "source": "%MySQL\n"
    }
  ]
}