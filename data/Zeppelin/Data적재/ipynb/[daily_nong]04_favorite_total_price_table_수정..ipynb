﻿{
  "metadata": {
    "name": "[daily_nong]04_favorite_total_price_table_수정",
    "kernelspec": {
      "language": "scala",
      "name": "spark2-scala"
    },
    "language_info": {
      "codemirror_mode": "text/x-scala",
      "file_extension": ".scala",
      "mimetype": "text/x-scala",
      "name": "scala",
      "pygments_lexer": "scala"
    }
  },
  "nbformat": 4,
  "nbformat_minor": 2,
  "cells": [
    {
      "cell_type": "markdown",
      "metadata": {},
      "source": "# 1. 농산물 데이터, 저녁에 새로 받아오면, \n+ ~~DBo_APIx , DBo_APIo, DBx_APIo 가져와서, 수정하기~~\n+ ~~DB의 goods_price table 갱신하기~~\n+ ~~DB의 product_price table 갱신하기~~\n+ **DB의 favorite_total_price table 갱신하기**"
    },
    {
      "cell_type": "markdown",
      "metadata": {},
      "source": "## [4] DB의 favorite_total_price table 갱신하기\n+ 우선순위 낮음"
    },
    {
      "cell_type": "raw",
      "metadata": {
        "format": "text/plain"
      },
      "source": "%pyspark\n"
    },
    {
      "cell_type": "code",
      "execution_count": 3,
      "metadata": {
        "autoscroll": "auto"
      },
      "outputs": [],
      "source": "%MySQL\nselect * from product_price\nwhere product_id in ${product_id_tuple} and research_date \u003d\u0027${research_date}\u0027"
    }
  ]
}