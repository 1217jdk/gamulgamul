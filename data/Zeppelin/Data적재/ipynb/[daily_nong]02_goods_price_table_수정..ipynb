﻿{
  "metadata": {
    "name": "[daily_nong]02_goods_price_table_수정",
    "kernelspec": {
      "language": "scala",
      "name": "spark2-scala"
    },
    "language_info": {
      "codemirror_mode": "text/x-scala",
      "file_extension": ".scala",
      "mimetype": "text/x-scala",
      "name": "scala",
      "pygments_lexer": "scala"
    }
  },
  "nbformat": 4,
  "nbformat_minor": 2,
  "cells": [
    {
      "cell_type": "markdown",
      "metadata": {},
      "source": "# 1. 농산물 데이터, 저녁에 새로 받아오면, \n+ ~~DBo_APIx , DBo_APIo, DBx_APIo 가져와서, 수정하기~~\n+ **DB의 goods_price table 갱신하기**\n+ DB의 product_price table 갱신하기 \n+ DB의 favorite_total_price table 갱신하기"
    },
    {
      "cell_type": "markdown",
      "metadata": {},
      "source": "## [2] DB의 goods_price table 갱신하기 "
    },
    {
      "cell_type": "code",
      "execution_count": 2,
      "metadata": {
        "autoscroll": "auto"
      },
      "outputs": [],
      "source": "%pyspark\n\n# 2HGTXCVUK\n# paragraph_1664889296623_1087566984\n# http://3.36.106.26:8081/api/notebook/run/2HGTXCVUK/paragraph_1664889296623_1087566984\n\n\n# 1. 날짜 선정\ntoday \u003d ( datetime.datetime.now()  + datetime.timedelta(hours\u003d9) ).strftime(\"%Y-%m-%d\")\n\n\n# 2. 새로 가져온 Data 가져오기\n## 2-1 : csv 로드\nnong_goods_price_m_pdf \u003d pd.read_csv(f\u0027/api_data/nong_goods_price_m_{today}.csv\u0027)\n\n## 2-2 not null인 것 goods_id 가져오기\nnong_mart_goods_id_lst \u003d list(nong_goods_price_m_pdf[nong_goods_price_m_pdf[\u0027price\u0027].notnull()][\u0027goods_id\u0027])\nprint(nong_mart_goods_id_lst)\n\n\n## 3. DB에 갱신할 것 있으면 DB에서 갱신하기\nif len(nong_mart_goods_id_lst) !\u003d 0:\n    \n    ## 1. (1,)과 같은 형태 방지하기 위해서 길이가 1인경우 99999999999 더미데이터 추가\n    nong_mart_goods_id_tuple \u003d tuple(nong_mart_goods_id_lst) if len(nong_mart_goods_id_lst) \u003e\u003d2 else tuple(nong_mart_goods_id_lst+[999999999999])\n    print(str(nong_mart_goods_id_tuple))\n    \n    ## 2. 해당하는 값들 DB에서 가져와서, 삭제하기\n    import requests\n    url \u003d \"http://3.36.106.26:8081/api/notebook/run/2HGTXCVUK/paragraph_1664889490553_1789455825\"\n    \n    req \u003d requests.post(url, json\u003d{\"params\": {\"goods_id_lst\": str(nong_mart_goods_id_tuple) , \"research_date\": today } } )\n    import time\n    time.sleep(1)\n    \n    \n    # 3. goods_price DB에 새로 적재할 sdf 가져오기 : null 아닌 값이 1개이상 존재하는 상황\n    nong_goods_price_m_sdf \u003d spark.createDataFrame(nong_goods_price_m_pdf[nong_goods_price_m_pdf[\u0027price\u0027].notnull()])\n    \n    \n    # 4. goods_price DB에 새로 적재해주기\n    prop \u003d {\"user\": \"ji\", \"password\": mysql_password, \"driver\": \"com.mysql.cj.jdbc.Driver\"} \n    url \u003d \"jdbc:mysql://j7d108.p.ssafy.io:3306/gamulgamul_test3?useSSL\u003dfalse\u0026characterEncoding\u003dUTF-8\u0026useUnicode\u003dtrue\u0026allowPublicKeyRetrieval\u003dtrue\u0026serverTimezone\u003dAsia/Seoul\"\n\n    nong_goods_price_m_sdf.write.jdbc(url\u003d url, table \u003d \"goods_price\", mode\u003d\"append\", properties\u003dprop)\n    "
    },
    {
      "cell_type": "code",
      "execution_count": 3,
      "metadata": {
        "autoscroll": "auto"
      },
      "outputs": [],
      "source": "%MySQL\ndelete from goods_price\nwhere goods_id in ${goods_id_lst} and research_date \u003d\u0027${research_date}\u0027"
    },
    {
      "cell_type": "raw",
      "metadata": {
        "format": "text/plain"
      },
      "source": "%MySQL\n"
    }
  ]
}