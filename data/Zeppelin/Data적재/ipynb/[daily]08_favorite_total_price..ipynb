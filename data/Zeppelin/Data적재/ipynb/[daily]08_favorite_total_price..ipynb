﻿{
  "metadata": {
    "name": "[daily]08_favorite_total_price",
    "kernelspec": {
      "language": "scala",
      "name": "spark2-scala"
    },
    "language_info": {
      "codemirror_mode": "text/x-scala",
      "file_extension": ".scala",
      "mimetype": "text/x-scala",
      "name": "scala",
      "pygments_lexer": "scala"
    }
  },
  "nbformat": 4,
  "nbformat_minor": 2,
  "cells": [
    {
      "cell_type": "code",
      "execution_count": 0,
      "metadata": {
        "autoscroll": "auto"
      },
      "outputs": [],
      "source": "%spark.conf\n\nSPARK_HOME  /usr/local/spark\nPYSPARK_PYTHON /usr/bin/python3\nspark.pyspark.python  /usr/bin/python3\n\n# set driver memory to 8g\nspark.driver.memory 8g\n\n# set executor number to be 3\nspark.executor.instances  3\n\n# set executor memory 4g\nspark.executor.memory  2g\n\n# Any other spark properties can be set here. Here\u0027s avaliable spark configruation you can set. (http://spark.apache.org/docs/latest/configuration.html)"
    },
    {
      "cell_type": "markdown",
      "metadata": {},
      "source": "# 1. 즐겨찾기 총가격 계산\n+ 모든 유저의 오늘 날짜 총가격 계산\n+ 계산에 쓰이는 DB table\n    + 즐겨찾기 총가격 -\u003e favorite_total_price에 입력\n        + favorite_goods, goods_price       "
    },
    {
      "cell_type": "code",
      "execution_count": 2,
      "metadata": {
        "autoscroll": "auto"
      },
      "outputs": [],
      "source": "%pyspark\nimport requests\n \n# notebook 번호 2HEUW4FMB\n# paragraph  paragraph_1663754976707_2131716080\n# http://3.36.106.26:8081/api/notebook/run/2HEUW4FMB/paragraph_1663754976707_2131716080\n\ntoday \u003d ( datetime.datetime.now()  + datetime.timedelta(hours\u003d9) ).strftime(\"%Y-%m-%d\")\n\n\n\nurl \u003d \"jdbc:mysql://j7d108.p.ssafy.io:3306/gamulgamul_test3?useSSL\u003dfalse\u0026characterEncoding\u003dUTF-8\u0026useUnicode\u003dtrue\u0026allowPublicKeyRetrieval\u003dtrue\u0026serverTimezone\u003dAsia/Seoul\"\nprop \u003d {\"user\": \"ji\", \"password\": mysql_password, \"driver\": \"com.mysql.cj.jdbc.Driver\"} \n#-----------------------------------------------------------------------------------------------------------------------------------------------------#\n#                                               1. common\n#-----------------------------------------------------------------------------------------------------------------------------------------------------#\n\n# 1. favorite_goods table (columns : user_id, goods_id) 가져온 후, 각 user_id 마다 for loop으로 반복하기!\nfull_favorite_goods_sdf \u003d spark.read.format(\"jdbc\")\\\n    .option(\"url\", url) \\\n    .option(\"driver\", \"com.mysql.cj.jdbc.Driver\")\\\n    .option(\"query\", f\"select user_id, goods_id from favorite_goods\") \\\n    .option(\"user\", \"ji\")\\\n    .option(\"password\", mysql_password).load()\nfull_favorite_goods_sdf.show()\n\nuser_id_lst \u003d [x.user_id for x in full_favorite_goods_sdf.select(\u0027user_id\u0027).distinct().collect()]\nprint(\u0027-\u0027*100)\nprint(user_id_lst)\nprint(\u0027-\u0027*100)\n\n\n# 2. user_id 마다, 즐겨찾기 추가한 goods_id_tuple 구하기\nfor user_id in user_id_lst:\n    favorite_goods_sdf \u003d full_favorite_goods_sdf.filter(col(\u0027user_id\u0027)\u003d\u003duser_id)\n    favorite_goods_sdf.show()\n\n    goods_id_tuple \u003d tuple(favorite_goods_sdf.toPandas()[\u0027goods_id\u0027])\n    \n    print(\u0027goods_id_tuple : \u0027, goods_id_tuple)\n    \n\n    #-----------------------------------------------------------------------------------------------------------------------------------------------------#\n    #                                               3. favorite_total_price\n    #-----------------------------------------------------------------------------------------------------------------------------------------------------#\n    \n    # 3-2 : 즐겨찾기 가격   goods_id들 이용해서,   goods_price table (goods_id, price, research_date,  business) \n    if len(goods_id_tuple) \u003e\u003d2:\n        goods_price_sdf \u003d spark.read.format(\"jdbc\")\\\n            .option(\"url\", url) \\\n            .option(\"driver\", \"com.mysql.cj.jdbc.Driver\")\\\n            .option(\"query\", f\"select goods_id, unit_price, price, research_date, business from goods_price where goods_id in {goods_id_tuple} and research_date \u003d \u0027{today}\u0027\" ) \\\n            .option(\"user\", \"ji\")\\\n            .option(\"password\", mysql_password).load()\n            \n    \n    elif len(goods_id_tuple)\u003d\u003d1:\n        goods_price_sdf \u003d spark.read.format(\"jdbc\")\\\n            .option(\"url\", url) \\\n            .option(\"driver\", \"com.mysql.cj.jdbc.Driver\")\\\n            .option(\"query\", f\"select goods_id, unit_price, price, research_date, business from goods_price where goods_id \u003d {goods_id_tuple[0]} and research_date \u003d \u0027{today}\u0027\" ) \\\n            .option(\"user\", \"ji\")\\\n            .option(\"password\", mysql_password).load()    \n    \n    \n    # else: # 임시로 넣어두기. DB에서 데이터 있는 경우에만 요청 보내도록?\n    #     goods_price_sdf \u003d spark.read.format(\"jdbc\")\\\n    #         .option(\"url\", url) \\\n    #         .option(\"driver\", \"com.mysql.cj.jdbc.Driver\")\\\n    #         .option(\"query\", f\"select goods_id, unit_price, price, research_date, business from goods_price\") \\\n    #         .option(\"user\", \"ji\")\\\n    #         .option(\"password\", mysql_password).load()   \n        \n    goods_price_sdf.show()\n    \n    \n    \n    \n    \n    # 4-2 : 즐겨찾기 가격 goods_price_sdf (goods_id, unit_price, price, research_date, business  ) 에 groupBy 해서,  ( user_id, total_price, research_date, business ) 만들기\n    \n    favorite_total_price_sdf \u003d goods_price_sdf.groupBy(\u0027research_date\u0027,\u0027business\u0027).agg(sum(\u0027price\u0027).alias(\u0027total_price\u0027))\n    favorite_total_price_sdf \u003d favorite_total_price_sdf.withColumn(\u0027user_id\u0027,lit(user_id))\n    favorite_total_price_sdf \u003d favorite_total_price_sdf.select(\u0027user_id\u0027,\u0027total_price\u0027, \u0027research_date\u0027,\u0027business\u0027 )\n    favorite_total_price_sdf.show()\n    \n    print(\u0027-\u0027*1000)\n    \n    # 5. 최종 write\n    \n    favorite_total_price_sdf.write.jdbc(\\\n        url\u003d url,\\\n        table \u003d \"favorite_total_price\",\\\n        mode\u003d\"append\",\\\n        properties\u003dprop)\n    \n\n\n"
    }
  ]
}