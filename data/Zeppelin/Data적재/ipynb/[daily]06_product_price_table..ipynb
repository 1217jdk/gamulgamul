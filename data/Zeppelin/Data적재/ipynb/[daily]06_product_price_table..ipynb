﻿{
  "metadata": {
    "name": "[daily]06_product_price_table",
    "kernelspec": {
      "language": "scala",
      "name": "spark2-scala"
    },
    "language_info": {
      "codemirror_mode": "text/x-scala",
      "file_extension": ".scala",
      "mimetype": "text/x-scala",
      "name": "scala",
      "pygments_lexer": "scala"
    }
  },
  "nbformat": 4,
  "nbformat_minor": 2,
  "cells": [
    {
      "cell_type": "code",
      "execution_count": 0,
      "metadata": {
        "autoscroll": "auto"
      },
      "outputs": [],
      "source": "%spark.conf\n\nSPARK_HOME  /usr/local/spark\nPYSPARK_PYTHON /usr/bin/python3\nspark.pyspark.python  /usr/bin/python3\n\n# set driver memory to 8g\nspark.driver.memory 6g\n\n# set executor number to be 3\nspark.executor.instances  4\n\n# set executor memory 4g\nspark.executor.memory  2g"
    },
    {
      "cell_type": "markdown",
      "metadata": {},
      "source": "# 1. 설명\n+ 모든 것은 goods_price DB를 가져와서 진행\n+ 시작날짜와 끝 날짜를 지정할 수 있음\n+ column : date_type\u003d\u0027d\u0027 추가하기\n    +  goods_price    : (goods_price_id,)   goods_id, unit_price, price, research_date,            business \n    +  product_price  : (product_price_id,) goods_id, unit_price, price, research_date, date_type, business "
    },
    {
      "cell_type": "code",
      "execution_count": 2,
      "metadata": {
        "autoscroll": "auto"
      },
      "outputs": [],
      "source": "%pyspark\n# 2HG27A8KD\n# paragraph_1664245747441_340548848\n# http://3.36.106.26:8081/api/notebook/run/2HG27A8KD/paragraph_1664245747441_340548848\n\n\nfrom pyspark.sql.functions import col, lit, avg, round\n\n\n# 1. 시작날짜와 끝 날짜 정하기\nstart_day \u003d ( datetime.datetime.now()  + datetime.timedelta(hours\u003d9) ).strftime(\"%Y-%m-%d\")\nend_day \u003d ( datetime.datetime.now()  + datetime.timedelta(hours\u003d9) ).strftime(\"%Y-%m-%d\")\n\n\n# start_day \u003d z.textbox(\u0027start_day\u0027)\n# end_day \u003d z.textbox(\u0027end_day\u0027)\n\n\n# start_day \u003d \u00272022-10-05\u0027\n# end_day \u003d \u00272022-10-06\u0027\n\n\n\n# 2. DB 정보\nprop \u003d {\"user\": \"ji\", \"password\": mysql_password, \"driver\": \"com.mysql.cj.jdbc.Driver\"} \nurl \u003d \"jdbc:mysql://j7d108.p.ssafy.io:3306/gamulgamul_test3?useSSL\u003dfalse\u0026characterEncoding\u003dUTF-8\u0026useUnicode\u003dtrue\u0026allowPublicKeyRetrieval\u003dtrue\u0026serverTimezone\u003dAsia/Seoul\"\n\n# 3. goods_price table 가져오기\ngoods_price_sdf \u003d spark.read.format(\"jdbc\")\\\n    .option(\"url\", url ) \\\n    .option(\"driver\", \"com.mysql.cj.jdbc.Driver\")\\\n    .option(\"query\", f\"select goods_id, unit_price, price, research_date, business from goods_price where research_date \u003e\u003d \u0027{start_day}\u0027 and research_date\u003c\u003d\u0027{end_day}\u0027\") \\\n    .option(\"user\", \"ji\")\\\n    .option(\"password\", mysql_password).load()\n\ngoods_price_sdf.show()\n\n\n# 4. goodsId_productId.pickle 가져와서 product_id 넣어주기\nimport pickle\nwith open(\u0027/DB_data/20221001_goodsId_productId.pickle\u0027, \u0027rb\u0027) as fr:\n    goodsId_productId \u003d pickle.load(fr)\nprint(goodsId_productId)\n\ngoods_price_pdf \u003d goods_price_sdf.toPandas()\nproduct_id \u003d [ goodsId_productId[goods_price_pdf.loc[i,\u0027goods_id\u0027]] for i in range(len(goods_price_pdf))]\ngoods_price_pdf[\u0027product_id\u0027] \u003d product_id\n\ngoods_price_sdf \u003d spark.createDataFrame(goods_price_pdf)\n\n\n\n# 4. product_price 계산하기\nproduct_price_sdf \u003d goods_price_sdf.groupBy(\u0027product_id\u0027, \u0027research_date\u0027, \u0027business\u0027).agg(round(avg(col(\u0027price\u0027)), 2).alias(\u0027price\u0027) , round(avg(col(\u0027unit_price\u0027)), 2).alias(\u0027unit_price\u0027))\nproduct_price_sdf \u003d product_price_sdf.withColumn(\u0027date_type\u0027, lit(\u0027d\u0027))\nproduct_price_sdf.show(n\u003d1000)\nproduct_price_sdf \u003d product_price_sdf.select([ \u0027product_id\u0027, \u0027unit_price\u0027, \u0027price\u0027, \u0027research_date\u0027, \u0027date_type\u0027, \u0027business\u0027])\nproduct_price_sdf.show()\n\n\n# 5. DB에 넣기\nproduct_price_sdf.write.jdbc(\\\n    url\u003d url,\\\n    table \u003d \"product_price\",\\\n    mode\u003d\"append\",\\\n    properties\u003dprop)\n\n\n  \n\n"
    },
    {
      "cell_type": "code",
      "execution_count": 3,
      "metadata": {
        "autoscroll": "auto"
      },
      "outputs": [],
      "source": "%MySQL\nSELECT * from product_price\n"
    },
    {
      "cell_type": "raw",
      "metadata": {
        "format": "text/plain"
      },
      "source": "%MySQL\n"
    }
  ]
}