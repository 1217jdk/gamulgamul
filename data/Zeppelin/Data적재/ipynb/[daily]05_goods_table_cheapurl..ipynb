﻿{
  "metadata": {
    "name": "[daily]05_goods_table_cheapurl",
    "kernelspec": {
      "language": "scala",
      "name": "spark2-scala"
    },
    "language_info": {
      "codemirror_mode": "text/x-scala",
      "file_extension": ".scala",
      "mimetype": "text/x-scala",
      "name": "scala",
      "pygments_lexer": "scala"
    }
  },
  "nbformat": 4,
  "nbformat_minor": 2,
  "cells": [
    {
      "cell_type": "code",
      "execution_count": 0,
      "metadata": {
        "autoscroll": "auto"
      },
      "outputs": [],
      "source": "%spark.conf\n\nSPARK_HOME  /usr/local/spark\nPYSPARK_PYTHON /usr/bin/python3\nspark.pyspark.python  /usr/bin/python3\n\n# set driver memory to 8g\nspark.driver.memory 8g\n\n# set executor number to be 3\nspark.executor.instances  3\n\n# set executor memory 4g\nspark.executor.memory  2g\n\n# Any other spark properties can be set here. Here\u0027s avaliable spark configruation you can set. (http://spark.apache.org/docs/latest/configuration.html)"
    },
    {
      "cell_type": "code",
      "execution_count": 1,
      "metadata": {
        "autoscroll": "auto"
      },
      "outputs": [],
      "source": "%pyspark\ng_sdf \u003d spark.read.format(\"jdbc\")\\\n    .option(\"url\", \"jdbc:mysql://j7d108.p.ssafy.io:3306/gamulgamul_test3?useSSL\u003dfalse\u0026characterEncoding\u003dUTF-8\u0026useUnicode\u003dtrue\u0026allowPublicKeyRetrieval\u003dtrue\u0026serverTimezone\u003dAsia/Seoul\") \\\n    .option(\"driver\", \"com.mysql.cj.jdbc.Driver\")\\\n    .option(\"query\", \"select goods_id, name from goods\") \\\n    .option(\"user\", \"ji\")\\\n    .option(\"password\", mysql_password).load()\n    \ng_sdf.show()\ng_name \u003d g_sdf.toPandas()[\u0027name\u0027]\ng_name"
    },
    {
      "cell_type": "code",
      "execution_count": 2,
      "metadata": {
        "autoscroll": "auto"
      },
      "outputs": [],
      "source": "%pyspark\nimport pandas as pd\nimport numpy as np\nimport datetime\nfrom tqdm import tqdm\nimport os\nimport sys\nimport urllib.request\nimport json, pprint\nimport pickle\n\n### api 키\n# client_id \u003d \"\"\n# client_secret \u003d \"\"\n\n\ndef get_goods_cheap_url(goods_name):\n  encText \u003d urllib.parse.quote(goods_name)\n  url \u003d \"https://openapi.naver.com/v1/search/shop.json?exclude\u003dused:rental:cbshop\u0026start\u003d1\u0026display\u003d30\u0026sort\u003dsim\u0026query\u003d\" + encText \n  request \u003d urllib.request.Request(url)\n  request.add_header(\"X-Naver-Client-Id\",client_id)\n  request.add_header(\"X-Naver-Client-Secret\",client_secret)\n  response \u003d urllib.request.urlopen(request)\n  rescode \u003d response.getcode()\n\n  if(rescode\u003d\u003d200):\n    response_body \u003d response.read()\n    res \u003d json.loads(response_body.decode(\u0027utf-8\u0027))\n  else:\n    print(\"Error Code:\" + rescode)\n    return\n    \n  id \u003d goodsId[goods_name]\n  if not res[\u0027items\u0027]:\n    return id, None\n  cheap \u003d sorted(res[\u0027items\u0027], key\u003d lambda x: int(x[\u0027lprice\u0027]))[0]\n  return id, cheap.get(\u0027link\u0027)"
    },
    {
      "cell_type": "code",
      "execution_count": 3,
      "metadata": {
        "autoscroll": "auto"
      },
      "outputs": [],
      "source": "%pyspark\nfor name in g_name:\n    print(name)"
    },
    {
      "cell_type": "code",
      "execution_count": 4,
      "metadata": {
        "autoscroll": "auto"
      },
      "outputs": [],
      "source": "%pyspark\nwith open(\u0027/DB_data/goodsName_goodsId.pickle\u0027, \u0027rb\u0027) as f:\n    goodsId \u003d pickle.load(f)\ngoodsId"
    },
    {
      "cell_type": "code",
      "execution_count": 5,
      "metadata": {
        "autoscroll": "auto"
      },
      "outputs": [],
      "source": "%MySQL\nselect * from goods"
    },
    {
      "cell_type": "code",
      "execution_count": 6,
      "metadata": {
        "autoscroll": "auto"
      },
      "outputs": [],
      "source": "%pyspark\nimport requests\nurl \u003d \"http://3.36.106.26:8081/api/notebook/run/2HD9NBXQX/paragraph_1664176216600_9409959\"\n\nfor name in g_name:\n    goods_id, cheap_url \u003d get_goods_cheap_url(name)\n    req \u003d requests.post(url, json\u003d{\"params\": {\"cheap_url\": cheap_url, \"goods_id\": str(goods_id)}})\n    # if req.status !\u003d \u0027OK\u0027:\n    #     print(req.body.msg)\n    "
    },
    {
      "cell_type": "code",
      "execution_count": 7,
      "metadata": {
        "autoscroll": "auto"
      },
      "outputs": [],
      "source": "%MySQL\nUPDATE goods SET cheap_url \u003d \u0027${cheap_url}\u0027 WHERE goods_id \u003d CAST(\u0027${goods_id}\u0027 AS UNSIGNED);"
    },
    {
      "cell_type": "code",
      "execution_count": 8,
      "metadata": {
        "autoscroll": "auto"
      },
      "outputs": [],
      "source": "%pyspark\nstrange_goods_id \u003d [26, 165, 192, 200, 231, 252, 253, 277, 278, 279, 280, 281, 282, 292, 293, 294, 315]\n\nurl \u003d \"http://3.36.106.26:8081/api/notebook/run/2HD9NBXQX/paragraph_1664176216600_9409959\"\n\nfor goods_id in strange_goods_id:\n    req \u003d requests.post(url, json\u003d{\"params\": {\"cheap_url\": None, \"goods_id\": str(goods_id)}})\n    "
    },
    {
      "cell_type": "code",
      "execution_count": 9,
      "metadata": {
        "autoscroll": "auto"
      },
      "outputs": [],
      "source": "%MySQL\n-- 검색 결과 없는 것들 이미지 바꾸기\nUPDATE goods SET img\u003d\"https://j7d108.p.ssafy.io/resource/logo.png\" WHERE goods_id IN (26, 165, 192, 200, 231, 252, 253, 277, 278, 279, 280, 281, 282, 292, 293, 294, 315)"
    },
    {
      "cell_type": "markdown",
      "metadata": {},
      "source": "# 자동화 실행"
    },
    {
      "cell_type": "markdown",
      "metadata": {},
      "source": "## 221001 new update\n+ 자동화하는 것"
    },
    {
      "cell_type": "code",
      "execution_count": 12,
      "metadata": {
        "autoscroll": "auto"
      },
      "outputs": [],
      "source": "%pyspark\n# 2HD9NBXQX\n# paragraph_1664179874437_1108003918\n# http://3.36.106.26:8081/api/notebook/run/2HD9NBXQX/paragraph_1664179874437_1108003918\n\nimport pandas as pd\nimport numpy as np\nimport datetime\nfrom tqdm import tqdm\nimport os\nimport sys\nimport urllib.request\nimport json, pprint\nimport pickle\n\n# # goodsName_goodsId pickle load\n# with open(\u0027/DB_data/goodsName_goodsId.pickle\u0027, \u0027rb\u0027) as f:\n#     goodsId \u003d pickle.load(f)\n\n# # goodsId_productId pickle load\n# with open(\u0027/DB_data/goodsId_productId.pickle\u0027, \u0027rb\u0027) as f:\n#     gpId \u003d pickle.load(f)\n\n\n# select goods_id, name from goods\ng_sdf \u003d spark.read.format(\"jdbc\")\\\n    .option(\"url\", \"jdbc:mysql://j7d108.p.ssafy.io:3306/gamulgamul_test3?useSSL\u003dfalse\u0026characterEncoding\u003dUTF-8\u0026useUnicode\u003dtrue\u0026allowPublicKeyRetrieval\u003dtrue\u0026serverTimezone\u003dAsia/Seoul\") \\\n    .option(\"driver\", \"com.mysql.cj.jdbc.Driver\")\\\n    .option(\"query\", \"select goods_id, name from goods\") \\\n    .option(\"user\", \"ji\")\\\n    .option(\"password\", mysql_password).load()\n\ngoods_search_option \u003d pd.read_csv(\u0027/DB_data/20221002_goods_table_search.csv\u0027)\n\n\n### api 키\n# client_id \u003d \"\"\n# client_secret \u003d \"\"\n\n\n# get Naver API cheap_url by goods_name function\ndef get_goods_cheap_url(goods_id):\n    if goods_id \u003c 20000:\n        row \u003d goods_search_option.loc[goods_search_option[\u0027goods_id\u0027]\u003d\u003dgoods_id]\n        if goods_id in [49, 53, 231, 232, 347, 363, 406]:\n            search_name \u003d goods_table.loc[goods_table[\u0027goods_id\u0027]\u003d\u003dgoods_id][\u0027name\u0027].values[0]\n        else:\n            search_name \u003d row[\u0027search_name\u0027].values[0]\n            if search_name \u003d\u003d \u0027주류\u0027:\n                return None\n    else:\n        search_name \u003d goods_table.loc[goods_table[\u0027goods_id\u0027]\u003d\u003dgoods_id][\u0027name\u0027].values[0]\n    \n    encText \u003d urllib.parse.quote(search_name)\n    url \u003d \"https://openapi.naver.com/v1/search/shop.json?exclude\u003dused:rental:cbshop\u0026start\u003d1\u0026display\u003d20\u0026sort\u003dsim\u0026query\u003d\" + encText \n    request \u003d urllib.request.Request(url)\n    request.add_header(\"X-Naver-Client-Id\",client_id)\n    request.add_header(\"X-Naver-Client-Secret\",client_secret)\n    response \u003d urllib.request.urlopen(request)\n    rescode \u003d response.getcode()\n\n    if(rescode\u003d\u003d200):\n        response_body \u003d response.read()\n        res \u003d json.loads(response_body.decode(\u0027utf-8\u0027))\n    else:\n        print(\"Error Code:\" + rescode)\n        return\n    \n    if not res[\u0027items\u0027]:\n        return None\n    cheap \u003d sorted(res[\u0027items\u0027], key\u003d lambda x: int(x[\u0027lprice\u0027]))[0]\n    return cheap.get(\u0027link\u0027)\n\n# automatical run paragraph to update sql goods table cheap_url column\nimport requests\nurl \u003d \"http://3.36.106.26:8081/api/notebook/run/2HD9NBXQX/paragraph_1664176216600_9409959\"\n\nfor id in g_sdf.toPandas()[\u0027goods_id\u0027]:\n    cheap_url \u003d get_goods_cheap_url(id)\n    req \u003d requests.post(url, json\u003d{\"params\": {\"cheap_url\": cheap_url, \"goods_id\": str(id)}})\n\n# missing values update sql goods table cheap_url column as None \n# strange_goods_id \u003d [26, 165, 192, 200, 231, 252, 253, 277, 278, 279, 280, 281, 282, 292, 293, 294, 315]\n# strange_goods_id \u003d [254, 255, 256, 257, 258, 259, 269, 270, 271, 292, 350, 351, 352, 353, 354, 355, 361]\n# for goods_id in strange_goods_id:\n#     req \u003d requests.post(url, json\u003d{\"params\": {\"cheap_url\": None, \"goods_id\": str(goods_id)}})"
    },
    {
      "cell_type": "code",
      "execution_count": 13,
      "metadata": {
        "autoscroll": "auto"
      },
      "outputs": [],
      "source": "%pyspark\nrequests.post(\"http://3.36.106.26:8081/api/notebook/run/2HD9NBXQX/paragraph_1664179874437_1108003918\")"
    },
    {
      "cell_type": "code",
      "execution_count": 14,
      "metadata": {
        "autoscroll": "auto"
      },
      "outputs": [],
      "source": "%MySQL\nUPDATE goods SET product_id\u003d37 WHERE goods_id\u003d94"
    },
    {
      "cell_type": "code",
      "execution_count": 15,
      "metadata": {
        "autoscroll": "auto"
      },
      "outputs": [],
      "source": "%MySQL\nselect * from goods"
    },
    {
      "cell_type": "raw",
      "metadata": {
        "format": "text/plain"
      },
      "source": "%MySQL\n"
    }
  ]
}