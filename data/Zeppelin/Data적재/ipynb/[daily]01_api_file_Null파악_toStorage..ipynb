﻿{
  "metadata": {
    "name": "[daily]01_api_file_Null파악_toStorage",
    "kernelspec": {
      "language": "scala",
      "name": "spark2-scala"
    },
    "language_info": {
      "codemirror_mode": "text/x-scala",
      "file_extension": ".scala",
      "mimetype": "text/x-scala",
      "name": "scala",
      "pygments_lexer": "scala"
    }
  },
  "nbformat": 4,
  "nbformat_minor": 2,
  "cells": [
    {
      "cell_type": "markdown",
      "metadata": {},
      "source": " # 1. automation\u0026KAMIS API으로 가져온 것 DB에 넣기 전, 전처리\n+ 처음 DB에 넣는 경우,  2021년 09월07일부터 ~ 측정일까지 채워넣어서, DB에 넣기\n+ Null price는 어제 데이터로 처리\n+ Null price 목록 따로 파일로 저장해서 기록하기\n\n"
    },
    {
      "cell_type": "code",
      "execution_count": 1,
      "metadata": {
        "autoscroll": "auto"
      },
      "outputs": [],
      "source": "%spark.conf\n\nSPARK_HOME  /usr/local/spark\nPYSPARK_PYTHON /usr/bin/python3\nspark.pyspark.python  /usr/bin/python3\n\n# set driver memory to 8g\nspark.driver.memory 8g\n\n# set executor number to be 3\nspark.executor.instances  3\n\n# set executor memory 4g\nspark.executor.memory  2g\n"
    },
    {
      "cell_type": "markdown",
      "metadata": {},
      "source": "## [1] 처음 DB에 넣는 데이터인지 확인(전체 goods_id에 대해서 진행)"
    },
    {
      "cell_type": "markdown",
      "metadata": {},
      "source": "### (1) goods_id 현황 파악\n\n- DB에는 있고, API(Naver, kamis)에는 없고\n- DB에는 없고, API(Naver, kamis)에는 있고\n- DB에 있고, API(Naver, kamis)에 있고\n"
    },
    {
      "cell_type": "code",
      "execution_count": 4,
      "metadata": {
        "autoscroll": "auto"
      },
      "outputs": [],
      "source": "%pyspark\n\n# 2HDBP6HA6\n# paragraph_1664257750778_1075879161\n# post : http://3.36.106.26:8081/api/notebook/run/2HDBP6HA6/paragraph_1664257750778_1075879161\n\n\nimport pandas as pd\nfrom pyspark.sql.functions import col\nimport datetime\n\n\n# 1. 날짜 설정\ntoday \u003d datetime.datetime.now().strftime(\u0027%Y-%m-%d\u0027)\n# today \u003d \u00272022-10-03\u0027                   # 임시\n\n\n# 2. DB 정보 및 Load\nurl \u003d \"jdbc:mysql://j7d108.p.ssafy.io:3306/gamulgamul_test3?useSSL\u003dfalse\u0026characterEncoding\u003dUTF-8\u0026useUnicode\u003dtrue\u0026allowPublicKeyRetrieval\u003dtrue\u0026serverTimezone\u003dAsia/Seoul\"\n\n## 2-1 goods id\ngoods_id_sdf \u003d spark.read.format(\"jdbc\")\\\n    .option(\"url\", url) \\\n    .option(\"driver\", \"com.mysql.cj.jdbc.Driver\")\\\n    .option(\"query\", \"select goods_id from goods\") \\\n    .option(\"user\", \"ji\")\\\n    .option(\"password\", mysql_password).load()\n\ngoods_id_pdf \u003d goods_id_sdf.toPandas()\ngoods_id_set \u003d set(goods_id_pdf[\u0027goods_id\u0027])\nprint(f\u0027DB 에 goods_id 개수 : {len(goods_id_set)}\u0027)\n\n\n\n## 2-2 goods_price\ngoods_price_sdf \u003d spark.read.format(\"jdbc\")\\\n    .option(\"url\", url) \\\n    .option(\"driver\", \"com.mysql.cj.jdbc.Driver\")\\\n    .option(\"query\", \"select goods_id, unit_price, price, research_date, business from goods_price\") \\\n    .option(\"user\", \"ji\")\\\n    .option(\"password\", mysql_password).load()\n    \n## db Data를 pandas로 바꾸기\ngoods_price_mart_sdf \u003d goods_price_sdf.filter( col(\u0027business\u0027)\u003d\u003d\u0027m\u0027 )\ngoods_price_mart_pdf \u003d goods_price_mart_sdf.toPandas()\ngoods_price_online_sdf \u003d goods_price_sdf.filter( col(\u0027business\u0027)\u003d\u003d\u0027o\u0027 )\ngoods_price_online_pdf \u003d goods_price_online_sdf.toPandas()\n\n\n## 기존 DB에 있는 goods_id들\nDB_goods_id_mart \u003d set(goods_price_mart_pdf[\u0027goods_id\u0027].unique())\nDB_goods_id_online \u003d set(goods_price_online_pdf[\u0027goods_id\u0027].unique())\nprint(f\u0027DB mart에 goods_id 개수 : {len(DB_goods_id_mart)}\u0027)\nprint(f\u0027DB online 에 goods_id 개수 : {len(DB_goods_id_online)}\u0027)\n\n\n\n\n# 3. 추가할 csv Load# 2. DB 정보 및 Load\ntp_goods_price_m_pdf \u003d pd.read_csv(f\u0027/api_data/tp_goods_price_m_{today}.csv\u0027)\nnong_goods_price_m_pdf \u003d pd.read_csv(f\u0027/api_data/nong_goods_price_m_{today}.csv\u0027)\n\ngoods_price_m_pdf \u003d pd.concat([tp_goods_price_m_pdf,nong_goods_price_m_pdf])\ngoods_price_o_pdf \u003d pd.read_csv(f\u0027/api_data/goods_price_o_{today}.csv\u0027)\n\nmart_goods_id_set \u003d set(goods_price_m_pdf[goods_price_m_pdf[\u0027price\u0027].notnull()][\u0027goods_id\u0027])\nonline_goods_id_set \u003d set(goods_price_o_pdf[goods_price_o_pdf[\u0027price\u0027].notnull()][\u0027goods_id\u0027])\nprint(f\u0027 api  mart 에 goods_id 개수 : {len(goods_price_m_pdf)}\u0027)\nprint(f\u0027 api online 에 goods_id 개수 : {len(online_goods_id_set)}\u0027)\n\n\n\n# 5.  현재 NULL인 goods_id 찾기\n## 5-1 DB에 없고,  api에도 없는 goods_id\n# no_mart_goods_id   \u003d goods_id_set - mart_goods_id_set\n# no_online_goods_id \u003d goods_id_set - online_goods_id_set\n# print(f\u0027[m] DB에도 없고, 새로 가져온 데이터에도 없는 goods_id 개수 : {len(no_mart_goods_id)}\u0027)\n# # print(f\u0027[nong_m] DB에도 없고, 새로 가져온 데이터에도 없는 goods_id 개수 : {len(no_nong_mart_goods_id)}\u0027)\n# print(f\u0027[o] DB에도 없고, 새로 가져온 데이터에도 없는 goods_id 개수 : {len(no_online_goods_id)}\u0027)\n# print(\u0027-\u0027*100)\n\n## 5-2 DB에 있고,  api에는 없는 goods_id\nonlyDB_mart_goods_id   \u003d DB_goods_id_mart - mart_goods_id_set\nonlyDB_online_goods_id \u003d DB_goods_id_online - online_goods_id_set\nprint(f\u0027[m] DB에는 있고, 새로 가져온 데이터에 없는 goods_id 개수 : {len(onlyDB_mart_goods_id)}\u0027)\nprint(f\u0027[o] DB에는 있고, 새로 가져온 데이터에 없는 goods_id 개수 : {len(onlyDB_online_goods_id)}\u0027)\nprint(\u0027-\u0027*100)\n\n# 6. DB에 없고,  api에는 있는 goods_id 찾기\nmart_only_goods_id   \u003d mart_goods_id_set - DB_goods_id_mart\nonline_only_goods_id \u003d online_goods_id_set - DB_goods_id_online\nprint(f\u0027[m] DB에 없고, 새로 가져온 데이터에는 있는 goods_id 개수 : {len(mart_only_goods_id)}\u0027)\nprint(f\u0027[o] DB에 없고, 새로 가져온 데이터에는 있는 goods_id 개수 : {len(online_only_goods_id)}\u0027)\nprint(\u0027-\u0027*100)\n\n\n# 7. DB에 있고,  api에도 있는 goods_id 찾기\nboth_mart_goods_id \u003d mart_goods_id_set.intersection(DB_goods_id_mart)\nboth_online_goods_id \u003d online_goods_id_set.intersection(DB_goods_id_online)\nprint(f\u0027[m] DB에 있고, 새로 가져온 데이터에도 있는 goods_id 개수 : {len(both_mart_goods_id)}\u0027)\nprint(f\u0027[o] DB에 있고, 새로 가져온 데이터에도 있는 goods_id 개수 : {len(both_online_goods_id)}\u0027)\nprint(\u0027-\u0027*100)\n\n\n\n\n# 8. 결과 df 생성\n# DBx_APIx_result_pdf \u003d pd.DataFrame(columns\u003d[\u0027research_date\u0027, \u0027business\u0027,\u0027goods_id_lst\u0027])\nDBo_APIx_result_pdf \u003d pd.DataFrame(columns\u003d[\u0027research_date\u0027, \u0027business\u0027,\u0027goods_id_lst\u0027])\nDBx_APIo_result_pdf \u003d pd.DataFrame(columns\u003d[\u0027research_date\u0027, \u0027business\u0027,\u0027goods_id_lst\u0027])\nDBo_APIo_result_pdf \u003d pd.DataFrame(columns\u003d[\u0027research_date\u0027, \u0027business\u0027,\u0027goods_id_lst\u0027])\n\n\nlengths \u003d [0,1,2]\n\nbusiness \u003d [\u0027m\u0027,\u0027o\u0027]\ngoods_ids \u003d []\n\n# xx\u003d[\n# no_mart_goods_id,  \n# no_online_goods_id\n# ]\n\nox\u003d[\nonlyDB_mart_goods_id, \nonlyDB_online_goods_id\n]\n\nxo\u003d[\nmart_only_goods_id, \nonline_only_goods_id\n]\n\noo\u003d[\nboth_mart_goods_id, \nboth_online_goods_id\n]\n\nfor i in range(2):\n    # DBx_APIx_result_pdf.loc[i] \u003d [today, business[i], sorted(list(xx[i]))]\n    DBo_APIx_result_pdf.loc[i] \u003d [today, business[i], sorted(list(ox[i]))]\n    DBx_APIo_result_pdf.loc[i] \u003d [today, business[i], sorted(list(xo[i]))]\n    DBo_APIo_result_pdf.loc[i] \u003d [today, business[i], sorted(list(oo[i]))]\n\n# DBx_APIx_result_pdf.to_csv(f\u0027/api_data/integrity/{today}_DBx_APIx.csv\u0027, header\u003dTrue, index\u003dFalse)\nDBo_APIx_result_pdf.to_csv(f\u0027/api_data/integrity/{today}_DBo_APIx.csv\u0027, header\u003dTrue, index\u003dFalse)\nDBx_APIo_result_pdf.to_csv(f\u0027/api_data/integrity/{today}_DBx_APIo.csv\u0027, header\u003dTrue, index\u003dFalse)\nDBo_APIo_result_pdf.to_csv(f\u0027/api_data/integrity/{today}_DBo_APIo.csv\u0027, header\u003dTrue, index\u003dFalse)\n\n# print(DBx_APIx_result_pdf)\nprint(DBo_APIx_result_pdf)\nprint(DBx_APIo_result_pdf)\nprint(DBo_APIo_result_pdf)"
    },
    {
      "cell_type": "markdown",
      "metadata": {},
      "source": "## [2] 농산물만 진행하기"
    },
    {
      "cell_type": "markdown",
      "metadata": {},
      "source": "## [2] DB에 없고, API(Naver, kamis)에 있는 데이터, DB에 넣기\n"
    },
    {
      "cell_type": "markdown",
      "metadata": {},
      "source": "### (1) 일데이터 생성 함수 정의"
    },
    {
      "cell_type": "code",
      "execution_count": 8,
      "metadata": {
        "autoscroll": "auto"
      },
      "outputs": [],
      "source": "%pyspark\n# 함수 정의\n\nimport datetime\nimport numpy as np\nimport pandas as pd\n\n# row 형식으로 된, 일데이터 주기가 아닌 데이터를, 일데이터 형식으로 바꾸기\ndef inserting_date(start_date, end_date, input_df, business): # Pandas DF를 이용\n    print(\u0027debug1\u0027)\n    \n    #---------------------------------------------------------------------------------------------------------------------------------#\n    #                 1. 초기작업 : 결과 df 생성, 초기값들 설정\n    #---------------------------------------------------------------------------------------------------------------------------------#\n\n    \n    # 초기 설정 값\n    start_goods_id \u003d min((input_df[\u0027goods_id\u0027]))\n    # print(\u0027d1\u0027)\n    end_goods_id \u003d max((input_df[\u0027goods_id\u0027]))\n    # print(\u0027d2\u0027)\n    cur_goods_id \u003d start_goods_id - 1\n    # print(\u0027d3\u0027)\n    cur_research_date \u003d start_date\n    # print(\u0027debug2\u0027)\n    \n    \n    # goods_id, research_date 기준으로 sorting 시키기\n    input_df \u003d input_df.reset_index(drop\u003dTrue)\n    input_df \u003d input_df.sort_values([\u0027goods_id\u0027,\u0027research_date\u0027])\n    # 추후에 삭제할 행\n    input_df.loc[len(input_df)] \u003d [end_goods_id+1, 0, 0 ,start_date.strftime(\"%Y-%m-%d\"), business]\n    print(\u0027debug3\u0027)\n    \n    # result\n    result_df \u003d pd.DataFrame(columns\u003dinput_df.columns)\n    inserting_length \u003d 0\n    \n    \n    \n    input_df_length \u003d 0\n    # input_df의 끝까지 가지 않은 경우, 계속하기\n    ## 1. goods_id 가 달라지는 경우, research_date가 일치하면, input_df_length를 1 늘리기\n    while input_df_length \u003c len(input_df): # dummy row까지 쭉 진행,\n    \n        next_goods_id, next_unit_price, next_price, next_research_date, next_business \u003d input_df.loc[input_df_length]   # input_df의 다음(목표) row\n        # inserting_research_date \u003d cur_research_date                                                    # input_df의 현재 row\n    \n        \n        # goods_id가 같은 경우\n        if next_goods_id \u003d\u003d cur_goods_id:\n            ## input_df의 next row에 도달한 경우, 도달한 값 넣어주기\n    \n    \n\n            # print(\u0027debug 3\u0027)\n            ## 현재 inserting 날짜가, next_research_date에 도달하기 전까지 , 계속 row 삽입하기\n            while next_research_date !\u003d inserting_research_date.strftime(\"%Y-%m-%d\"):\n                # print(inserting_research_date.strftime(\"%Y-%m-%d\"), \u0027--------------------\u0027)\n                result_df.loc[inserting_length] \u003d cur_goods_id, cur_unit_price, cur_price, inserting_research_date.strftime(\"%Y-%m-%d\"),  cur_business\n                \n                \n                cur_research_date \u003d inserting_research_date                        # cur_research_date 업데이트\n                \n\n                inserting_research_date +\u003d  datetime.timedelta(days\u003d1) # inserting할 날짜 늘리기\n                inserting_length +\u003d 1   # result_df 길이 추가\n                \n            cur_goods_id \u003d next_goods_id                                       # cur_goods_id 업데이트\n            cur_unit_price \u003d next_unit_price\n            cur_price \u003d next_price                                             # cur_price 업데이트\n            cur_business \u003d next_business                                       # cur_business 업데이트\n            input_df_length +\u003d 1\n                \n    \n           \n    \n    \n        # 새로운 goods_id를 넣는 경우, 새로 진행\n        elif next_goods_id !\u003d cur_goods_id:\n            print(cur_goods_id)\n            # print(result_df)\n            \n            ## end_date 까지 row 채워주기\n            if cur_goods_id !\u003d start_goods_id - 1:  # 처음 시작하는 경우가 아니라면,\n                while end_date + datetime.timedelta(days\u003d1) \u003e inserting_research_date:\n                    result_df.loc[inserting_length] \u003d cur_goods_id, cur_unit_price,cur_price, inserting_research_date.strftime(\"%Y-%m-%d\"),  cur_business\n                    inserting_research_date +\u003d  datetime.timedelta(days\u003d1) # inserting할 날짜 늘리기\n                    inserting_length +\u003d 1   # result_df 길이 추가\n            \n            ## input_df의 마지막까지 진행됐다면 while문 break해서 끝내기\n            if input_df_length \u003d\u003d len(input_df) - 1:\n                print(\u0027here\u0027)\n                break\n            \n            ## inserting_research_date 초기화\n            inserting_research_date \u003d start_date\n            \n            ## 만약 첫 row가 start_date일이 아니면, 채워주기\n            inserting_unit_price \u003d next_unit_price\n            inserting_price \u003d next_price  # next_price의 가격을 앞에 채워주기\n            ### 다음 row의 날짜에 도달하기 전까지 계속 추가해 주기\n            while next_research_date !\u003d inserting_research_date.strftime(\"%Y-%m-%d\"):\n                result_df.loc[inserting_length] \u003d next_goods_id, next_unit_price, inserting_price, inserting_research_date.strftime(\"%Y-%m-%d\"), next_business\n                # print(inserting_research_date.strftime(\"%Y-%m-%d\"),\u0027\u003d\u003d\u003d\u003d\u003d\u003d\u003d\u003d\u003d\u003d\u003d\u003d\u003d\u003d\u003d\u003d\u003d\u003d\u003d\u003d\u003d\u003d\u003d\u003d\u003d\u003d\u003d\u003d\u003d\u003d\u003d\u003d\u003d\u003d\u003d\u003d\u003d\u003d\u003d\u003d\u003d\u0027)\n                \n                cur_research_date \u003d inserting_research_date                        # cur_research_date 업데이트\n                \n                \n                inserting_research_date +\u003d  datetime.timedelta(days\u003d1) # inserting할 날짜 늘리기\n                inserting_length +\u003d 1   # result_df 길이 추가\n            \n            input_df_length +\u003d 1    # input_df 길이 추가\n            cur_goods_id \u003d next_goods_id                                       # cur_goods_id 업데이트\n            cur_unit_price \u003d next_unit_price\n            cur_price \u003d next_price                                             # cur_price 업데이트\n            \n            cur_business \u003d next_business                                       # cur_business 업데이트\n            \n    return result_df\n\n"
    }
  ]
}