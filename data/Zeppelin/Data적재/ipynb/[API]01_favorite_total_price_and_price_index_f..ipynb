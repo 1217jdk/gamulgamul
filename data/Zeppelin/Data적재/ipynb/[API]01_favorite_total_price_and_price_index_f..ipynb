﻿{
  "metadata": {
    "name": "[API]01_favorite_total_price_and_price_index_f",
    "kernelspec": {
      "language": "scala",
      "name": "spark2-scala"
    },
    "language_info": {
      "codemirror_mode": "text/x-scala",
      "file_extension": ".scala",
      "mimetype": "text/x-scala",
      "name": "scala",
      "pygments_lexer": "scala"
    }
  },
  "nbformat": 4,
  "nbformat_minor": 2,
  "cells": [
    {
      "cell_type": "code",
      "execution_count": 0,
      "metadata": {
        "autoscroll": "auto"
      },
      "outputs": [],
      "source": "4%spark.conf\n\nSPARK_HOME  /usr/local/spark\nPYSPARK_PYTHON /usr/bin/python3\nspark.pyspark.python  /usr/bin/python3\n\n# set driver memory to 8g\nspark.driver.memory 8g\n\n# set executor number to be 3\nspark.executor.instances  3\n\n# set executor memory 4g\nspark.executor.memory  2g\n\n# Any other spark properties can be set here. Here\u0027s avaliable spark configruation you can set. (http://spark.apache.org/docs/latest/configuration.html)"
    },
    {
      "cell_type": "markdown",
      "metadata": {},
      "source": "# 1. 즐겨찾기 지수 계산 \u0026 즐겨찾기 총가격 계산\n+ 계산에 쓰이는 DB table\n    + 즐겨찾기 지수 -\u003e price_index에 입력\n        + favorite_goods, product_price, product\n        + goodsId_productId.pickle\n    + 즐겨찾기 총가격 -\u003e favorite_total_price에 입력\n        + favorite_goods, goods_price       "
    },
    {
      "cell_type": "code",
      "execution_count": 2,
      "metadata": {
        "autoscroll": "auto"
      },
      "outputs": [],
      "source": "%pyspark\nimport requests\n \n# notebook 번호 2HG47WXRQ\n# paragraph  paragraph_1663754976707_2131716080\n\n\n# 즐겨찾기 지수계산\n\n# dynanic form으로 API 요청 시, 채워짐\nuser_id \u003d z.textbox(\u0027user_id\u0027,\u00270\u0027)\n\n# url \u003d \"jdbc:mysql://j7d108.p.ssafy.io:3306/spark_test?useSSL\u003dfalse\u0026characterEncoding\u003dUTF-8\u0026useUnicode\u003dtrue\u0026allowPublicKeyRetrieval\u003dtrue\u0026serverTimezone\u003dAsia/Seoul\"\nurl \u003d \"jdbc:mysql://j7d108.p.ssafy.io:3306/gamulgamul_test3?useSSL\u003dfalse\u0026characterEncoding\u003dUTF-8\u0026useUnicode\u003dtrue\u0026allowPublicKeyRetrieval\u003dtrue\u0026serverTimezone\u003dAsia/Seoul\"\nprop \u003d {\"user\": \"ji\", \"password\": \"cvgkbhs234r#8tdx\", \"driver\": \"com.mysql.cj.jdbc.Driver\"} \n#-----------------------------------------------------------------------------------------------------------------------------------------------------#\n#                                               1. common\n#-----------------------------------------------------------------------------------------------------------------------------------------------------#\n\n# 1. favorite_goods table (columns : user_id, goods_id) 가져온 후, 해당하는 user_id의 data만 가져오기\nfavorite_goods_sdf \u003d spark.read.format(\"jdbc\")\\\n    .option(\"url\", url) \\\n    .option(\"driver\", \"com.mysql.cj.jdbc.Driver\")\\\n    .option(\"query\", f\"select goods_id from favorite_goods where user_id\u003d{user_id}\") \\\n    .option(\"user\", \"ji\")\\\n    .option(\"password\", \"cvgkbhs234r#8tdx\").load()\nfavorite_goods_sdf.show()\ngoods_id_tuple \u003d tuple(favorite_goods_sdf.toPandas()[\u0027goods_id\u0027])\n\nprint(\u0027goods_id_tuple : \u0027, goods_id_tuple)\n\n\n# 2-1. 즐겨찾기 지수 { goods_id : product_id } 를 이용해서, product_id 구하기\nimport pickle\nwith open(\u0027/DB_data/goodsId_productId.pickle\u0027, \u0027rb\u0027) as fr:\n    goodsId_productId \u003d pickle.load(fr)\n\nproduct_id_tuple \u003d tuple({ goodsId_productId[goods_id] for goods_id in goods_id_tuple })\n\nprint(\u0027product_id_tuple : \u0027, product_id_tuple)\n\n\n#-----------------------------------------------------------------------------------------------------------------------------------------------------#\n#                                               2. price_index\n#-----------------------------------------------------------------------------------------------------------------------------------------------------#\n\n\n\n\n\n###### date_type column 명 수정 필요\n# 3-1 : 즐겨찾기 지수   product_id들 이용해서, product_price table date_type\u003dm (product_id, unit_price, research_date ) , product table (product_id, weight)\n\n# 경우 1 : product_id_tuple 의 길이가 2이상인 경우 product_id_tuple\u003d(1,2,5)\n\nif len(product_id_tuple) \u003e\u003d 2:\n    product_price_sdf \u003d spark.read.format(\"jdbc\")\\\n        .option(\"url\", url) \\\n        .option(\"driver\", \"com.mysql.cj.jdbc.Driver\")\\\n        .option(\"query\", f\"select product_id, unit_price, research_date from product_price where date_type\u003d\u0027m\u0027 and product_id in {product_id_tuple}\") \\\n        .option(\"user\", \"ji\")\\\n        .option(\"password\", \"cvgkbhs234r#8tdx\").load()\n\n\n# 경우 2: product_id_tuple 의 길이가 1인 경우 product_id_tuple\u003d(5,)  -\u003e , 때문에 sql문 where in 에 못 넣음\nelif len(product_id_tuple) \u003d\u003d 1:\n    product_price_sdf \u003d spark.read.format(\"jdbc\")\\\n        .option(\"url\", url) \\\n        .option(\"driver\", \"com.mysql.cj.jdbc.Driver\")\\\n        .option(\"query\", f\"select product_id, unit_price, research_date from product_price where date_type\u003d\u0027m\u0027 and product_id\u003d{product_id_tuple[0]}\") \\\n        .option(\"user\", \"ji\")\\\n        .option(\"password\", \"cvgkbhs234r#8tdx\").load()    \nproduct_price_sdf.show()\n    \n    \n    \n    \n    \n    \nproduct_sdf \u003d spark.read.format(\"jdbc\")\\\n    .option(\"url\", url) \\\n    .option(\"driver\", \"com.mysql.cj.jdbc.Driver\")\\\n    .option(\"query\", f\"select product_id, weight from product\") \\\n    .option(\"user\", \"ji\")\\\n    .option(\"password\", \"cvgkbhs234r#8tdx\").load()\n# product_sdf.show()\n\n\n\n\n# 4. 연산하기\n# 4-1 : 즐겨찾기 지수 product_price table m 과 product table  product_id로 left join하고, price*weight column 생성 (product_id, price, research_date, weight, price*weight )\nfrom pyspark.sql.functions import col, sum, lit, round\n\nprice_weight_sdf \u003d product_price_sdf.join(product_sdf, product_price_sdf[\u0027product_id\u0027] \u003d\u003d product_sdf[\u0027product_id\u0027], how\u003d\u0027left\u0027)\nprice_weight_sdf \u003d price_weight_sdf.withColumn(\u0027price*weight\u0027, price_weight_sdf[\u0027unit_price\u0027]*price_weight_sdf[\u0027weight\u0027])\n# price_weight_sdf.show()\n\nindex_sdf \u003d price_weight_sdf.groupBy(\u0027research_date\u0027).agg(sum(col(\u0027price*weight\u0027)).alias(\u0027sum_value\u0027))\nindex_sdf \u003d index_sdf.withColumn(\u0027value\u0027, round(index_sdf[\u0027sum_value\u0027]/index_sdf.filter(col(\u0027research_date\u0027)\u003d\u003d\u00272020-01-01\u0027).first()[1]*100,2))      # index 계산시 주석 풀고, 이용하기\n\n# index_sdf.show()\nindex_sdf \u003d index_sdf.withColumn(\u0027user_id\u0027,lit(user_id))\nindex_sdf \u003d index_sdf.withColumn(\u0027index_type\u0027,lit(\u0027f\u0027))\nindex_sdf \u003d index_sdf.select(\u0027user_id\u0027,\u0027research_date\u0027,\u0027value\u0027,\u0027index_type\u0027)\n# print(\u0027\u003d\u003d\u003d\u003d\u003d\u003d\u003d\u003d\u003d\u003d\u003d\u003d\u003d\u003d\u003d\u003d\u003d\u003d\u003d\u003d\u003d\u003d\u003d\u003d\u003d\u003d\u003d\u0027)\n# index_sdf.show()\n\n\n# 5. 최종 write \nindex_sdf.write.jdbc(\\\n    url\u003d url,\\\n    table \u003d \"price_index\",\\\n    mode\u003d\"append\",\\\n    properties\u003dprop)\n\n\n\n\n\n#-----------------------------------------------------------------------------------------------------------------------------------------------------#\n#                                               3. favorite_total_price\n#-----------------------------------------------------------------------------------------------------------------------------------------------------#\n\n# 3-2 : 즐겨찾기 가격   goods_id들 이용해서,   goods_price table (goods_id, price, research_date,  business) \nprint(\u0027goods_id_tuple : \u0027, goods_id_tuple)\nif len(goods_id_tuple) \u003e\u003d2:\n    goods_price_sdf \u003d spark.read.format(\"jdbc\")\\\n        .option(\"url\", url) \\\n        .option(\"driver\", \"com.mysql.cj.jdbc.Driver\")\\\n        .option(\"query\", f\"select goods_id, unit_price, price, research_date, business from goods_price where goods_id in {goods_id_tuple}\") \\\n        .option(\"user\", \"ji\")\\\n        .option(\"password\", \"cvgkbhs234r#8tdx\").load()\n        \n\nelif len(goods_id_tuple)\u003d\u003d1:\n    goods_price_sdf \u003d spark.read.format(\"jdbc\")\\\n        .option(\"url\", url) \\\n        .option(\"driver\", \"com.mysql.cj.jdbc.Driver\")\\\n        .option(\"query\", f\"select goods_id, unit_price, price, research_date, business from goods_price where goods_id \u003d {goods_id_tuple[0]}\") \\\n        .option(\"user\", \"ji\")\\\n        .option(\"password\", \"cvgkbhs234r#8tdx\").load()    \n\n\nelse: # 임시로 넣어두기. DB에서 데이터 있는 경우에만 요청 보내도록?\n    goods_price_sdf \u003d spark.read.format(\"jdbc\")\\\n        .option(\"url\", url) \\\n        .option(\"driver\", \"com.mysql.cj.jdbc.Driver\")\\\n        .option(\"query\", f\"select goods_id, unit_price, price, research_date, business from goods_price\") \\\n        .option(\"user\", \"ji\")\\\n        .option(\"password\", \"cvgkbhs234r#8tdx\").load()   \n    \n# goods_price_sdf.show()\n\n\n\n\n\n# 4-2 : 즐겨찾기 가격 goods_price_sdf (goods_id, unit_price, price, research_date, business  ) 에 groupBy 해서,  ( user_id, total_price, research_date, business ) 만들기\n\nfavorite_total_price_sdf \u003d goods_price_sdf.groupBy(\u0027research_date\u0027,\u0027business\u0027).agg(sum(\u0027price\u0027).alias(\u0027total_price\u0027))\nfavorite_total_price_sdf \u003d favorite_total_price_sdf.withColumn(\u0027user_id\u0027,lit(user_id))\nfavorite_total_price_sdf \u003d favorite_total_price_sdf.select(\u0027user_id\u0027,\u0027total_price\u0027, \u0027research_date\u0027,\u0027business\u0027 )\n# favorite_total_price_sdf.show()\n\n\n# 5. 최종 write\n\nfavorite_total_price_sdf.write.jdbc(\\\n    url\u003d url,\\\n    table \u003d \"favorite_total_price\",\\\n    mode\u003d\"append\",\\\n    properties\u003dprop)\n\n\n\n"
    },
    {
      "cell_type": "code",
      "execution_count": 3,
      "metadata": {
        "autoscroll": "auto"
      },
      "outputs": [],
      "source": "%MySQL\nselect * from favorite_goods;"
    },
    {
      "cell_type": "code",
      "execution_count": 4,
      "metadata": {
        "autoscroll": "auto"
      },
      "outputs": [],
      "source": "%MySQL\nselect * from price_index;"
    },
    {
      "cell_type": "code",
      "execution_count": 5,
      "metadata": {
        "autoscroll": "auto"
      },
      "outputs": [],
      "source": "%MySQL\nselect * from favorite_total_price;"
    },
    {
      "cell_type": "raw",
      "metadata": {
        "format": "text/plain"
      },
      "source": "%MySQL\n"
    }
  ]
}